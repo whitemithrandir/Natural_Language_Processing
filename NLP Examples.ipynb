{
 "cells": [
  {
   "cell_type": "code",
   "execution_count": 19,
   "id": "be5c5369",
   "metadata": {},
   "outputs": [],
   "source": [
    "from nltk.tokenize import sent_tokenize, word_tokenize"
   ]
  },
  {
   "cell_type": "code",
   "execution_count": 20,
   "id": "25d5f5c8",
   "metadata": {},
   "outputs": [],
   "source": [
    "text = \"Alan Turing, İngiliz matematikçi, bilgisayar bilimcisi ve kriptolog. Bilgisayar biliminin kurucusu sayılır. Geliştirmiş oldugu Turing testi ile makinelerin ve bilgisayarların düşünme yetisine sahip olup olamayacakları konusunda bir kriter öne sürmüştür.\""
   ]
  },
  {
   "cell_type": "code",
   "execution_count": 21,
   "id": "3faa2bc2",
   "metadata": {},
   "outputs": [
    {
     "data": {
      "text/plain": [
       "['Alan',\n",
       " 'Turing,',\n",
       " 'İngiliz',\n",
       " 'matematikçi,',\n",
       " 'bilgisayar',\n",
       " 'bilimcisi',\n",
       " 've',\n",
       " 'kriptolog.',\n",
       " 'Bilgisayar',\n",
       " 'biliminin',\n",
       " 'kurucusu',\n",
       " 'sayılır.',\n",
       " 'Geliştirmiş',\n",
       " 'oldugu',\n",
       " 'Turing',\n",
       " 'testi',\n",
       " 'ile',\n",
       " 'makinelerin',\n",
       " 've',\n",
       " 'bilgisayarların',\n",
       " 'düşünme',\n",
       " 'yetisine',\n",
       " 'sahip',\n",
       " 'olup',\n",
       " 'olamayacakları',\n",
       " 'konusunda',\n",
       " 'bir',\n",
       " 'kriter',\n",
       " 'öne',\n",
       " 'sürmüştür.']"
      ]
     },
     "execution_count": 21,
     "metadata": {},
     "output_type": "execute_result"
    }
   ],
   "source": [
    "text.split()"
   ]
  },
  {
   "cell_type": "code",
   "execution_count": 22,
   "id": "fa8698e6",
   "metadata": {},
   "outputs": [
    {
     "data": {
      "text/plain": [
       "['Alan',\n",
       " 'Turing',\n",
       " ',',\n",
       " 'İngiliz',\n",
       " 'matematikçi',\n",
       " ',',\n",
       " 'bilgisayar',\n",
       " 'bilimcisi',\n",
       " 've',\n",
       " 'kriptolog',\n",
       " '.',\n",
       " 'Bilgisayar',\n",
       " 'biliminin',\n",
       " 'kurucusu',\n",
       " 'sayılır',\n",
       " '.',\n",
       " 'Geliştirmiş',\n",
       " 'oldugu',\n",
       " 'Turing',\n",
       " 'testi',\n",
       " 'ile',\n",
       " 'makinelerin',\n",
       " 've',\n",
       " 'bilgisayarların',\n",
       " 'düşünme',\n",
       " 'yetisine',\n",
       " 'sahip',\n",
       " 'olup',\n",
       " 'olamayacakları',\n",
       " 'konusunda',\n",
       " 'bir',\n",
       " 'kriter',\n",
       " 'öne',\n",
       " 'sürmüştür',\n",
       " '.']"
      ]
     },
     "execution_count": 22,
     "metadata": {},
     "output_type": "execute_result"
    }
   ],
   "source": [
    "word_tokenize(text)"
   ]
  },
  {
   "cell_type": "code",
   "execution_count": 23,
   "id": "9cf3f333",
   "metadata": {},
   "outputs": [
    {
     "data": {
      "text/plain": [
       "['Alan Turing, İngiliz matematikçi, bilgisayar bilimcisi ve kriptolog.',\n",
       " 'Bilgisayar biliminin kurucusu sayılır.',\n",
       " 'Geliştirmiş oldugu Turing testi ile makinelerin ve bilgisayarların düşünme yetisine sahip olup olamayacakları konusunda bir kriter öne sürmüştür.']"
      ]
     },
     "execution_count": 23,
     "metadata": {},
     "output_type": "execute_result"
    }
   ],
   "source": [
    "sent_tokenize(text)"
   ]
  },
  {
   "cell_type": "code",
   "execution_count": 24,
   "id": "f84593a0",
   "metadata": {
    "scrolled": true
   },
   "outputs": [
    {
     "name": "stdout",
     "output_type": "stream",
     "text": [
      "Alan\n",
      "Turing\n",
      ",\n",
      "İngiliz\n",
      "matematikçi\n",
      ",\n",
      "bilgisayar\n",
      "bilimcisi\n",
      "ve\n",
      "kriptolog\n",
      ".\n",
      "Bilgisayar\n",
      "biliminin\n",
      "kurucusu\n",
      "sayılır\n",
      ".\n",
      "Geliştirmiş\n",
      "oldugu\n",
      "Turing\n",
      "testi\n",
      "ile\n",
      "makinelerin\n",
      "ve\n",
      "bilgisayarların\n",
      "düşünme\n",
      "yetisine\n",
      "sahip\n",
      "olup\n",
      "olamayacakları\n",
      "konusunda\n",
      "bir\n",
      "kriter\n",
      "öne\n",
      "sürmüştür\n",
      ".\n"
     ]
    }
   ],
   "source": [
    "for token in word_tokenize(text):\n",
    "    print(token)"
   ]
  },
  {
   "cell_type": "code",
   "execution_count": null,
   "id": "4720f45b",
   "metadata": {},
   "outputs": [],
   "source": []
  },
  {
   "cell_type": "code",
   "execution_count": null,
   "id": "9f2faa0e",
   "metadata": {},
   "outputs": [],
   "source": []
  },
  {
   "cell_type": "markdown",
   "id": "66c7b88b",
   "metadata": {},
   "source": [
    "## stop words"
   ]
  },
  {
   "cell_type": "code",
   "execution_count": 37,
   "id": "5fb605aa",
   "metadata": {},
   "outputs": [],
   "source": [
    "from nltk.corpus import stopwords\n",
    "from nltk.tokenize import word_tokenize"
   ]
  },
  {
   "cell_type": "code",
   "execution_count": 38,
   "id": "636ab766",
   "metadata": {},
   "outputs": [],
   "source": [
    "text = 'Fazıl Say is a Turkish pianist and composer who was born in Ankara, described recently as \"not merely a pianist of genius; but undoubtedly he will be one of the great artists of the twenty-first century\".'"
   ]
  },
  {
   "cell_type": "code",
   "execution_count": 39,
   "id": "85f2a845",
   "metadata": {},
   "outputs": [
    {
     "name": "stdout",
     "output_type": "stream",
     "text": [
      "['i', 'me', 'my', 'myself', 'we', 'our', 'ours', 'ourselves', 'you', \"you're\", \"you've\", \"you'll\", \"you'd\", 'your', 'yours', 'yourself', 'yourselves', 'he', 'him', 'his', 'himself', 'she', \"she's\", 'her', 'hers', 'herself', 'it', \"it's\", 'its', 'itself', 'they', 'them', 'their', 'theirs', 'themselves', 'what', 'which', 'who', 'whom', 'this', 'that', \"that'll\", 'these', 'those', 'am', 'is', 'are', 'was', 'were', 'be', 'been', 'being', 'have', 'has', 'had', 'having', 'do', 'does', 'did', 'doing', 'a', 'an', 'the', 'and', 'but', 'if', 'or', 'because', 'as', 'until', 'while', 'of', 'at', 'by', 'for', 'with', 'about', 'against', 'between', 'into', 'through', 'during', 'before', 'after', 'above', 'below', 'to', 'from', 'up', 'down', 'in', 'out', 'on', 'off', 'over', 'under', 'again', 'further', 'then', 'once', 'here', 'there', 'when', 'where', 'why', 'how', 'all', 'any', 'both', 'each', 'few', 'more', 'most', 'other', 'some', 'such', 'no', 'nor', 'not', 'only', 'own', 'same', 'so', 'than', 'too', 'very', 's', 't', 'can', 'will', 'just', 'don', \"don't\", 'should', \"should've\", 'now', 'd', 'll', 'm', 'o', 're', 've', 'y', 'ain', 'aren', \"aren't\", 'couldn', \"couldn't\", 'didn', \"didn't\", 'doesn', \"doesn't\", 'hadn', \"hadn't\", 'hasn', \"hasn't\", 'haven', \"haven't\", 'isn', \"isn't\", 'ma', 'mightn', \"mightn't\", 'mustn', \"mustn't\", 'needn', \"needn't\", 'shan', \"shan't\", 'shouldn', \"shouldn't\", 'wasn', \"wasn't\", 'weren', \"weren't\", 'won', \"won't\", 'wouldn', \"wouldn't\"]\n"
     ]
    }
   ],
   "source": [
    "stopwords = stopwords.words('english')\n",
    "print(stopwords)"
   ]
  },
  {
   "cell_type": "code",
   "execution_count": 41,
   "id": "4ba7e861",
   "metadata": {},
   "outputs": [
    {
     "name": "stdout",
     "output_type": "stream",
     "text": [
      "['Fazıl', 'Say', 'is', 'a', 'Turkish', 'pianist', 'and', 'composer', 'who', 'was', 'born', 'in', 'Ankara', ',', 'described', 'recently', 'as', '``', 'not', 'merely', 'a', 'pianist', 'of', 'genius', ';', 'but', 'undoubtedly', 'he', 'will', 'be', 'one', 'of', 'the', 'great', 'artists', 'of', 'the', 'twenty-first', 'century', \"''\", '.']\n"
     ]
    }
   ],
   "source": [
    "words = word_tokenize(text)\n",
    "print(words)"
   ]
  },
  {
   "cell_type": "code",
   "execution_count": 43,
   "id": "428e07cc",
   "metadata": {},
   "outputs": [
    {
     "name": "stdout",
     "output_type": "stream",
     "text": [
      "['Fazıl', 'Say', 'Turkish', 'pianist', 'composer', 'born', 'Ankara', ',', 'described', 'recently', '``', 'merely', 'pianist', 'genius', ';', 'undoubtedly', 'one', 'great', 'artists', 'twenty-first', 'century', \"''\", '.']\n"
     ]
    }
   ],
   "source": [
    "filtered_words = []\n",
    "for i in words:\n",
    "    if i not in stopwords:\n",
    "        filtered_words.append(i)\n",
    "        \n",
    "print(filtered_words)"
   ]
  },
  {
   "cell_type": "code",
   "execution_count": null,
   "id": "d0c0f4ed",
   "metadata": {},
   "outputs": [],
   "source": []
  },
  {
   "cell_type": "code",
   "execution_count": null,
   "id": "634fbf67",
   "metadata": {},
   "outputs": [],
   "source": []
  },
  {
   "cell_type": "markdown",
   "id": "6f38a4ac",
   "metadata": {},
   "source": [
    "## Stemming"
   ]
  },
  {
   "cell_type": "code",
   "execution_count": 44,
   "id": "eedbe970",
   "metadata": {},
   "outputs": [],
   "source": [
    "from nltk.stem import PorterStemmer\n",
    "ps = PorterStemmer()"
   ]
  },
  {
   "cell_type": "code",
   "execution_count": 45,
   "id": "9897a048",
   "metadata": {},
   "outputs": [],
   "source": [
    "words = ['drive', 'driving', 'driver', 'drives', 'drove', 'cats', 'children']"
   ]
  },
  {
   "cell_type": "code",
   "execution_count": 46,
   "id": "7ff72aab",
   "metadata": {},
   "outputs": [
    {
     "name": "stdout",
     "output_type": "stream",
     "text": [
      "drive\n",
      "drive\n",
      "driver\n",
      "drive\n",
      "drove\n",
      "cat\n",
      "children\n"
     ]
    }
   ],
   "source": [
    "for w in words:\n",
    "    print(ps.stem(w))"
   ]
  },
  {
   "cell_type": "code",
   "execution_count": null,
   "id": "7a57f62a",
   "metadata": {},
   "outputs": [],
   "source": []
  },
  {
   "cell_type": "code",
   "execution_count": null,
   "id": "1eaa6a95",
   "metadata": {},
   "outputs": [],
   "source": []
  },
  {
   "cell_type": "markdown",
   "id": "26a63806",
   "metadata": {},
   "source": [
    "## Part of Speech Tagging(PoST)"
   ]
  },
  {
   "cell_type": "code",
   "execution_count": 47,
   "id": "f4ef8686",
   "metadata": {},
   "outputs": [],
   "source": [
    "import nltk"
   ]
  },
  {
   "cell_type": "code",
   "execution_count": 48,
   "id": "a96e717a",
   "metadata": {},
   "outputs": [],
   "source": [
    "text = 'Friedrich Wilhelm Nietzsche was a German philosopher, cultural critic, composer, poet, philologist, and a Latin and Greek scholar whose work has exerted a profound influence on Western philosophy and modern intellectual history. He began his career as a classical philologist before turning to philosophy. He became the youngest ever to hold the Chair of Classical Philology at the University of Basel in 1869 at the age of 24. Nietzsche resigned in 1879 due to health problems that plagued him most of his life; he completed much of his core writing in the following decade. In 1889 at age 44, he suffered a collapse and afterward, a complete loss of his mental faculties. He lived his remaining years in the care of his mother until her death in 1897 and then with his sister Elisabeth Förster-Nietzsche. Nietzsche died in 1900.'"
   ]
  },
  {
   "cell_type": "code",
   "execution_count": 51,
   "id": "c35d5f78",
   "metadata": {},
   "outputs": [],
   "source": [
    "token = nltk.word_tokenize(text)"
   ]
  },
  {
   "cell_type": "code",
   "execution_count": 52,
   "id": "5629cd9b",
   "metadata": {},
   "outputs": [
    {
     "data": {
      "text/plain": [
       "[('Friedrich', 'NNP'),\n",
       " ('Wilhelm', 'NNP'),\n",
       " ('Nietzsche', 'NNP'),\n",
       " ('was', 'VBD'),\n",
       " ('a', 'DT'),\n",
       " ('German', 'JJ'),\n",
       " ('philosopher', 'NN'),\n",
       " (',', ','),\n",
       " ('cultural', 'JJ'),\n",
       " ('critic', 'NN'),\n",
       " (',', ','),\n",
       " ('composer', 'NN'),\n",
       " (',', ','),\n",
       " ('poet', 'NN'),\n",
       " (',', ','),\n",
       " ('philologist', 'NN'),\n",
       " (',', ','),\n",
       " ('and', 'CC'),\n",
       " ('a', 'DT'),\n",
       " ('Latin', 'NNP'),\n",
       " ('and', 'CC'),\n",
       " ('Greek', 'NNP'),\n",
       " ('scholar', 'NN'),\n",
       " ('whose', 'WP$'),\n",
       " ('work', 'NN'),\n",
       " ('has', 'VBZ'),\n",
       " ('exerted', 'VBN'),\n",
       " ('a', 'DT'),\n",
       " ('profound', 'JJ'),\n",
       " ('influence', 'NN'),\n",
       " ('on', 'IN'),\n",
       " ('Western', 'JJ'),\n",
       " ('philosophy', 'NN'),\n",
       " ('and', 'CC'),\n",
       " ('modern', 'JJ'),\n",
       " ('intellectual', 'JJ'),\n",
       " ('history', 'NN'),\n",
       " ('.', '.'),\n",
       " ('He', 'PRP'),\n",
       " ('began', 'VBD'),\n",
       " ('his', 'PRP$'),\n",
       " ('career', 'NN'),\n",
       " ('as', 'IN'),\n",
       " ('a', 'DT'),\n",
       " ('classical', 'JJ'),\n",
       " ('philologist', 'NN'),\n",
       " ('before', 'IN'),\n",
       " ('turning', 'VBG'),\n",
       " ('to', 'TO'),\n",
       " ('philosophy', 'NN'),\n",
       " ('.', '.'),\n",
       " ('He', 'PRP'),\n",
       " ('became', 'VBD'),\n",
       " ('the', 'DT'),\n",
       " ('youngest', 'JJS'),\n",
       " ('ever', 'RB'),\n",
       " ('to', 'TO'),\n",
       " ('hold', 'VB'),\n",
       " ('the', 'DT'),\n",
       " ('Chair', 'NNP'),\n",
       " ('of', 'IN'),\n",
       " ('Classical', 'NNP'),\n",
       " ('Philology', 'NNP'),\n",
       " ('at', 'IN'),\n",
       " ('the', 'DT'),\n",
       " ('University', 'NNP'),\n",
       " ('of', 'IN'),\n",
       " ('Basel', 'NNP'),\n",
       " ('in', 'IN'),\n",
       " ('1869', 'CD'),\n",
       " ('at', 'IN'),\n",
       " ('the', 'DT'),\n",
       " ('age', 'NN'),\n",
       " ('of', 'IN'),\n",
       " ('24', 'CD'),\n",
       " ('.', '.'),\n",
       " ('Nietzsche', 'NN'),\n",
       " ('resigned', 'VBD'),\n",
       " ('in', 'IN'),\n",
       " ('1879', 'CD'),\n",
       " ('due', 'JJ'),\n",
       " ('to', 'TO'),\n",
       " ('health', 'NN'),\n",
       " ('problems', 'NNS'),\n",
       " ('that', 'WDT'),\n",
       " ('plagued', 'VBD'),\n",
       " ('him', 'PRP'),\n",
       " ('most', 'JJS'),\n",
       " ('of', 'IN'),\n",
       " ('his', 'PRP$'),\n",
       " ('life', 'NN'),\n",
       " (';', ':'),\n",
       " ('he', 'PRP'),\n",
       " ('completed', 'VBD'),\n",
       " ('much', 'JJ'),\n",
       " ('of', 'IN'),\n",
       " ('his', 'PRP$'),\n",
       " ('core', 'NN'),\n",
       " ('writing', 'NN'),\n",
       " ('in', 'IN'),\n",
       " ('the', 'DT'),\n",
       " ('following', 'JJ'),\n",
       " ('decade', 'NN'),\n",
       " ('.', '.'),\n",
       " ('In', 'IN'),\n",
       " ('1889', 'CD'),\n",
       " ('at', 'IN'),\n",
       " ('age', 'NN'),\n",
       " ('44', 'CD'),\n",
       " (',', ','),\n",
       " ('he', 'PRP'),\n",
       " ('suffered', 'VBD'),\n",
       " ('a', 'DT'),\n",
       " ('collapse', 'NN'),\n",
       " ('and', 'CC'),\n",
       " ('afterward', 'RB'),\n",
       " (',', ','),\n",
       " ('a', 'DT'),\n",
       " ('complete', 'JJ'),\n",
       " ('loss', 'NN'),\n",
       " ('of', 'IN'),\n",
       " ('his', 'PRP$'),\n",
       " ('mental', 'JJ'),\n",
       " ('faculties', 'NNS'),\n",
       " ('.', '.'),\n",
       " ('He', 'PRP'),\n",
       " ('lived', 'VBD'),\n",
       " ('his', 'PRP$'),\n",
       " ('remaining', 'VBG'),\n",
       " ('years', 'NNS'),\n",
       " ('in', 'IN'),\n",
       " ('the', 'DT'),\n",
       " ('care', 'NN'),\n",
       " ('of', 'IN'),\n",
       " ('his', 'PRP$'),\n",
       " ('mother', 'NN'),\n",
       " ('until', 'IN'),\n",
       " ('her', 'PRP$'),\n",
       " ('death', 'NN'),\n",
       " ('in', 'IN'),\n",
       " ('1897', 'CD'),\n",
       " ('and', 'CC'),\n",
       " ('then', 'RB'),\n",
       " ('with', 'IN'),\n",
       " ('his', 'PRP$'),\n",
       " ('sister', 'NN'),\n",
       " ('Elisabeth', 'NNP'),\n",
       " ('Förster-Nietzsche', 'NNP'),\n",
       " ('.', '.'),\n",
       " ('Nietzsche', 'NNP'),\n",
       " ('died', 'VBD'),\n",
       " ('in', 'IN'),\n",
       " ('1900', 'CD'),\n",
       " ('.', '.')]"
      ]
     },
     "execution_count": 52,
     "metadata": {},
     "output_type": "execute_result"
    }
   ],
   "source": [
    "nltk.pos_tag(token)"
   ]
  },
  {
   "cell_type": "code",
   "execution_count": null,
   "id": "f9d4366a",
   "metadata": {},
   "outputs": [],
   "source": [
    "\"\"\"\n",
    "CC     coordinating conjunction\n",
    "CD     cardinal digit\n",
    "DT     determiner\n",
    "EX     existential there (like: \"there is\" ... think of it like \"there exists\")\n",
    "FW     foreign word\n",
    "IN     preposition/subordinating conjunction\n",
    "JJ     adjective 'big'\n",
    "JJR    adjective, comparative 'bigger'\n",
    "JJS    adjective, superlative 'biggest'\n",
    "LS     list marker 1)\n",
    "MD     modal could, will\n",
    "NN     noun, singular 'desk'\n",
    "NNS    noun plural 'desks'\n",
    "NNP    proper noun, singular 'Harrison'\n",
    "NNPS   proper noun, plural 'Americans'\n",
    "PDT    predeterminer 'all the kids'\n",
    "POS    possessive ending parent's\n",
    "PRP    personal pronoun I, he, she\n",
    "PRP$   possessive pronoun my, his, hers\n",
    "RB     adverb very, silently,\n",
    "RBR    adverb, comparative better\n",
    "RBS    adverb, superlative best\n",
    "RP     particle give up\n",
    "TO     to go 'to' the store.\n",
    "UH     interjection errrrrrrrm\n",
    "VB     verb, base form take\n",
    "VBD    verb, past tense took\n",
    "VBG    verb, gerund/present participle taking\n",
    "VBN    verb, past participle taken\n",
    "VBP    verb, sing. present, non-3d take\n",
    "VBZ    verb, 3rd person sing. present takes\n",
    "WDT    wh-determiner which\n",
    "WP     wh-pronoun who, what\n",
    "WP$    possessive wh-pronoun whose\n",
    "WRB    wh-abverb where, when\n",
    "\"\"\""
   ]
  },
  {
   "cell_type": "code",
   "execution_count": null,
   "id": "5fe11438",
   "metadata": {},
   "outputs": [],
   "source": []
  },
  {
   "cell_type": "code",
   "execution_count": null,
   "id": "03a48fee",
   "metadata": {},
   "outputs": [],
   "source": []
  },
  {
   "cell_type": "markdown",
   "id": "0b7ec6cf",
   "metadata": {},
   "source": [
    "## named entitiy recognition"
   ]
  },
  {
   "cell_type": "code",
   "execution_count": 54,
   "id": "126beb85",
   "metadata": {},
   "outputs": [],
   "source": [
    "text = \"Steve Jobs was an American entrepreneur and business magnate. He was the chairman, chief executive officer (CEO), and a co-founder of Apple Inc., chairman and majority shareholder of Pixar, a member of The Walt Disney Company's board of directors following its acquisition of Pixar, and the founder, chairman, and CEO of NeXT. Jobs is widely recognized as a pioneer of the microcomputer revolution of the 1970s and 1980s, along with Apple co-founder Steve Wozniak. \""
   ]
  },
  {
   "cell_type": "code",
   "execution_count": 55,
   "id": "511990d3",
   "metadata": {},
   "outputs": [
    {
     "data": {
      "text/plain": [
       "['Steve',\n",
       " 'Jobs',\n",
       " 'was',\n",
       " 'an',\n",
       " 'American',\n",
       " 'entrepreneur',\n",
       " 'and',\n",
       " 'business',\n",
       " 'magnate',\n",
       " '.',\n",
       " 'He',\n",
       " 'was',\n",
       " 'the',\n",
       " 'chairman',\n",
       " ',',\n",
       " 'chief',\n",
       " 'executive',\n",
       " 'officer',\n",
       " '(',\n",
       " 'CEO',\n",
       " ')',\n",
       " ',',\n",
       " 'and',\n",
       " 'a',\n",
       " 'co-founder',\n",
       " 'of',\n",
       " 'Apple',\n",
       " 'Inc.',\n",
       " ',',\n",
       " 'chairman',\n",
       " 'and',\n",
       " 'majority',\n",
       " 'shareholder',\n",
       " 'of',\n",
       " 'Pixar',\n",
       " ',',\n",
       " 'a',\n",
       " 'member',\n",
       " 'of',\n",
       " 'The',\n",
       " 'Walt',\n",
       " 'Disney',\n",
       " 'Company',\n",
       " \"'s\",\n",
       " 'board',\n",
       " 'of',\n",
       " 'directors',\n",
       " 'following',\n",
       " 'its',\n",
       " 'acquisition',\n",
       " 'of',\n",
       " 'Pixar',\n",
       " ',',\n",
       " 'and',\n",
       " 'the',\n",
       " 'founder',\n",
       " ',',\n",
       " 'chairman',\n",
       " ',',\n",
       " 'and',\n",
       " 'CEO',\n",
       " 'of',\n",
       " 'NeXT',\n",
       " '.',\n",
       " 'Jobs',\n",
       " 'is',\n",
       " 'widely',\n",
       " 'recognized',\n",
       " 'as',\n",
       " 'a',\n",
       " 'pioneer',\n",
       " 'of',\n",
       " 'the',\n",
       " 'microcomputer',\n",
       " 'revolution',\n",
       " 'of',\n",
       " 'the',\n",
       " '1970s',\n",
       " 'and',\n",
       " '1980s',\n",
       " ',',\n",
       " 'along',\n",
       " 'with',\n",
       " 'Apple',\n",
       " 'co-founder',\n",
       " 'Steve',\n",
       " 'Wozniak',\n",
       " '.']"
      ]
     },
     "execution_count": 55,
     "metadata": {},
     "output_type": "execute_result"
    }
   ],
   "source": [
    "tokenized = nltk.word_tokenize(text)\n",
    "tokenized"
   ]
  },
  {
   "cell_type": "code",
   "execution_count": 56,
   "id": "8ad7f7fd",
   "metadata": {},
   "outputs": [
    {
     "data": {
      "text/plain": [
       "[('Steve', 'NNP'),\n",
       " ('Jobs', 'NNP'),\n",
       " ('was', 'VBD'),\n",
       " ('an', 'DT'),\n",
       " ('American', 'JJ'),\n",
       " ('entrepreneur', 'NN'),\n",
       " ('and', 'CC'),\n",
       " ('business', 'NN'),\n",
       " ('magnate', 'NN'),\n",
       " ('.', '.'),\n",
       " ('He', 'PRP'),\n",
       " ('was', 'VBD'),\n",
       " ('the', 'DT'),\n",
       " ('chairman', 'NN'),\n",
       " (',', ','),\n",
       " ('chief', 'JJ'),\n",
       " ('executive', 'NN'),\n",
       " ('officer', 'NN'),\n",
       " ('(', '('),\n",
       " ('CEO', 'NNP'),\n",
       " (')', ')'),\n",
       " (',', ','),\n",
       " ('and', 'CC'),\n",
       " ('a', 'DT'),\n",
       " ('co-founder', 'NN'),\n",
       " ('of', 'IN'),\n",
       " ('Apple', 'NNP'),\n",
       " ('Inc.', 'NNP'),\n",
       " (',', ','),\n",
       " ('chairman', 'NN'),\n",
       " ('and', 'CC'),\n",
       " ('majority', 'NN'),\n",
       " ('shareholder', 'NN'),\n",
       " ('of', 'IN'),\n",
       " ('Pixar', 'NNP'),\n",
       " (',', ','),\n",
       " ('a', 'DT'),\n",
       " ('member', 'NN'),\n",
       " ('of', 'IN'),\n",
       " ('The', 'DT'),\n",
       " ('Walt', 'NNP'),\n",
       " ('Disney', 'NNP'),\n",
       " ('Company', 'NNP'),\n",
       " (\"'s\", 'POS'),\n",
       " ('board', 'NN'),\n",
       " ('of', 'IN'),\n",
       " ('directors', 'NNS'),\n",
       " ('following', 'VBG'),\n",
       " ('its', 'PRP$'),\n",
       " ('acquisition', 'NN'),\n",
       " ('of', 'IN'),\n",
       " ('Pixar', 'NNP'),\n",
       " (',', ','),\n",
       " ('and', 'CC'),\n",
       " ('the', 'DT'),\n",
       " ('founder', 'NN'),\n",
       " (',', ','),\n",
       " ('chairman', 'NN'),\n",
       " (',', ','),\n",
       " ('and', 'CC'),\n",
       " ('CEO', 'NNP'),\n",
       " ('of', 'IN'),\n",
       " ('NeXT', 'NNP'),\n",
       " ('.', '.'),\n",
       " ('Jobs', 'NNP'),\n",
       " ('is', 'VBZ'),\n",
       " ('widely', 'RB'),\n",
       " ('recognized', 'VBN'),\n",
       " ('as', 'IN'),\n",
       " ('a', 'DT'),\n",
       " ('pioneer', 'NN'),\n",
       " ('of', 'IN'),\n",
       " ('the', 'DT'),\n",
       " ('microcomputer', 'NN'),\n",
       " ('revolution', 'NN'),\n",
       " ('of', 'IN'),\n",
       " ('the', 'DT'),\n",
       " ('1970s', 'CD'),\n",
       " ('and', 'CC'),\n",
       " ('1980s', 'CD'),\n",
       " (',', ','),\n",
       " ('along', 'IN'),\n",
       " ('with', 'IN'),\n",
       " ('Apple', 'NNP'),\n",
       " ('co-founder', 'NN'),\n",
       " ('Steve', 'NNP'),\n",
       " ('Wozniak', 'NNP'),\n",
       " ('.', '.')]"
      ]
     },
     "execution_count": 56,
     "metadata": {},
     "output_type": "execute_result"
    }
   ],
   "source": [
    "tagged = nltk.pos_tag(tokenized)\n",
    "tagged"
   ]
  },
  {
   "cell_type": "code",
   "execution_count": 57,
   "id": "14bb411b",
   "metadata": {},
   "outputs": [],
   "source": [
    "named_ent = nltk.ne_chunk(tagged)"
   ]
  },
  {
   "cell_type": "code",
   "execution_count": 58,
   "id": "3cae3c89",
   "metadata": {},
   "outputs": [],
   "source": [
    "named_ent.draw()"
   ]
  },
  {
   "cell_type": "code",
   "execution_count": null,
   "id": "d42d4eca",
   "metadata": {},
   "outputs": [],
   "source": [
    "\"\"\"\n",
    "NE Türü         \tÖrnek\n",
    "ORGANIZATION    \tGeorgia-Pacific Corp., WHO\n",
    "PERSON          \tEddy Bonte, President Obama\n",
    "LOCATION        \tMurray River, Mount Everest\n",
    "DATE            \tJune, 2008-06-29\n",
    "TIME            \ttwo fifty a m, 1:30 p.m.\n",
    "MONEY           \t175 million Canadian Dollars, GBP 10.40\n",
    "PERCENT         \ttwenty pct, 18.75 %\n",
    "FACILITY        \tWashington Monument, Stonehenge\n",
    "GPE             \tSouth East Asia, Midlothian\n",
    "\"\"\""
   ]
  },
  {
   "cell_type": "code",
   "execution_count": null,
   "id": "dfceeebd",
   "metadata": {},
   "outputs": [],
   "source": []
  },
  {
   "cell_type": "code",
   "execution_count": null,
   "id": "bf2001d2",
   "metadata": {},
   "outputs": [],
   "source": []
  },
  {
   "cell_type": "code",
   "execution_count": null,
   "id": "a3e566b1",
   "metadata": {},
   "outputs": [],
   "source": []
  }
 ],
 "metadata": {
  "kernelspec": {
   "display_name": "Python 3 (ipykernel)",
   "language": "python",
   "name": "python3"
  },
  "language_info": {
   "codemirror_mode": {
    "name": "ipython",
    "version": 3
   },
   "file_extension": ".py",
   "mimetype": "text/x-python",
   "name": "python",
   "nbconvert_exporter": "python",
   "pygments_lexer": "ipython3",
   "version": "3.7.16"
  }
 },
 "nbformat": 4,
 "nbformat_minor": 5
}
