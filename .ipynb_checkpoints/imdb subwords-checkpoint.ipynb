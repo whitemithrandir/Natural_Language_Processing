{
 "cells": [
  {
   "cell_type": "markdown",
   "id": "62343f5e",
   "metadata": {},
   "source": [
    "## Ungraded Lab: Subword Tokenization with the IMDB Reviews Dataset\n",
    "\n",
    "In this lab, you will look at a pre-tokenized dataset that is using subword text encoding. This is an alternative to word-based tokenization which you have been using in the previous labs. You will see how it works and its implications on preparing your data and training your model.\n",
    "\n",
    "Let's begin!"
   ]
  },
  {
   "cell_type": "markdown",
   "id": "269d030b",
   "metadata": {},
   "source": [
    "## Download the IMDB reviews plain text and tokenized datasets\n",
    "\n",
    "First, you will download the [IMDB Reviews](https://www.tensorflow.org/datasets/catalog/imdb_reviews) dataset from Tensorflow Datasets. You will get two configurations:\n",
    "\n",
    "* `plain_text` - this is the default and the one you used in Lab 1 of this week\n",
    "* `subwords8k` - a pre-tokenized dataset (i.e. instead of sentences of type string, it will already give you the tokenized sequences). You will see how this looks in later sections."
   ]
  },
  {
   "cell_type": "code",
   "execution_count": 2,
   "id": "0d3eb3c9",
   "metadata": {},
   "outputs": [
    {
     "name": "stderr",
     "output_type": "stream",
     "text": [
      "C:\\Users\\saban.kara\\Anaconda3\\envs\\tga\\lib\\site-packages\\tqdm\\auto.py:22: TqdmWarning: IProgress not found. Please update jupyter and ipywidgets. See https://ipywidgets.readthedocs.io/en/stable/user_install.html\n",
      "  from .autonotebook import tqdm as notebook_tqdm\n",
      "WARNING:absl:TFDS datasets with text encoding are deprecated and will be removed in a future version. Instead, you should use the plain text version and tokenize the text using `tensorflow_text` (See: https://www.tensorflow.org/tutorials/tensorflow_text/intro#tfdata_example)\n"
     ]
    },
    {
     "name": "stdout",
     "output_type": "stream",
     "text": [
      "Downloading and preparing dataset Unknown size (download: Unknown size, generated: Unknown size, total: Unknown size) to C:\\Users\\saban.kara\\tensorflow_datasets\\imdb_reviews\\subwords8k\\1.0.0...\n"
     ]
    },
    {
     "name": "stderr",
     "output_type": "stream",
     "text": [
      "Dl Completed...: 0 url [00:00, ? url/s]\n",
      "Dl Completed...:   0%|                                                                         | 0/1 [00:00<?, ? url/s]\n",
      "Dl Completed...: 100%|████████████████████████████████████████████████████████████████| 1/1 [00:00<00:00, 249.91 url/s]\n",
      "Dl Completed...: 100%|████████████████████████████████████████████████████████████████| 1/1 [00:00<00:00, 166.59 url/s]\n",
      "Dl Completed...: 100%|████████████████████████████████████████████████████████████████| 1/1 [00:00<00:00, 142.81 url/s]\u001b[A\n",
      "Dl Size...: 100%|███████████████████████████████████████████████| 84125825/84125825 [00:00<00:00, 12015981076.14 MiB/s]\u001b[A\n",
      "Dl Completed...: 100%|████████████████████████████████████████████████████████████████| 1/1 [00:00<00:00, 111.09 url/s]\n",
      "Generating splits...:   0%|                                                                 | 0/3 [00:00<?, ? splits/s]\n",
      "Generating train examples...: 0 examples [00:00, ? examples/s]\u001b[A\n",
      "Generating train examples...: 1 examples [00:01,  1.83s/ examples]\u001b[A\n",
      "Generating train examples...: 130 examples [00:01, 93.90 examples/s]\u001b[A\n",
      "Generating train examples...: 277 examples [00:02, 222.87 examples/s]\u001b[A\n",
      "Generating train examples...: 441 examples [00:02, 390.20 examples/s]\u001b[A\n",
      "Generating train examples...: 578 examples [00:02, 531.61 examples/s]\u001b[A\n",
      "Generating train examples...: 711 examples [00:02, 660.16 examples/s]\u001b[A\n",
      "Generating train examples...: 849 examples [00:02, 798.51 examples/s]\u001b[A\n",
      "Generating train examples...: 1017 examples [00:02, 989.76 examples/s]\u001b[A\n",
      "Generating train examples...: 1182 examples [00:02, 1143.39 examples/s]\u001b[A\n",
      "Generating train examples...: 1342 examples [00:02, 1258.49 examples/s]\u001b[A\n",
      "Generating train examples...: 1495 examples [00:02, 1013.51 examples/s]\u001b[A\n",
      "Generating train examples...: 1644 examples [00:03, 1120.07 examples/s]\u001b[A\n",
      "Generating train examples...: 1804 examples [00:03, 1236.25 examples/s]\u001b[A\n",
      "Generating train examples...: 1958 examples [00:03, 1314.25 examples/s]\u001b[A\n",
      "Generating train examples...: 2104 examples [00:03, 1349.69 examples/s]\u001b[A\n",
      "Generating train examples...: 2266 examples [00:03, 1424.41 examples/s]\u001b[A\n",
      "Generating train examples...: 2432 examples [00:03, 1491.06 examples/s]\u001b[A\n",
      "Generating train examples...: 2606 examples [00:03, 1562.68 examples/s]\u001b[A\n",
      "Generating train examples...: 2774 examples [00:03, 1596.78 examples/s]\u001b[A\n",
      "Generating train examples...: 2937 examples [00:03, 1592.39 examples/s]\u001b[A\n",
      "Generating train examples...: 3099 examples [00:03, 1586.41 examples/s]\u001b[A\n",
      "Generating train examples...: 3262 examples [00:04, 1599.12 examples/s]\u001b[A\n",
      "Generating train examples...: 3424 examples [00:04, 1541.37 examples/s]\u001b[A\n",
      "Generating train examples...: 3580 examples [00:04, 1533.37 examples/s]\u001b[A\n",
      "Generating train examples...: 3735 examples [00:04, 1516.10 examples/s]\u001b[A\n",
      "Generating train examples...: 3904 examples [00:04, 1566.43 examples/s]\u001b[A\n",
      "Generating train examples...: 4062 examples [00:04, 1521.27 examples/s]\u001b[A\n",
      "Generating train examples...: 4217 examples [00:04, 1529.46 examples/s]\u001b[A\n",
      "Generating train examples...: 4383 examples [00:04, 1567.45 examples/s]\u001b[A\n",
      "Generating train examples...: 4541 examples [00:04, 1552.76 examples/s]\u001b[A\n",
      "Generating train examples...: 4697 examples [00:05, 1536.74 examples/s]\u001b[A\n",
      "Generating train examples...: 4861 examples [00:05, 1566.89 examples/s]\u001b[A\n",
      "Generating train examples...: 5031 examples [00:05, 1606.06 examples/s]\u001b[A\n",
      "Generating train examples...: 5212 examples [00:05, 1666.41 examples/s]\u001b[A\n",
      "Generating train examples...: 5381 examples [00:05, 1673.31 examples/s]\u001b[A\n",
      "Generating train examples...: 5549 examples [00:05, 1640.93 examples/s]\u001b[A\n",
      "Generating train examples...: 5714 examples [00:05, 1633.87 examples/s]\u001b[A\n",
      "Generating train examples...: 5880 examples [00:05, 1641.47 examples/s]\u001b[A\n",
      "Generating train examples...: 6045 examples [00:05, 1643.88 examples/s]\u001b[A\n",
      "Generating train examples...: 6210 examples [00:05, 1593.45 examples/s]\u001b[A\n",
      "Generating train examples...: 6392 examples [00:06, 1659.38 examples/s]\u001b[A\n",
      "Generating train examples...: 6566 examples [00:06, 1679.20 examples/s]\u001b[A\n",
      "Generating train examples...: 6736 examples [00:06, 1685.23 examples/s]\u001b[A\n",
      "Generating train examples...: 6918 examples [00:06, 1716.01 examples/s]\u001b[A\n",
      "Generating train examples...: 7090 examples [00:06, 1691.99 examples/s]\u001b[A\n",
      "Generating train examples...: 7275 examples [00:06, 1738.40 examples/s]\u001b[A\n",
      "Generating train examples...: 7450 examples [00:06, 1700.94 examples/s]\u001b[A\n",
      "Generating train examples...: 7621 examples [00:06, 1678.93 examples/s]\u001b[A\n",
      "Generating train examples...: 7790 examples [00:07, 1149.21 examples/s]\u001b[A\n",
      "Generating train examples...: 7943 examples [00:07, 1233.50 examples/s]\u001b[A\n",
      "Generating train examples...: 8096 examples [00:07, 1304.70 examples/s]\u001b[A\n",
      "Generating train examples...: 8276 examples [00:07, 1431.22 examples/s]\u001b[A\n",
      "Generating train examples...: 8432 examples [00:07, 1465.58 examples/s]\u001b[A\n",
      "Generating train examples...: 8601 examples [00:07, 1527.52 examples/s]\u001b[A\n",
      "Generating train examples...: 8781 examples [00:07, 1604.56 examples/s]\u001b[A\n",
      "Generating train examples...: 8947 examples [00:07, 1611.14 examples/s]\u001b[A\n",
      "Generating train examples...: 9126 examples [00:07, 1662.95 examples/s]\u001b[A\n",
      "Generating train examples...: 9296 examples [00:07, 1654.30 examples/s]\u001b[A\n",
      "Generating train examples...: 9471 examples [00:08, 1682.20 examples/s]\u001b[A\n",
      "Generating train examples...: 9656 examples [00:08, 1731.56 examples/s]\u001b[A\n",
      "Generating train examples...: 9834 examples [00:08, 1745.80 examples/s]\u001b[A\n",
      "Generating train examples...: 10016 examples [00:08, 1767.75 examples/s]\u001b[A\n",
      "Generating train examples...: 10194 examples [00:08, 1745.26 examples/s]\u001b[A\n",
      "Generating train examples...: 10375 examples [00:08, 1764.28 examples/s]\u001b[A\n",
      "Generating train examples...: 10552 examples [00:08, 1760.63 examples/s]\u001b[A\n",
      "Generating train examples...: 10729 examples [00:08, 1742.58 examples/s]\u001b[A\n",
      "Generating train examples...: 10917 examples [00:08, 1783.08 examples/s]\u001b[A\n",
      "Generating train examples...: 11096 examples [00:08, 1748.67 examples/s]\u001b[A\n",
      "Generating train examples...: 11272 examples [00:09, 1701.92 examples/s]\u001b[A\n",
      "Generating train examples...: 11443 examples [00:09, 1679.83 examples/s]\u001b[A\n",
      "Generating train examples...: 11612 examples [00:09, 1644.57 examples/s]\u001b[A\n",
      "Generating train examples...: 11777 examples [00:09, 1608.97 examples/s]\u001b[A\n",
      "Generating train examples...: 11940 examples [00:09, 1614.89 examples/s]\u001b[A\n",
      "Generating train examples...: 12102 examples [00:09, 1523.31 examples/s]\u001b[A\n",
      "Generating train examples...: 12256 examples [00:09, 1519.36 examples/s]\u001b[A\n",
      "Generating train examples...: 12421 examples [00:09, 1552.11 examples/s]\u001b[A\n",
      "Generating train examples...: 12589 examples [00:09, 1588.98 examples/s]\u001b[A\n",
      "Generating train examples...: 12749 examples [00:09, 1587.45 examples/s]\u001b[A\n",
      "Generating train examples...: 12919 examples [00:10, 1620.43 examples/s]\u001b[A\n",
      "Generating train examples...: 13090 examples [00:10, 1646.80 examples/s]\u001b[A\n",
      "Generating train examples...: 13261 examples [00:10, 1665.46 examples/s]\u001b[A\n",
      "Generating train examples...: 13428 examples [00:10, 1637.42 examples/s]\u001b[A\n",
      "Generating train examples...: 13592 examples [00:10, 1573.15 examples/s]\u001b[A\n",
      "Generating train examples...: 13764 examples [00:10, 1615.33 examples/s]\u001b[A\n",
      "Generating train examples...: 13927 examples [00:10, 1591.66 examples/s]\u001b[A\n",
      "Generating train examples...: 14087 examples [00:10, 1584.77 examples/s]\u001b[A\n",
      "Generating train examples...: 14254 examples [00:10, 1609.55 examples/s]\u001b[A\n",
      "Generating train examples...: 14422 examples [00:11, 1630.18 examples/s]\u001b[A\n",
      "Generating train examples...: 14592 examples [00:11, 1650.73 examples/s]\u001b[A\n",
      "Generating train examples...: 14770 examples [00:11, 1689.03 examples/s]\u001b[A\n",
      "Generating train examples...: 14950 examples [00:11, 1721.99 examples/s]\u001b[A\n",
      "Generating train examples...: 15123 examples [00:11, 1698.90 examples/s]\u001b[A\n",
      "Generating train examples...: 15295 examples [00:11, 1705.02 examples/s]\u001b[A\n",
      "Generating train examples...: 15466 examples [00:11, 1686.35 examples/s]\u001b[A\n",
      "Generating train examples...: 15635 examples [00:11, 1687.31 examples/s]\u001b[A\n",
      "Generating train examples...: 15816 examples [00:11, 1723.61 examples/s]\u001b[A\n"
     ]
    },
    {
     "name": "stderr",
     "output_type": "stream",
     "text": [
      "Generating train examples...: 15989 examples [00:11, 1661.10 examples/s]\u001b[A\n",
      "Generating train examples...: 16156 examples [00:12, 1610.18 examples/s]\u001b[A\n",
      "Generating train examples...: 16318 examples [00:12, 1587.78 examples/s]\u001b[A\n",
      "Generating train examples...: 16490 examples [00:12, 1620.99 examples/s]\u001b[A\n",
      "Generating train examples...: 16653 examples [00:12, 1534.39 examples/s]\u001b[A\n",
      "Generating train examples...: 16810 examples [00:12, 1544.32 examples/s]\u001b[A\n",
      "Generating train examples...: 16966 examples [00:12, 1518.23 examples/s]\u001b[A\n",
      "Generating train examples...: 17134 examples [00:12, 1564.49 examples/s]\u001b[A\n",
      "Generating train examples...: 17292 examples [00:12, 1499.20 examples/s]\u001b[A\n",
      "Generating train examples...: 17443 examples [00:12, 1468.81 examples/s]\u001b[A\n",
      "Generating train examples...: 17622 examples [00:13, 1559.91 examples/s]\u001b[A\n",
      "Generating train examples...: 17786 examples [00:13, 1582.92 examples/s]\u001b[A\n",
      "Generating train examples...: 17954 examples [00:13, 1611.15 examples/s]\u001b[A\n",
      "Generating train examples...: 18116 examples [00:13, 1585.65 examples/s]\u001b[A\n",
      "Generating train examples...: 18285 examples [00:13, 1616.05 examples/s]\u001b[A\n",
      "Generating train examples...: 18464 examples [00:13, 1667.18 examples/s]\u001b[A\n",
      "Generating train examples...: 18641 examples [00:13, 1697.52 examples/s]\u001b[A\n",
      "Generating train examples...: 18812 examples [00:13, 1691.06 examples/s]\u001b[A\n",
      "Generating train examples...: 19001 examples [00:13, 1749.00 examples/s]\u001b[A\n",
      "Generating train examples...: 19177 examples [00:13, 1726.46 examples/s]\u001b[A\n",
      "Generating train examples...: 19350 examples [00:14, 1682.67 examples/s]\u001b[A\n",
      "Generating train examples...: 19519 examples [00:14, 1655.76 examples/s]\u001b[A\n",
      "Generating train examples...: 19685 examples [00:14, 1637.87 examples/s]\u001b[A\n",
      "Generating train examples...: 19877 examples [00:14, 1719.76 examples/s]\u001b[A\n",
      "Generating train examples...: 20050 examples [00:14, 1650.02 examples/s]\u001b[A\n",
      "Generating train examples...: 20227 examples [00:14, 1684.28 examples/s]\u001b[A\n",
      "Generating train examples...: 20397 examples [00:14, 1659.82 examples/s]\u001b[A\n",
      "Generating train examples...: 20564 examples [00:14, 1657.85 examples/s]\u001b[A\n",
      "Generating train examples...: 20731 examples [00:14, 1628.01 examples/s]\u001b[A\n",
      "Generating train examples...: 20900 examples [00:14, 1645.89 examples/s]\u001b[A\n",
      "Generating train examples...: 21092 examples [00:15, 1726.10 examples/s]\u001b[A\n",
      "Generating train examples...: 21265 examples [00:15, 1682.45 examples/s]\u001b[A\n",
      "Generating train examples...: 21434 examples [00:15, 1066.59 examples/s]\u001b[A\n",
      "Generating train examples...: 21609 examples [00:15, 1208.97 examples/s]\u001b[A\n",
      "Generating train examples...: 21786 examples [00:15, 1337.61 examples/s]\u001b[A\n",
      "Generating train examples...: 21943 examples [00:15, 1394.89 examples/s]\u001b[A\n",
      "Generating train examples...: 22100 examples [00:15, 1432.98 examples/s]\u001b[A\n",
      "Generating train examples...: 22287 examples [00:15, 1551.02 examples/s]\u001b[A\n",
      "Generating train examples...: 22459 examples [00:16, 1597.99 examples/s]\u001b[A\n",
      "Generating train examples...: 22635 examples [00:16, 1644.00 examples/s]\u001b[A\n",
      "Generating train examples...: 22805 examples [00:16, 1631.77 examples/s]\u001b[A\n",
      "Generating train examples...: 22989 examples [00:16, 1691.78 examples/s]\u001b[A\n",
      "Generating train examples...: 23165 examples [00:16, 1711.59 examples/s]\u001b[A\n",
      "Generating train examples...: 23371 examples [00:16, 1808.70 examples/s]\u001b[A\n",
      "Generating train examples...: 23554 examples [00:16, 1747.74 examples/s]\u001b[A\n",
      "Generating train examples...: 23731 examples [00:16, 1709.59 examples/s]\u001b[A\n",
      "Generating train examples...: 23904 examples [00:16, 1622.25 examples/s]\u001b[A\n",
      "Generating train examples...: 24068 examples [00:17, 1622.57 examples/s]\u001b[A\n",
      "Generating train examples...: 24251 examples [00:17, 1681.50 examples/s]\u001b[A\n",
      "Generating train examples...: 24428 examples [00:17, 1706.97 examples/s]\u001b[A\n",
      "Generating train examples...: 24600 examples [00:17, 1681.18 examples/s]\u001b[A\n",
      "Generating train examples...: 24769 examples [00:17, 1654.75 examples/s]\u001b[A\n",
      "Generating train examples...: 24936 examples [00:17, 1659.06 examples/s]\u001b[A\n",
      "                                                                        \u001b[A\n",
      "Shuffling C:\\Users\\saban.kara\\tensorflow_datasets\\imdb_reviews\\subwords8k\\1.0.0.incompleteGNJCY1\\imdb_reviews-train.tfr\u001b[A\n",
      "Shuffling C:\\Users\\saban.kara\\tensorflow_datasets\\imdb_reviews\\subwords8k\\1.0.0.incompleteGNJCY1\\imdb_reviews-train.tfr\u001b[A\n",
      "Shuffling C:\\Users\\saban.kara\\tensorflow_datasets\\imdb_reviews\\subwords8k\\1.0.0.incompleteGNJCY1\\imdb_reviews-train.tfr\u001b[A\n",
      "Shuffling C:\\Users\\saban.kara\\tensorflow_datasets\\imdb_reviews\\subwords8k\\1.0.0.incompleteGNJCY1\\imdb_reviews-train.tfr\u001b[A\n",
      "Generating splits...:  33%|███████████████████                                      | 1/3 [00:20<00:41, 20.81s/ splits]\u001b[A\n",
      "Generating test examples...: 0 examples [00:00, ? examples/s]\u001b[A\n",
      "Generating test examples...: 1 examples [00:00,  2.99 examples/s]\u001b[A\n",
      "Generating test examples...: 131 examples [00:00, 391.46 examples/s]\u001b[A\n",
      "Generating test examples...: 299 examples [00:00, 777.53 examples/s]\u001b[A\n",
      "Generating test examples...: 459 examples [00:00, 1022.17 examples/s]\u001b[A\n",
      "Generating test examples...: 629 examples [00:00, 1225.06 examples/s]\u001b[A\n",
      "Generating test examples...: 799 examples [00:00, 1363.17 examples/s]\u001b[A\n",
      "Generating test examples...: 960 examples [00:00, 1436.89 examples/s]\u001b[A\n",
      "Generating test examples...: 1117 examples [00:01, 1467.85 examples/s]\u001b[A\n",
      "Generating test examples...: 1288 examples [00:01, 1539.97 examples/s]\u001b[A\n",
      "Generating test examples...: 1458 examples [00:01, 1587.68 examples/s]\u001b[A\n",
      "Generating test examples...: 1644 examples [00:01, 1669.02 examples/s]\u001b[A\n",
      "Generating test examples...: 1833 examples [00:01, 1735.06 examples/s]\u001b[A\n",
      "Generating test examples...: 2009 examples [00:01, 1711.65 examples/s]\u001b[A\n",
      "Generating test examples...: 2182 examples [00:01, 1716.96 examples/s]\u001b[A\n",
      "Generating test examples...: 2355 examples [00:01, 1680.76 examples/s]\u001b[A\n",
      "Generating test examples...: 2525 examples [00:01, 1666.74 examples/s]\u001b[A\n",
      "Generating test examples...: 2717 examples [00:01, 1740.75 examples/s]\u001b[A\n",
      "Generating test examples...: 2892 examples [00:02, 1679.00 examples/s]\u001b[A\n",
      "Generating test examples...: 3076 examples [00:02, 1725.35 examples/s]\u001b[A\n",
      "Generating test examples...: 3258 examples [00:02, 1752.86 examples/s]\u001b[A\n",
      "Generating test examples...: 3434 examples [00:02, 1709.56 examples/s]\u001b[A\n",
      "Generating test examples...: 3606 examples [00:02, 1678.35 examples/s]\u001b[A\n",
      "Generating test examples...: 3786 examples [00:02, 1713.41 examples/s]\u001b[A\n",
      "Generating test examples...: 3969 examples [00:02, 1747.37 examples/s]\u001b[A\n",
      "Generating test examples...: 4145 examples [00:02, 1735.64 examples/s]\u001b[A\n",
      "Generating test examples...: 4325 examples [00:02, 1754.46 examples/s]\u001b[A\n",
      "Generating test examples...: 4501 examples [00:02, 1725.34 examples/s]\u001b[A\n",
      "Generating test examples...: 4683 examples [00:03, 1753.01 examples/s]\u001b[A\n",
      "Generating test examples...: 4859 examples [00:03, 1694.87 examples/s]\u001b[A\n",
      "Generating test examples...: 5030 examples [00:03, 1684.50 examples/s]\u001b[A\n",
      "Generating test examples...: 5199 examples [00:03, 1647.65 examples/s]\u001b[A\n",
      "Generating test examples...: 5372 examples [00:03, 1671.32 examples/s]\u001b[A\n",
      "Generating test examples...: 5550 examples [00:03, 1702.95 examples/s]\u001b[A\n",
      "Generating test examples...: 5721 examples [00:03, 1675.32 examples/s]\u001b[A\n",
      "Generating test examples...: 5890 examples [00:03, 1679.50 examples/s]\u001b[A\n",
      "Generating test examples...: 6059 examples [00:03, 1656.11 examples/s]\u001b[A\n",
      "Generating test examples...: 6240 examples [00:04, 1701.07 examples/s]\u001b[A\n",
      "Generating test examples...: 6414 examples [00:04, 1710.03 examples/s]\u001b[A\n",
      "Generating test examples...: 6600 examples [00:04, 1749.15 examples/s]\u001b[A\n",
      "Generating test examples...: 6779 examples [00:04, 1761.15 examples/s]\u001b[A\n",
      "Generating test examples...: 6968 examples [00:04, 1799.38 examples/s]\u001b[A\n",
      "Generating test examples...: 7149 examples [00:04, 1750.21 examples/s]\u001b[A\n",
      "Generating test examples...: 7325 examples [00:04, 1707.96 examples/s]\u001b[A\n",
      "Generating test examples...: 7497 examples [00:04, 1696.60 examples/s]\u001b[A\n",
      "Generating test examples...: 7667 examples [00:04, 1673.15 examples/s]\u001b[A\n",
      "Generating test examples...: 7835 examples [00:04, 1660.56 examples/s]\u001b[A\n"
     ]
    },
    {
     "name": "stderr",
     "output_type": "stream",
     "text": [
      "Generating test examples...: 8016 examples [00:05, 1704.00 examples/s]\u001b[A\n",
      "Generating test examples...: 8187 examples [00:05, 1680.94 examples/s]\u001b[A\n",
      "Generating test examples...: 8356 examples [00:05, 1672.81 examples/s]\u001b[A\n",
      "Generating test examples...: 8524 examples [00:05, 1660.19 examples/s]\u001b[A\n",
      "Generating test examples...: 8704 examples [00:05, 1701.12 examples/s]\u001b[A\n",
      "Generating test examples...: 8875 examples [00:05, 1669.11 examples/s]\u001b[A\n",
      "Generating test examples...: 9043 examples [00:05, 1657.63 examples/s]\u001b[A\n",
      "Generating test examples...: 9226 examples [00:05, 1708.01 examples/s]\u001b[A\n",
      "Generating test examples...: 9403 examples [00:05, 1726.18 examples/s]\u001b[A\n",
      "Generating test examples...: 9580 examples [00:05, 1733.91 examples/s]\u001b[A\n",
      "Generating test examples...: 9754 examples [00:06, 1715.23 examples/s]\u001b[A\n",
      "Generating test examples...: 9926 examples [00:06, 1686.63 examples/s]\u001b[A\n",
      "Generating test examples...: 10095 examples [00:06, 1687.51 examples/s]\u001b[A\n",
      "Generating test examples...: 10265 examples [00:06, 1691.08 examples/s]\u001b[A\n",
      "Generating test examples...: 10447 examples [00:06, 1729.20 examples/s]\u001b[A\n",
      "Generating test examples...: 10625 examples [00:06, 1744.20 examples/s]\u001b[A\n",
      "Generating test examples...: 10805 examples [00:06, 1760.72 examples/s]\u001b[A\n",
      "Generating test examples...: 10986 examples [00:06, 1775.33 examples/s]\u001b[A\n",
      "Generating test examples...: 11164 examples [00:06, 1755.59 examples/s]\u001b[A\n",
      "Generating test examples...: 11340 examples [00:07, 1736.16 examples/s]\u001b[A\n",
      "Generating test examples...: 11514 examples [00:07, 1056.72 examples/s]\u001b[A\n",
      "Generating test examples...: 11678 examples [00:07, 1174.84 examples/s]\u001b[A\n",
      "Generating test examples...: 11858 examples [00:07, 1315.87 examples/s]\u001b[A\n",
      "Generating test examples...: 12032 examples [00:07, 1419.20 examples/s]\u001b[A\n",
      "Generating test examples...: 12228 examples [00:07, 1558.80 examples/s]\u001b[A\n",
      "Generating test examples...: 12416 examples [00:07, 1643.45 examples/s]\u001b[A\n",
      "Generating test examples...: 12593 examples [00:07, 1664.62 examples/s]\u001b[A\n",
      "Generating test examples...: 12768 examples [00:08, 1598.34 examples/s]\u001b[A\n",
      "Generating test examples...: 12935 examples [00:08, 1613.58 examples/s]\u001b[A\n",
      "Generating test examples...: 13124 examples [00:08, 1691.55 examples/s]\u001b[A\n",
      "Generating test examples...: 13297 examples [00:08, 1692.76 examples/s]\u001b[A\n",
      "Generating test examples...: 13478 examples [00:08, 1726.64 examples/s]\u001b[A\n",
      "Generating test examples...: 13655 examples [00:08, 1736.76 examples/s]\u001b[A\n",
      "Generating test examples...: 13835 examples [00:08, 1755.28 examples/s]\u001b[A\n",
      "Generating test examples...: 14012 examples [00:08, 1718.78 examples/s]\u001b[A\n",
      "Generating test examples...: 14185 examples [00:08, 1692.25 examples/s]\u001b[A\n",
      "Generating test examples...: 14355 examples [00:08, 1674.89 examples/s]\u001b[A\n",
      "Generating test examples...: 14544 examples [00:09, 1737.44 examples/s]\u001b[A\n",
      "Generating test examples...: 14719 examples [00:09, 1720.78 examples/s]\u001b[A\n",
      "Generating test examples...: 14892 examples [00:09, 1723.37 examples/s]\u001b[A\n",
      "Generating test examples...: 15071 examples [00:09, 1742.93 examples/s]\u001b[A\n",
      "Generating test examples...: 15246 examples [00:09, 1709.41 examples/s]\u001b[A\n",
      "Generating test examples...: 15418 examples [00:09, 1658.87 examples/s]\u001b[A\n",
      "Generating test examples...: 15603 examples [00:09, 1705.85 examples/s]\u001b[A\n",
      "Generating test examples...: 15775 examples [00:09, 1695.06 examples/s]\u001b[A\n",
      "Generating test examples...: 15957 examples [00:09, 1731.41 examples/s]\u001b[A\n",
      "Generating test examples...: 16142 examples [00:09, 1766.19 examples/s]\u001b[A\n",
      "Generating test examples...: 16327 examples [00:10, 1790.87 examples/s]\u001b[A\n",
      "Generating test examples...: 16507 examples [00:10, 1756.92 examples/s]\u001b[A\n",
      "Generating test examples...: 16683 examples [00:10, 1703.78 examples/s]\u001b[A\n",
      "Generating test examples...: 16868 examples [00:10, 1745.93 examples/s]\u001b[A\n",
      "Generating test examples...: 17044 examples [00:10, 1676.43 examples/s]\u001b[A\n",
      "Generating test examples...: 17219 examples [00:10, 1697.34 examples/s]\u001b[A\n",
      "Generating test examples...: 17390 examples [00:10, 1695.98 examples/s]\u001b[A\n",
      "Generating test examples...: 17561 examples [00:10, 1675.48 examples/s]\u001b[A\n",
      "Generating test examples...: 17732 examples [00:10, 1685.43 examples/s]\u001b[A\n",
      "Generating test examples...: 17901 examples [00:11, 1629.18 examples/s]\u001b[A\n",
      "Generating test examples...: 18077 examples [00:11, 1666.82 examples/s]\u001b[A\n",
      "Generating test examples...: 18246 examples [00:11, 1668.61 examples/s]\u001b[A\n",
      "Generating test examples...: 18414 examples [00:11, 1671.84 examples/s]\u001b[A\n",
      "Generating test examples...: 18586 examples [00:11, 1685.96 examples/s]\u001b[A\n",
      "Generating test examples...: 18771 examples [00:11, 1734.54 examples/s]\u001b[A\n",
      "Generating test examples...: 18956 examples [00:11, 1768.80 examples/s]\u001b[A\n",
      "Generating test examples...: 19134 examples [00:11, 1751.12 examples/s]\u001b[A\n",
      "Generating test examples...: 19310 examples [00:11, 1703.14 examples/s]\u001b[A\n",
      "Generating test examples...: 19505 examples [00:11, 1774.96 examples/s]\u001b[A\n",
      "Generating test examples...: 19686 examples [00:12, 1785.14 examples/s]\u001b[A\n",
      "Generating test examples...: 19890 examples [00:12, 1860.38 examples/s]\u001b[A\n",
      "Generating test examples...: 20077 examples [00:12, 1846.65 examples/s]\u001b[A\n",
      "Generating test examples...: 20262 examples [00:12, 1847.52 examples/s]\u001b[A\n",
      "Generating test examples...: 20447 examples [00:12, 1774.31 examples/s]\u001b[A\n",
      "Generating test examples...: 20630 examples [00:12, 1790.31 examples/s]\u001b[A\n",
      "Generating test examples...: 20819 examples [00:12, 1817.98 examples/s]\u001b[A\n",
      "Generating test examples...: 21002 examples [00:12, 1789.76 examples/s]\u001b[A\n",
      "Generating test examples...: 21182 examples [00:12, 1670.45 examples/s]\u001b[A\n",
      "Generating test examples...: 21362 examples [00:13, 1706.65 examples/s]\u001b[A\n",
      "Generating test examples...: 21535 examples [00:13, 1708.33 examples/s]\u001b[A\n",
      "Generating test examples...: 21707 examples [00:13, 1668.14 examples/s]\u001b[A\n",
      "Generating test examples...: 21890 examples [00:13, 1714.51 examples/s]\u001b[A\n",
      "Generating test examples...: 22063 examples [00:13, 1679.81 examples/s]\u001b[A\n",
      "Generating test examples...: 22240 examples [00:13, 1705.74 examples/s]\u001b[A\n",
      "Generating test examples...: 22412 examples [00:13, 1675.54 examples/s]\u001b[A\n",
      "Generating test examples...: 22580 examples [00:13, 1634.04 examples/s]\u001b[A\n",
      "Generating test examples...: 22748 examples [00:13, 1647.16 examples/s]\u001b[A\n",
      "Generating test examples...: 22914 examples [00:13, 1636.49 examples/s]\u001b[A\n",
      "Generating test examples...: 23097 examples [00:14, 1692.89 examples/s]\u001b[A\n",
      "Generating test examples...: 23267 examples [00:14, 1600.61 examples/s]\u001b[A\n",
      "Generating test examples...: 23429 examples [00:14, 1544.55 examples/s]\u001b[A\n",
      "Generating test examples...: 23594 examples [00:14, 1574.07 examples/s]\u001b[A\n",
      "Generating test examples...: 23755 examples [00:14, 1584.25 examples/s]\u001b[A\n",
      "Generating test examples...: 23918 examples [00:14, 1597.43 examples/s]\u001b[A\n",
      "Generating test examples...: 24079 examples [00:14, 1577.88 examples/s]\u001b[A\n",
      "Generating test examples...: 24238 examples [00:14, 1558.55 examples/s]\u001b[A\n",
      "Generating test examples...: 24435 examples [00:14, 1678.34 examples/s]\u001b[A\n",
      "Generating test examples...: 24610 examples [00:14, 1699.29 examples/s]\u001b[A\n",
      "Generating test examples...: 24808 examples [00:15, 1782.18 examples/s]\u001b[A\n",
      "Generating test examples...: 24987 examples [00:15, 1732.91 examples/s]\u001b[A\n",
      "                                                                       \u001b[A\n",
      "Shuffling C:\\Users\\saban.kara\\tensorflow_datasets\\imdb_reviews\\subwords8k\\1.0.0.incompleteGNJCY1\\imdb_reviews-test.tfre\u001b[A\n",
      "Shuffling C:\\Users\\saban.kara\\tensorflow_datasets\\imdb_reviews\\subwords8k\\1.0.0.incompleteGNJCY1\\imdb_reviews-test.tfre\u001b[A\n",
      "Shuffling C:\\Users\\saban.kara\\tensorflow_datasets\\imdb_reviews\\subwords8k\\1.0.0.incompleteGNJCY1\\imdb_reviews-test.tfre\u001b[A\n",
      "Shuffling C:\\Users\\saban.kara\\tensorflow_datasets\\imdb_reviews\\subwords8k\\1.0.0.incompleteGNJCY1\\imdb_reviews-test.tfre\u001b[A\n",
      "Generating splits...:  67%|██████████████████████████████████████                   | 2/3 [00:40<00:20, 20.25s/ splits]\u001b[A\n",
      "Generating unsupervised examples...: 0 examples [00:00, ? examples/s]\u001b[A\n",
      "Generating unsupervised examples...: 1 examples [00:03,  3.33s/ examples]\u001b[A\n",
      "Generating unsupervised examples...: 165 examples [00:03, 67.71 examples/s]\u001b[A\n"
     ]
    },
    {
     "name": "stderr",
     "output_type": "stream",
     "text": [
      "Generating unsupervised examples...: 331 examples [00:03, 156.03 examples/s]\u001b[A\n",
      "Generating unsupervised examples...: 530 examples [00:03, 290.68 examples/s]\u001b[A\n",
      "Generating unsupervised examples...: 711 examples [00:03, 434.90 examples/s]\u001b[A\n",
      "Generating unsupervised examples...: 886 examples [00:03, 591.93 examples/s]\u001b[A\n",
      "Generating unsupervised examples...: 1075 examples [00:03, 781.08 examples/s]\u001b[A\n",
      "Generating unsupervised examples...: 1266 examples [00:04, 975.57 examples/s]\u001b[A\n",
      "Generating unsupervised examples...: 1447 examples [00:04, 1120.42 examples/s]\u001b[A\n",
      "Generating unsupervised examples...: 1623 examples [00:04, 1259.18 examples/s]\u001b[A\n",
      "Generating unsupervised examples...: 1799 examples [00:04, 1352.04 examples/s]\u001b[A\n",
      "Generating unsupervised examples...: 1971 examples [00:04, 1417.51 examples/s]\u001b[A\n",
      "Generating unsupervised examples...: 2151 examples [00:04, 1515.86 examples/s]\u001b[A\n",
      "Generating unsupervised examples...: 2323 examples [00:04, 1557.76 examples/s]\u001b[A\n",
      "Generating unsupervised examples...: 2494 examples [00:04, 1560.90 examples/s]\u001b[A\n",
      "Generating unsupervised examples...: 2661 examples [00:04, 1569.32 examples/s]\u001b[A\n",
      "Generating unsupervised examples...: 2833 examples [00:04, 1611.66 examples/s]\u001b[A\n",
      "Generating unsupervised examples...: 3000 examples [00:05, 1619.00 examples/s]\u001b[A\n",
      "Generating unsupervised examples...: 3182 examples [00:05, 1677.08 examples/s]\u001b[A\n",
      "Generating unsupervised examples...: 3365 examples [00:05, 1716.68 examples/s]\u001b[A\n",
      "Generating unsupervised examples...: 3550 examples [00:05, 1755.78 examples/s]\u001b[A\n",
      "Generating unsupervised examples...: 3728 examples [00:05, 1712.09 examples/s]\u001b[A\n",
      "Generating unsupervised examples...: 3909 examples [00:05, 1740.47 examples/s]\u001b[A\n",
      "Generating unsupervised examples...: 4085 examples [00:05, 1691.45 examples/s]\u001b[A\n",
      "Generating unsupervised examples...: 4256 examples [00:05, 1677.22 examples/s]\u001b[A\n",
      "Generating unsupervised examples...: 4425 examples [00:05, 1675.96 examples/s]\u001b[A\n",
      "Generating unsupervised examples...: 4594 examples [00:06, 1641.58 examples/s]\u001b[A\n",
      "Generating unsupervised examples...: 4759 examples [00:06, 1622.65 examples/s]\u001b[A\n",
      "Generating unsupervised examples...: 4945 examples [00:06, 1691.37 examples/s]\u001b[A\n",
      "Generating unsupervised examples...: 5133 examples [00:06, 1746.50 examples/s]\u001b[A\n",
      "Generating unsupervised examples...: 5325 examples [00:06, 1797.56 examples/s]\u001b[A\n",
      "Generating unsupervised examples...: 5506 examples [00:06, 1795.81 examples/s]\u001b[A\n",
      "Generating unsupervised examples...: 5698 examples [00:06, 1832.55 examples/s]\u001b[A\n",
      "Generating unsupervised examples...: 5882 examples [00:06, 1802.44 examples/s]\u001b[A\n",
      "Generating unsupervised examples...: 6063 examples [00:06, 1773.18 examples/s]\u001b[A\n",
      "Generating unsupervised examples...: 6250 examples [00:06, 1801.40 examples/s]\u001b[A\n",
      "Generating unsupervised examples...: 6431 examples [00:07, 1727.42 examples/s]\u001b[A\n",
      "Generating unsupervised examples...: 6605 examples [00:07, 1668.57 examples/s]\u001b[A\n",
      "Generating unsupervised examples...: 6784 examples [00:07, 1702.89 examples/s]\u001b[A\n",
      "Generating unsupervised examples...: 6962 examples [00:07, 1724.82 examples/s]\u001b[A\n",
      "Generating unsupervised examples...: 7136 examples [00:07, 1718.77 examples/s]\u001b[A\n",
      "Generating unsupervised examples...: 7309 examples [00:07, 1687.35 examples/s]\u001b[A\n",
      "Generating unsupervised examples...: 7483 examples [00:07, 1702.55 examples/s]\u001b[A\n",
      "Generating unsupervised examples...: 7654 examples [00:07, 1689.74 examples/s]\u001b[A\n",
      "Generating unsupervised examples...: 7835 examples [00:07, 1724.93 examples/s]\u001b[A\n",
      "Generating unsupervised examples...: 8022 examples [00:07, 1767.67 examples/s]\u001b[A\n",
      "Generating unsupervised examples...: 8199 examples [00:08, 1757.81 examples/s]\u001b[A\n",
      "Generating unsupervised examples...: 8375 examples [00:08, 1747.98 examples/s]\u001b[A\n",
      "Generating unsupervised examples...: 8553 examples [00:08, 1757.35 examples/s]\u001b[A\n",
      "Generating unsupervised examples...: 8732 examples [00:08, 1766.94 examples/s]\u001b[A\n",
      "Generating unsupervised examples...: 8913 examples [00:08, 1779.66 examples/s]\u001b[A\n",
      "Generating unsupervised examples...: 9092 examples [00:08, 1772.04 examples/s]\u001b[A\n",
      "Generating unsupervised examples...: 9270 examples [00:08, 1690.60 examples/s]\u001b[A\n",
      "Generating unsupervised examples...: 9451 examples [00:08, 1724.93 examples/s]\u001b[A\n",
      "Generating unsupervised examples...: 9625 examples [00:08, 1704.34 examples/s]\u001b[A\n",
      "Generating unsupervised examples...: 9796 examples [00:09, 1657.60 examples/s]\u001b[A\n",
      "Generating unsupervised examples...: 9986 examples [00:09, 1727.26 examples/s]\u001b[A\n",
      "Generating unsupervised examples...: 10160 examples [00:09, 1720.83 examples/s]\u001b[A\n",
      "Generating unsupervised examples...: 10333 examples [00:09, 1723.40 examples/s]\u001b[A\n",
      "Generating unsupervised examples...: 10512 examples [00:09, 1742.92 examples/s]\u001b[A\n",
      "Generating unsupervised examples...: 10694 examples [00:09, 1765.65 examples/s]\u001b[A\n",
      "Generating unsupervised examples...: 10871 examples [00:09, 1743.94 examples/s]\u001b[A\n",
      "Generating unsupervised examples...: 11064 examples [00:09, 1798.79 examples/s]\u001b[A\n",
      "Generating unsupervised examples...: 11245 examples [00:09, 1796.66 examples/s]\u001b[A\n",
      "Generating unsupervised examples...: 11425 examples [00:09, 1797.54 examples/s]\u001b[A\n",
      "Generating unsupervised examples...: 11605 examples [00:10, 1774.81 examples/s]\u001b[A\n",
      "Generating unsupervised examples...: 11783 examples [00:10, 1769.99 examples/s]\u001b[A\n",
      "Generating unsupervised examples...: 11961 examples [00:10, 1716.87 examples/s]\u001b[A\n",
      "Generating unsupervised examples...: 12137 examples [00:10, 1729.29 examples/s]\u001b[A\n",
      "Generating unsupervised examples...: 12312 examples [00:10, 1735.26 examples/s]\u001b[A\n",
      "Generating unsupervised examples...: 12488 examples [00:10, 1742.45 examples/s]\u001b[A\n",
      "Generating unsupervised examples...: 12675 examples [00:10, 1780.16 examples/s]\u001b[A\n",
      "Generating unsupervised examples...: 12854 examples [00:10, 1772.42 examples/s]\u001b[A\n",
      "Generating unsupervised examples...: 13032 examples [00:10, 1769.29 examples/s]\u001b[A\n",
      "Generating unsupervised examples...: 13210 examples [00:10, 1731.17 examples/s]\u001b[A\n",
      "Generating unsupervised examples...: 13384 examples [00:11, 1733.64 examples/s]\u001b[A\n",
      "Generating unsupervised examples...: 13567 examples [00:11, 1761.97 examples/s]\u001b[A\n",
      "Generating unsupervised examples...: 13744 examples [00:11, 1728.97 examples/s]\u001b[A\n",
      "Generating unsupervised examples...: 13924 examples [00:11, 1749.70 examples/s]\u001b[A\n",
      "Generating unsupervised examples...: 14100 examples [00:11, 1712.16 examples/s]\u001b[A\n",
      "Generating unsupervised examples...: 14272 examples [00:11, 1694.55 examples/s]\u001b[A\n",
      "Generating unsupervised examples...: 14442 examples [00:11, 1686.19 examples/s]\u001b[A\n",
      "Generating unsupervised examples...: 14611 examples [00:11, 1682.26 examples/s]\u001b[A\n",
      "Generating unsupervised examples...: 14780 examples [00:11, 1679.48 examples/s]\u001b[A\n",
      "Generating unsupervised examples...: 14961 examples [00:11, 1717.93 examples/s]\u001b[A\n",
      "Generating unsupervised examples...: 15135 examples [00:12, 1724.37 examples/s]\u001b[A\n",
      "Generating unsupervised examples...: 15313 examples [00:12, 1740.82 examples/s]\u001b[A\n",
      "Generating unsupervised examples...: 15500 examples [00:12, 1779.24 examples/s]\u001b[A\n",
      "Generating unsupervised examples...: 15678 examples [00:12, 1758.33 examples/s]\u001b[A\n",
      "Generating unsupervised examples...: 15854 examples [00:12, 1753.50 examples/s]\u001b[A\n",
      "Generating unsupervised examples...: 16030 examples [00:12, 1704.67 examples/s]\u001b[A\n",
      "Generating unsupervised examples...: 16201 examples [00:12, 1653.04 examples/s]\u001b[A\n",
      "Generating unsupervised examples...: 16395 examples [00:12, 1735.49 examples/s]\u001b[A\n",
      "Generating unsupervised examples...: 16570 examples [00:12, 1739.60 examples/s]\u001b[A\n",
      "Generating unsupervised examples...: 16753 examples [00:12, 1766.04 examples/s]\u001b[A\n",
      "Generating unsupervised examples...: 16930 examples [00:13, 1640.94 examples/s]\u001b[A\n",
      "Generating unsupervised examples...: 17118 examples [00:13, 1708.18 examples/s]\u001b[A\n",
      "Generating unsupervised examples...: 17294 examples [00:13, 1722.94 examples/s]\u001b[A\n",
      "Generating unsupervised examples...: 17468 examples [00:13, 1674.23 examples/s]\u001b[A\n",
      "Generating unsupervised examples...: 17640 examples [00:13, 1687.26 examples/s]\u001b[A\n",
      "Generating unsupervised examples...: 17810 examples [00:13, 1661.86 examples/s]\u001b[A\n"
     ]
    },
    {
     "name": "stderr",
     "output_type": "stream",
     "text": [
      "Generating unsupervised examples...: 17989 examples [00:13, 1698.89 examples/s]\u001b[A\n",
      "Generating unsupervised examples...: 18174 examples [00:13, 1743.02 examples/s]\u001b[A\n",
      "Generating unsupervised examples...: 18352 examples [00:13, 1753.81 examples/s]\u001b[A\n",
      "Generating unsupervised examples...: 18528 examples [00:14, 1734.95 examples/s]\u001b[A\n",
      "Generating unsupervised examples...: 18702 examples [00:14, 1711.09 examples/s]\u001b[A\n",
      "Generating unsupervised examples...: 18874 examples [00:14, 1654.41 examples/s]\u001b[A\n",
      "Generating unsupervised examples...: 19040 examples [00:14, 1623.17 examples/s]\u001b[A\n",
      "Generating unsupervised examples...: 19203 examples [00:14, 1570.84 examples/s]\u001b[A\n",
      "Generating unsupervised examples...: 19361 examples [00:14, 1538.37 examples/s]\u001b[A\n",
      "Generating unsupervised examples...: 19516 examples [00:14, 1486.66 examples/s]\u001b[A\n",
      "Generating unsupervised examples...: 19683 examples [00:14, 1533.82 examples/s]\u001b[A\n",
      "Generating unsupervised examples...: 19842 examples [00:14, 1549.79 examples/s]\u001b[A\n",
      "Generating unsupervised examples...: 20005 examples [00:14, 1572.96 examples/s]\u001b[A\n",
      "Generating unsupervised examples...: 20163 examples [00:15, 1574.92 examples/s]\u001b[A\n",
      "Generating unsupervised examples...: 20331 examples [00:15, 1605.81 examples/s]\u001b[A\n",
      "Generating unsupervised examples...: 20492 examples [00:15, 1534.16 examples/s]\u001b[A\n",
      "Generating unsupervised examples...: 20647 examples [00:15, 1529.81 examples/s]\u001b[A\n",
      "Generating unsupervised examples...: 20802 examples [00:15, 1535.57 examples/s]\u001b[A\n",
      "Generating unsupervised examples...: 20964 examples [00:15, 1560.21 examples/s]\u001b[A\n",
      "Generating unsupervised examples...: 21121 examples [00:15, 1553.82 examples/s]\u001b[A\n",
      "Generating unsupervised examples...: 21287 examples [00:15, 1585.07 examples/s]\u001b[A\n",
      "Generating unsupervised examples...: 21446 examples [00:15, 1586.43 examples/s]\u001b[A\n",
      "Generating unsupervised examples...: 21605 examples [00:16, 1582.67 examples/s]\u001b[A\n",
      "Generating unsupervised examples...: 21764 examples [00:16, 1566.10 examples/s]\u001b[A\n",
      "Generating unsupervised examples...: 21931 examples [00:16, 1596.74 examples/s]\u001b[A\n",
      "Generating unsupervised examples...: 22091 examples [00:16, 1542.59 examples/s]\u001b[A\n",
      "Generating unsupervised examples...: 22246 examples [00:16, 809.95 examples/s] \u001b[A\n",
      "Generating unsupervised examples...: 22404 examples [00:16, 947.60 examples/s]\u001b[A\n",
      "Generating unsupervised examples...: 22579 examples [00:16, 1110.80 examples/s]\u001b[A\n",
      "Generating unsupervised examples...: 22763 examples [00:17, 1274.94 examples/s]\u001b[A\n",
      "Generating unsupervised examples...: 22944 examples [00:17, 1405.09 examples/s]\u001b[A\n",
      "Generating unsupervised examples...: 23110 examples [00:17, 1470.77 examples/s]\u001b[A\n",
      "Generating unsupervised examples...: 23293 examples [00:17, 1567.41 examples/s]\u001b[A\n",
      "Generating unsupervised examples...: 23463 examples [00:17, 1595.28 examples/s]\u001b[A\n",
      "Generating unsupervised examples...: 23632 examples [00:17, 1603.82 examples/s]\u001b[A\n",
      "Generating unsupervised examples...: 23799 examples [00:17, 1622.62 examples/s]\u001b[A\n",
      "Generating unsupervised examples...: 23977 examples [00:17, 1668.11 examples/s]\u001b[A\n",
      "Generating unsupervised examples...: 24163 examples [00:17, 1724.17 examples/s]\u001b[A\n",
      "Generating unsupervised examples...: 24338 examples [00:17, 1731.67 examples/s]\u001b[A\n",
      "Generating unsupervised examples...: 24513 examples [00:18, 1736.98 examples/s]\u001b[A\n",
      "Generating unsupervised examples...: 24688 examples [00:18, 1730.44 examples/s]\u001b[A\n",
      "Generating unsupervised examples...: 24862 examples [00:18, 1654.54 examples/s]\u001b[A\n",
      "Generating unsupervised examples...: 25029 examples [00:18, 1630.68 examples/s]\u001b[A\n",
      "Generating unsupervised examples...: 25193 examples [00:18, 1561.28 examples/s]\u001b[A\n",
      "Generating unsupervised examples...: 25370 examples [00:18, 1620.11 examples/s]\u001b[A\n",
      "Generating unsupervised examples...: 25553 examples [00:18, 1680.32 examples/s]\u001b[A\n",
      "Generating unsupervised examples...: 25732 examples [00:18, 1712.13 examples/s]\u001b[A\n",
      "Generating unsupervised examples...: 25905 examples [00:18, 1697.32 examples/s]\u001b[A\n",
      "Generating unsupervised examples...: 26087 examples [00:18, 1733.17 examples/s]\u001b[A\n",
      "Generating unsupervised examples...: 26261 examples [00:19, 1675.71 examples/s]\u001b[A\n",
      "Generating unsupervised examples...: 26441 examples [00:19, 1711.56 examples/s]\u001b[A\n",
      "Generating unsupervised examples...: 26613 examples [00:19, 1660.49 examples/s]\u001b[A\n",
      "Generating unsupervised examples...: 26780 examples [00:19, 1621.08 examples/s]\u001b[A\n",
      "Generating unsupervised examples...: 26950 examples [00:19, 1643.57 examples/s]\u001b[A\n",
      "Generating unsupervised examples...: 27132 examples [00:19, 1694.67 examples/s]\u001b[A\n",
      "Generating unsupervised examples...: 27304 examples [00:19, 1701.98 examples/s]\u001b[A\n",
      "Generating unsupervised examples...: 27485 examples [00:19, 1733.74 examples/s]\u001b[A\n",
      "Generating unsupervised examples...: 27682 examples [00:19, 1803.69 examples/s]\u001b[A\n",
      "Generating unsupervised examples...: 27882 examples [00:20, 1858.60 examples/s]\u001b[A\n",
      "Generating unsupervised examples...: 28069 examples [00:20, 1823.83 examples/s]\u001b[A\n",
      "Generating unsupervised examples...: 28252 examples [00:20, 1733.70 examples/s]\u001b[A\n",
      "Generating unsupervised examples...: 28427 examples [00:20, 1680.51 examples/s]\u001b[A\n",
      "Generating unsupervised examples...: 28596 examples [00:20, 1650.43 examples/s]\u001b[A\n",
      "Generating unsupervised examples...: 28762 examples [00:20, 1616.36 examples/s]\u001b[A\n",
      "Generating unsupervised examples...: 28925 examples [00:20, 1584.16 examples/s]\u001b[A\n",
      "Generating unsupervised examples...: 29084 examples [00:20, 1581.23 examples/s]\u001b[A\n",
      "Generating unsupervised examples...: 29257 examples [00:20, 1623.95 examples/s]\u001b[A\n",
      "Generating unsupervised examples...: 29429 examples [00:20, 1651.83 examples/s]\u001b[A\n",
      "Generating unsupervised examples...: 29595 examples [00:21, 1630.17 examples/s]\u001b[A\n",
      "Generating unsupervised examples...: 29759 examples [00:21, 1618.72 examples/s]\u001b[A\n",
      "Generating unsupervised examples...: 29927 examples [00:21, 1636.57 examples/s]\u001b[A\n",
      "Generating unsupervised examples...: 30091 examples [00:21, 1599.71 examples/s]\u001b[A\n",
      "Generating unsupervised examples...: 30252 examples [00:21, 1535.42 examples/s]\u001b[A\n",
      "Generating unsupervised examples...: 30417 examples [00:21, 1568.01 examples/s]\u001b[A\n",
      "Generating unsupervised examples...: 30575 examples [00:21, 1571.38 examples/s]\u001b[A\n",
      "Generating unsupervised examples...: 30748 examples [00:21, 1617.68 examples/s]\u001b[A\n",
      "Generating unsupervised examples...: 30921 examples [00:21, 1650.68 examples/s]\u001b[A\n",
      "Generating unsupervised examples...: 31087 examples [00:22, 1641.88 examples/s]\u001b[A\n",
      "Generating unsupervised examples...: 31252 examples [00:22, 1629.70 examples/s]\u001b[A\n",
      "Generating unsupervised examples...: 31428 examples [00:22, 1668.06 examples/s]\u001b[A\n",
      "Generating unsupervised examples...: 31611 examples [00:22, 1710.91 examples/s]\u001b[A\n",
      "Generating unsupervised examples...: 31783 examples [00:22, 1708.42 examples/s]\u001b[A\n",
      "Generating unsupervised examples...: 31954 examples [00:22, 1703.69 examples/s]\u001b[A\n",
      "Generating unsupervised examples...: 32125 examples [00:22, 1685.40 examples/s]\u001b[A\n",
      "Generating unsupervised examples...: 32294 examples [00:22, 1652.43 examples/s]\u001b[A\n",
      "Generating unsupervised examples...: 32474 examples [00:22, 1695.52 examples/s]\u001b[A\n",
      "Generating unsupervised examples...: 32651 examples [00:22, 1717.36 examples/s]\u001b[A\n",
      "Generating unsupervised examples...: 32823 examples [00:23, 1712.95 examples/s]\u001b[A\n",
      "Generating unsupervised examples...: 32995 examples [00:23, 1680.02 examples/s]\u001b[A\n",
      "Generating unsupervised examples...: 33174 examples [00:23, 1712.18 examples/s]\u001b[A\n",
      "Generating unsupervised examples...: 33351 examples [00:23, 1729.15 examples/s]\u001b[A\n",
      "Generating unsupervised examples...: 33525 examples [00:23, 1732.25 examples/s]\u001b[A\n",
      "Generating unsupervised examples...: 33699 examples [00:23, 1699.03 examples/s]\u001b[A\n",
      "Generating unsupervised examples...: 33883 examples [00:23, 1740.37 examples/s]\u001b[A\n",
      "Generating unsupervised examples...: 34058 examples [00:23, 1722.72 examples/s]\u001b[A\n",
      "Generating unsupervised examples...: 34251 examples [00:23, 1781.51 examples/s]\u001b[A\n",
      "Generating unsupervised examples...: 34433 examples [00:23, 1792.78 examples/s]\u001b[A\n",
      "Generating unsupervised examples...: 34620 examples [00:24, 1813.61 examples/s]\u001b[A\n"
     ]
    },
    {
     "name": "stderr",
     "output_type": "stream",
     "text": [
      "Generating unsupervised examples...: 34803 examples [00:24, 1818.37 examples/s]\u001b[A\n",
      "Generating unsupervised examples...: 34985 examples [00:24, 1786.74 examples/s]\u001b[A\n",
      "Generating unsupervised examples...: 35164 examples [00:24, 1756.47 examples/s]\u001b[A\n",
      "Generating unsupervised examples...: 35340 examples [00:24, 1752.25 examples/s]\u001b[A\n",
      "Generating unsupervised examples...: 35516 examples [00:24, 1714.04 examples/s]\u001b[A\n",
      "Generating unsupervised examples...: 35703 examples [00:24, 1759.35 examples/s]\u001b[A\n",
      "Generating unsupervised examples...: 35880 examples [00:24, 1716.96 examples/s]\u001b[A\n",
      "Generating unsupervised examples...: 36054 examples [00:24, 1723.53 examples/s]\u001b[A\n",
      "Generating unsupervised examples...: 36227 examples [00:24, 1705.32 examples/s]\u001b[A\n",
      "Generating unsupervised examples...: 36398 examples [00:25, 1696.64 examples/s]\u001b[A\n",
      "Generating unsupervised examples...: 36574 examples [00:25, 1715.13 examples/s]\u001b[A\n",
      "Generating unsupervised examples...: 36746 examples [00:25, 1711.40 examples/s]\u001b[A\n",
      "Generating unsupervised examples...: 36918 examples [00:25, 1713.83 examples/s]\u001b[A\n",
      "Generating unsupervised examples...: 37095 examples [00:25, 1730.42 examples/s]\u001b[A\n",
      "Generating unsupervised examples...: 37269 examples [00:25, 1733.16 examples/s]\u001b[A\n",
      "Generating unsupervised examples...: 37444 examples [00:25, 1738.07 examples/s]\u001b[A\n",
      "Generating unsupervised examples...: 37620 examples [00:25, 1744.51 examples/s]\u001b[A\n",
      "Generating unsupervised examples...: 37795 examples [00:25, 1735.64 examples/s]\u001b[A\n",
      "Generating unsupervised examples...: 37969 examples [00:26, 1721.42 examples/s]\u001b[A\n",
      "Generating unsupervised examples...: 38151 examples [00:26, 1750.57 examples/s]\u001b[A\n",
      "Generating unsupervised examples...: 38327 examples [00:26, 1753.26 examples/s]\u001b[A\n",
      "Generating unsupervised examples...: 38503 examples [00:26, 1744.74 examples/s]\u001b[A\n",
      "Generating unsupervised examples...: 38678 examples [00:26, 1741.00 examples/s]\u001b[A\n",
      "Generating unsupervised examples...: 38853 examples [00:26, 1728.13 examples/s]\u001b[A\n",
      "Generating unsupervised examples...: 39026 examples [00:26, 1713.33 examples/s]\u001b[A\n",
      "Generating unsupervised examples...: 39198 examples [00:26, 1705.10 examples/s]\u001b[A\n",
      "Generating unsupervised examples...: 39370 examples [00:26, 1709.39 examples/s]\u001b[A\n",
      "Generating unsupervised examples...: 39541 examples [00:26, 1650.62 examples/s]\u001b[A\n",
      "Generating unsupervised examples...: 39718 examples [00:27, 1685.20 examples/s]\u001b[A\n",
      "Generating unsupervised examples...: 39887 examples [00:27, 1686.50 examples/s]\u001b[A\n",
      "Generating unsupervised examples...: 40057 examples [00:27, 1690.37 examples/s]\u001b[A\n",
      "Generating unsupervised examples...: 40227 examples [00:27, 1683.13 examples/s]\u001b[A\n",
      "Generating unsupervised examples...: 40396 examples [00:27, 1665.31 examples/s]\u001b[A\n",
      "Generating unsupervised examples...: 40563 examples [00:27, 1591.45 examples/s]\u001b[A\n",
      "Generating unsupervised examples...: 40730 examples [00:27, 1613.88 examples/s]\u001b[A\n",
      "Generating unsupervised examples...: 40901 examples [00:27, 1641.72 examples/s]\u001b[A\n",
      "Generating unsupervised examples...: 41079 examples [00:27, 1682.18 examples/s]\u001b[A\n",
      "Generating unsupervised examples...: 41250 examples [00:27, 1690.29 examples/s]\u001b[A\n",
      "Generating unsupervised examples...: 41433 examples [00:28, 1731.63 examples/s]\u001b[A\n",
      "Generating unsupervised examples...: 41611 examples [00:28, 1745.91 examples/s]\u001b[A\n",
      "Generating unsupervised examples...: 41786 examples [00:28, 1747.01 examples/s]\u001b[A\n",
      "Generating unsupervised examples...: 41961 examples [00:28, 1717.00 examples/s]\u001b[A\n",
      "Generating unsupervised examples...: 42133 examples [00:28, 1712.71 examples/s]\u001b[A\n",
      "Generating unsupervised examples...: 42305 examples [00:28, 1704.65 examples/s]\u001b[A\n",
      "Generating unsupervised examples...: 42476 examples [00:28, 1676.34 examples/s]\u001b[A\n",
      "Generating unsupervised examples...: 42657 examples [00:28, 1715.46 examples/s]\u001b[A\n",
      "Generating unsupervised examples...: 42829 examples [00:28, 1706.60 examples/s]\u001b[A\n",
      "Generating unsupervised examples...: 43000 examples [00:28, 1692.48 examples/s]\u001b[A\n",
      "Generating unsupervised examples...: 43173 examples [00:29, 1703.44 examples/s]\u001b[A\n",
      "Generating unsupervised examples...: 43344 examples [00:29, 1646.68 examples/s]\u001b[A\n",
      "Generating unsupervised examples...: 43510 examples [00:29, 1594.88 examples/s]\u001b[A\n",
      "Generating unsupervised examples...: 43677 examples [00:29, 1616.26 examples/s]\u001b[A\n",
      "Generating unsupervised examples...: 43843 examples [00:29, 1628.84 examples/s]\u001b[A\n",
      "Generating unsupervised examples...: 44007 examples [00:29, 1613.10 examples/s]\u001b[A\n",
      "Generating unsupervised examples...: 44179 examples [00:29, 1644.27 examples/s]\u001b[A\n",
      "Generating unsupervised examples...: 44356 examples [00:29, 1681.22 examples/s]\u001b[A\n",
      "Generating unsupervised examples...: 44525 examples [00:29, 1683.71 examples/s]\u001b[A\n",
      "Generating unsupervised examples...: 44694 examples [00:30, 1670.56 examples/s]\u001b[A\n",
      "Generating unsupervised examples...: 44862 examples [00:30, 1629.77 examples/s]\u001b[A\n",
      "Generating unsupervised examples...: 45026 examples [00:30, 1586.33 examples/s]\u001b[A\n",
      "Generating unsupervised examples...: 45186 examples [00:30, 1590.17 examples/s]\u001b[A\n",
      "Generating unsupervised examples...: 45346 examples [00:30, 1480.62 examples/s]\u001b[A\n",
      "Generating unsupervised examples...: 45496 examples [00:30, 1403.63 examples/s]\u001b[A\n",
      "Generating unsupervised examples...: 45654 examples [00:30, 1451.80 examples/s]\u001b[A\n",
      "Generating unsupervised examples...: 45820 examples [00:30, 1510.22 examples/s]\u001b[A\n",
      "Generating unsupervised examples...: 45986 examples [00:30, 1553.02 examples/s]\u001b[A\n",
      "Generating unsupervised examples...: 46144 examples [00:30, 1560.75 examples/s]\u001b[A\n",
      "Generating unsupervised examples...: 46307 examples [00:31, 1580.95 examples/s]\u001b[A\n",
      "Generating unsupervised examples...: 46473 examples [00:31, 1604.18 examples/s]\u001b[A\n",
      "Generating unsupervised examples...: 46634 examples [00:31, 1586.97 examples/s]\u001b[A\n",
      "Generating unsupervised examples...: 46798 examples [00:31, 1602.51 examples/s]\u001b[A\n",
      "Generating unsupervised examples...: 46959 examples [00:31, 1581.18 examples/s]\u001b[A\n",
      "Generating unsupervised examples...: 47130 examples [00:31, 1619.01 examples/s]\u001b[A\n",
      "Generating unsupervised examples...: 47293 examples [00:31, 1622.15 examples/s]\u001b[A\n",
      "Generating unsupervised examples...: 47456 examples [00:31, 1591.26 examples/s]\u001b[A\n",
      "Generating unsupervised examples...: 47620 examples [00:31, 1605.47 examples/s]\u001b[A\n",
      "Generating unsupervised examples...: 47797 examples [00:31, 1654.00 examples/s]\u001b[A\n",
      "Generating unsupervised examples...: 47963 examples [00:32, 1603.30 examples/s]\u001b[A\n",
      "Generating unsupervised examples...: 48127 examples [00:32, 1613.88 examples/s]\u001b[A\n",
      "Generating unsupervised examples...: 48289 examples [00:32, 1615.57 examples/s]\u001b[A\n",
      "Generating unsupervised examples...: 48477 examples [00:32, 1693.61 examples/s]\u001b[A\n",
      "Generating unsupervised examples...: 48650 examples [00:32, 1704.30 examples/s]\u001b[A\n",
      "Generating unsupervised examples...: 48821 examples [00:32, 1700.00 examples/s]\u001b[A\n",
      "Generating unsupervised examples...: 48992 examples [00:32, 1692.78 examples/s]\u001b[A\n",
      "Generating unsupervised examples...: 49177 examples [00:32, 1739.38 examples/s]\u001b[A\n",
      "Generating unsupervised examples...: 49355 examples [00:32, 1749.26 examples/s]\u001b[A\n",
      "Generating unsupervised examples...: 49531 examples [00:33, 1696.66 examples/s]\u001b[A\n",
      "Generating unsupervised examples...: 49710 examples [00:33, 1723.81 examples/s]\u001b[A\n",
      "Generating unsupervised examples...: 49883 examples [00:33, 1705.43 examples/s]\u001b[A\n",
      "                                                                               \u001b[A\n",
      "Shuffling C:\\Users\\saban.kara\\tensorflow_datasets\\imdb_reviews\\subwords8k\\1.0.0.incompleteGNJCY1\\imdb_reviews-unsupervi\u001b[A\n",
      "Shuffling C:\\Users\\saban.kara\\tensorflow_datasets\\imdb_reviews\\subwords8k\\1.0.0.incompleteGNJCY1\\imdb_reviews-unsupervi\u001b[A\n",
      "Shuffling C:\\Users\\saban.kara\\tensorflow_datasets\\imdb_reviews\\subwords8k\\1.0.0.incompleteGNJCY1\\imdb_reviews-unsupervi\u001b[A\n",
      "Shuffling C:\\Users\\saban.kara\\tensorflow_datasets\\imdb_reviews\\subwords8k\\1.0.0.incompleteGNJCY1\\imdb_reviews-unsupervi\u001b[A\n",
      "Shuffling C:\\Users\\saban.kara\\tensorflow_datasets\\imdb_reviews\\subwords8k\\1.0.0.incompleteGNJCY1\\imdb_reviews-unsupervi\u001b[A\n"
     ]
    },
    {
     "name": "stderr",
     "output_type": "stream",
     "text": [
      "Shuffling C:\\Users\\saban.kara\\tensorflow_datasets\\imdb_reviews\\subwords8k\\1.0.0.incompleteGNJCY1\\imdb_reviews-unsupervi\u001b[A\n",
      "Shuffling C:\\Users\\saban.kara\\tensorflow_datasets\\imdb_reviews\\subwords8k\\1.0.0.incompleteGNJCY1\\imdb_reviews-unsupervi\u001b[A\n",
      "Shuffling C:\\Users\\saban.kara\\tensorflow_datasets\\imdb_reviews\\subwords8k\\1.0.0.incompleteGNJCY1\\imdb_reviews-unsupervi\u001b[A\n",
      "WARNING:absl:Dataset is using deprecated text encoder API which will be removed soon. Please use the plain_text version of the dataset and migrate to `tensorflow_text`.\n"
     ]
    },
    {
     "name": "stdout",
     "output_type": "stream",
     "text": [
      "Dataset imdb_reviews downloaded and prepared to C:\\Users\\saban.kara\\tensorflow_datasets\\imdb_reviews\\subwords8k\\1.0.0. Subsequent calls will reuse this data.\n"
     ]
    }
   ],
   "source": [
    "import tensorflow_datasets as tfds\n",
    "\n",
    "# Download the plain text default config\n",
    "imdb_plaintext, info_plaintext = tfds.load(\"imdb_reviews\", with_info=True, as_supervised=True)\n",
    "\n",
    "# Download the subword encoded pretokenized dataset\n",
    "imdb_subwords, info_subwords = tfds.load(\"imdb_reviews/subwords8k\", with_info=True, as_supervised=True)"
   ]
  },
  {
   "cell_type": "markdown",
   "id": "9d6f6067",
   "metadata": {},
   "source": [
    "## Compare the two datasets\n",
    "\n",
    "As mentioned, the data types returned by the two datasets will be different. For the default, it will be strings as you also saw in Lab 1. Notice the description of the `text` key below and the sample sentences:"
   ]
  },
  {
   "cell_type": "code",
   "execution_count": 3,
   "id": "469bd58b",
   "metadata": {},
   "outputs": [
    {
     "data": {
      "text/plain": [
       "FeaturesDict({\n",
       "    'label': ClassLabel(shape=(), dtype=int64, num_classes=2),\n",
       "    'text': Text(shape=(), dtype=string),\n",
       "})"
      ]
     },
     "execution_count": 3,
     "metadata": {},
     "output_type": "execute_result"
    }
   ],
   "source": [
    "# Print description of features\n",
    "info_plaintext.features"
   ]
  },
  {
   "cell_type": "code",
   "execution_count": 4,
   "id": "854addc3",
   "metadata": {},
   "outputs": [
    {
     "name": "stdout",
     "output_type": "stream",
     "text": [
      "b\"This was an absolutely terrible movie. Don't be lured in by Christopher Walken or Michael Ironside. Both are great actors, but this must simply be their worst role in history. Even their great acting could not redeem this movie's ridiculous storyline. This movie is an early nineties US propaganda piece. The most pathetic scenes were those when the Columbian rebels were making their cases for revolutions. Maria Conchita Alonso appeared phony, and her pseudo-love affair with Walken was nothing but a pathetic emotional plug in a movie that was devoid of any real meaning. I am disappointed that there are movies like this, ruining actor's like Christopher Walken's good name. I could barely sit through it.\"\n",
      "b'I have been known to fall asleep during films, but this is usually due to a combination of things including, really tired, being warm and comfortable on the sette and having just eaten a lot. However on this occasion I fell asleep because the film was rubbish. The plot development was constant. Constantly slow and boring. Things seemed to happen, but with no explanation of what was causing them or why. I admit, I may have missed part of the film, but i watched the majority of it and everything just seemed to happen of its own accord without any real concern for anything else. I cant recommend this film at all.'\n"
     ]
    }
   ],
   "source": [
    "# Take 2 training examples and print the text feature\n",
    "for example in imdb_plaintext['train'].take(2):\n",
    "    print(example[0].numpy())"
   ]
  },
  {
   "cell_type": "markdown",
   "id": "08cd84b0",
   "metadata": {},
   "source": [
    "* For subwords8k, the dataset is already tokenized so the data type will be integers. Notice that the text features also include an encoder field and has a vocab_size of around 8k, hence the name."
   ]
  },
  {
   "cell_type": "code",
   "execution_count": 5,
   "id": "b30c88f4",
   "metadata": {},
   "outputs": [
    {
     "data": {
      "text/plain": [
       "FeaturesDict({\n",
       "    'label': ClassLabel(shape=(), dtype=int64, num_classes=2),\n",
       "    'text': Text(shape=(None,), dtype=int64, encoder=<SubwordTextEncoder vocab_size=8185>),\n",
       "})"
      ]
     },
     "execution_count": 5,
     "metadata": {},
     "output_type": "execute_result"
    }
   ],
   "source": [
    "# Print description of features\n",
    "info_subwords.features"
   ]
  },
  {
   "cell_type": "markdown",
   "id": "9d3411a4",
   "metadata": {},
   "source": [
    "* If you print the results, you will not see string sentences but a sequence of tokens:"
   ]
  },
  {
   "cell_type": "code",
   "execution_count": 6,
   "id": "f077834d",
   "metadata": {},
   "outputs": [
    {
     "name": "stdout",
     "output_type": "stream",
     "text": [
      "(<tf.Tensor: shape=(163,), dtype=int64, numpy=\n",
      "array([  62,   18,   41,  604,  927,   65,    3,  644, 7968,   21,   35,\n",
      "       5096,   36,   11,   43, 2948, 5240,  102,   50,  681, 7862, 1244,\n",
      "          3, 3266,   29,  122,  640,    2,   26,   14,  279,  438,   35,\n",
      "         79,  349,  384,   11, 1991,    3,  492,   79,  122,  188,  117,\n",
      "         33, 4047, 4531,   14,   65, 7968,    8, 1819, 3947,    3,   62,\n",
      "         27,    9,   41,  577, 5044, 2629, 2552, 7193, 7961, 3642,    3,\n",
      "         19,  107, 3903,  225,   85,  198,   72,    1, 1512,  738, 2347,\n",
      "        102, 6245,    8,   85,  308,   79, 6936, 7961,   23, 4981, 8044,\n",
      "          3, 6429, 7961, 1141, 1335, 1848, 4848,   55, 3601, 4217, 8050,\n",
      "          2,    5,   59, 3831, 1484, 8040, 7974,  174, 5773,   22, 5240,\n",
      "        102,   18,  247,   26,    4, 3903, 1612, 3902,  291,   11,    4,\n",
      "         27,   13,   18, 4092, 4008, 7961,    6,  119,  213, 2774,    3,\n",
      "         12,  258, 2306,   13,   91,   29,  171,   52,  229,    2, 1245,\n",
      "       5790,  995, 7968,    8,   52, 2948, 5240, 8039, 7968,    8,   74,\n",
      "       1249,    3,   12,  117, 2438, 1369,  192,   39, 7975], dtype=int64)>, <tf.Tensor: shape=(), dtype=int64, numpy=0>)\n",
      "(<tf.Tensor: shape=(142,), dtype=int64, numpy=\n",
      "array([  12,   31,   93,  867,    7, 1256, 6585, 7961,  421,  365,    2,\n",
      "         26,   14,    9,  988, 1089,    7,    4, 6728,    6,  276, 5760,\n",
      "       2587,    2,   81, 6118, 8029,    2,  139, 1892, 7961,    5, 5402,\n",
      "        246,   25,    1, 1771,  350,    5,  369,   56, 5397,  102,    4,\n",
      "       2547,    3, 4001,   25,   14, 7822,  209,   12, 3531, 6585, 7961,\n",
      "         99,    1,   32,   18, 4762,    3,   19,  184, 3223,   18, 5855,\n",
      "       1045,    3, 4232, 3337,   64, 1347,    5, 1190,    3, 4459,    8,\n",
      "        614,    7, 3129,    2,   26,   22,   84, 7020,    6,   71,   18,\n",
      "       4924, 1160,  161,   50, 2265,    3,   12, 3983,    2,   12,  264,\n",
      "         31, 2545,  261,    6,    1,   66,    2,   26,  131,  393,    1,\n",
      "       5846,    6,   15,    5,  473,   56,  614,    7, 1470,    6,  116,\n",
      "        285, 4755, 2088, 7961,  273,  119,  213, 3414, 7961,   23,  332,\n",
      "       1019,    3,   12, 7667,  505,   14,   32,   44,  208, 7975],\n",
      "      dtype=int64)>, <tf.Tensor: shape=(), dtype=int64, numpy=0>)\n"
     ]
    }
   ],
   "source": [
    "# Take 2 training examples and print its contents\n",
    "for example in imdb_subwords['train'].take(2):\n",
    "    print(example)"
   ]
  },
  {
   "cell_type": "markdown",
   "id": "5cd77fb6",
   "metadata": {},
   "source": [
    "* You can get the encoder object included in the download and use it to decode the sequences above. You'll see that you will arrive at the same sentences provided in the plain_text config:"
   ]
  },
  {
   "cell_type": "code",
   "execution_count": 7,
   "id": "9d38dfc1",
   "metadata": {},
   "outputs": [
    {
     "name": "stdout",
     "output_type": "stream",
     "text": [
      "This was an absolutely terrible movie. Don't be lured in by Christopher Walken or Michael Ironside. Both are great actors, but this must simply be their worst role in history. Even their great acting could not redeem this movie's ridiculous storyline. This movie is an early nineties US propaganda piece. The most pathetic scenes were those when the Columbian rebels were making their cases for revolutions. Maria Conchita Alonso appeared phony, and her pseudo-love affair with Walken was nothing but a pathetic emotional plug in a movie that was devoid of any real meaning. I am disappointed that there are movies like this, ruining actor's like Christopher Walken's good name. I could barely sit through it.\n",
      "I have been known to fall asleep during films, but this is usually due to a combination of things including, really tired, being warm and comfortable on the sette and having just eaten a lot. However on this occasion I fell asleep because the film was rubbish. The plot development was constant. Constantly slow and boring. Things seemed to happen, but with no explanation of what was causing them or why. I admit, I may have missed part of the film, but i watched the majority of it and everything just seemed to happen of its own accord without any real concern for anything else. I cant recommend this film at all.\n"
     ]
    }
   ],
   "source": [
    "# Get the encoder\n",
    "tokenizer_subwords = info_subwords.features['text'].encoder\n",
    "\n",
    "# Take 2 training examples and decode the text feature\n",
    "for example in imdb_subwords['train'].take(2):\n",
    "    print(tokenizer_subwords.decode(example[0]))"
   ]
  },
  {
   "cell_type": "markdown",
   "id": "ff4906c8",
   "metadata": {},
   "source": [
    "* *Note: The documentation for the encoder can be found [here](https://www.tensorflow.org/datasets/api_docs/python/tfds/deprecated/text/SubwordTextEncoder) but don't worry if it's marked as deprecated. As mentioned, the objective of this exercise is just to show the characteristics of subword encoding.*"
   ]
  },
  {
   "cell_type": "markdown",
   "id": "daf242a8",
   "metadata": {},
   "source": [
    "* Subword Text Encoding\n",
    "* From previous labs, the number of tokens in the sequence is the same as the number of words in the text (i.e. word tokenization). The following cells shows a review of this process."
   ]
  },
  {
   "cell_type": "code",
   "execution_count": 10,
   "id": "1434cf82",
   "metadata": {},
   "outputs": [],
   "source": [
    "# Get the train set\n",
    "train_data = imdb_plaintext['train']\n",
    "\n",
    "# Initialize sentences list\n",
    "training_sentences = []\n",
    "\n",
    "# Loop over all training examples and save to the list\n",
    "for s,_ in train_data:\n",
    "    training_sentences.append(s.numpy().decode('utf8'))\n",
    "    \n",
    "from tensorflow.keras.preprocessing.text import Tokenizer\n",
    "from tensorflow.keras.preprocessing.sequence import pad_sequences\n",
    "\n",
    "vocab_size = 10000\n",
    "oov_tok = '<OOV>'\n",
    "\n",
    "# Initialize the Tokenizer class\n",
    "tokenizer_plaintext = Tokenizer(num_words = 10000, oov_token=oov_tok)\n",
    "\n",
    "# Generate the word index dictionary for the training sentences\n",
    "tokenizer_plaintext.fit_on_texts(training_sentences)\n",
    "\n",
    "# Generate the training sequences\n",
    "sequences = tokenizer_plaintext.texts_to_sequences(training_sentences)"
   ]
  },
  {
   "cell_type": "markdown",
   "id": "fbd00348",
   "metadata": {},
   "source": [
    "The cell above uses a `vocab_size` of 10000 but you'll find that it's easy to find OOV tokens when decoding using the lookup dictionary it created. See the result below:"
   ]
  },
  {
   "cell_type": "code",
   "execution_count": 11,
   "id": "b1dbc98e",
   "metadata": {},
   "outputs": [
    {
     "data": {
      "text/plain": [
       "[\"this was an absolutely terrible movie don't be <OOV> in by christopher walken or michael <OOV> both are great actors but this must simply be their worst role in history even their great acting could not redeem this movie's ridiculous storyline this movie is an early nineties us propaganda piece the most pathetic scenes were those when the <OOV> rebels were making their cases for <OOV> maria <OOV> <OOV> appeared phony and her pseudo love affair with walken was nothing but a pathetic emotional plug in a movie that was devoid of any real meaning i am disappointed that there are movies like this ruining actor's like christopher <OOV> good name i could barely sit through it\"]"
      ]
     },
     "execution_count": 11,
     "metadata": {},
     "output_type": "execute_result"
    }
   ],
   "source": [
    "# Decode the first sequence using the Tokenizer class\n",
    "tokenizer_plaintext.sequences_to_texts(sequences[0:1])"
   ]
  },
  {
   "cell_type": "markdown",
   "id": "bbe2d1d6",
   "metadata": {},
   "source": [
    "* For binary classifiers, this might not have a big impact but you may have other applications that will benefit from avoiding OOV tokens when training the model (e.g. text generation). If you want the tokenizer above to not have OOVs, then the vocab_size will increase to more than 88k. This can slow down training and bloat the model size. The encoder also won't be robust when used on other datasets which may contain new words, thus resulting in OOVs again."
   ]
  },
  {
   "cell_type": "code",
   "execution_count": 12,
   "id": "79511886",
   "metadata": {},
   "outputs": [
    {
     "data": {
      "text/plain": [
       "88583"
      ]
     },
     "execution_count": 12,
     "metadata": {},
     "output_type": "execute_result"
    }
   ],
   "source": [
    "# Total number of words in the word index dictionary\n",
    "len(tokenizer_plaintext.word_index)"
   ]
  },
  {
   "cell_type": "markdown",
   "id": "25ebe382",
   "metadata": {},
   "source": [
    "* Subword text encoding gets around this problem by using parts of the word to compose whole words. This makes it more flexible when it encounters uncommon words. See how these subwords look like for this particular encoder:"
   ]
  },
  {
   "cell_type": "code",
   "execution_count": 13,
   "id": "4bd5f439",
   "metadata": {},
   "outputs": [
    {
     "name": "stdout",
     "output_type": "stream",
     "text": [
      "['the_', ', ', '. ', 'a_', 'and_', 'of_', 'to_', 's_', 'is_', 'br', 'in_', 'I_', 'that_', 'this_', 'it_', ' /><', ' />', 'was_', 'The_', 'as_', 't_', 'with_', 'for_', '.<', 'on_', 'but_', 'movie_', ' (', 'are_', 'his_', 'have_', 'film_', 'not_', 'ing_', 'be_', 'ed_', 'you_', ' \"', 'it', 'd_', 'an_', 'he_', 'by_', 'at_', 'one_', 'who_', 'y_', 'from_', 'e_', 'or_', 'all_', 'like_', 'they_', '\" ', 'so_', 'just_', 'has_', ') ', 'her_', 'about_', 'out_', 'This_', 'some_', 'ly_', 'movie', 'film', 'very_', 'more_', 'It_', 'would_', 'what_', 'when_', 'which_', 'good_', 'if_', 'up_', 'only_', 'even_', 'their_', 'had_', 'really_', 'my_', 'can_', 'no_', 'were_', 'see_', 'she_', '? ', 'than_', '! ', 'there_', 'get_', 'been_', 'into_', ' - ', 'will_', 'much_', 'story_', 'because_', 'ing', 'time_', 'n_', 'we_', 'ed', 'me_', ': ', 'most_', 'other_', 'don', 'do_', 'm_', 'es_', 'how_', 'also_', 'make_', 'its_', 'could_', 'first_', 'any_', \"' \", 'people_', 'great_', 've_', 'ly', 'er_', 'made_', 'r_', 'But_', 'think_', \" '\", 'i_', 'bad_', 'A_', 'And_', 'It', 'on', '; ', 'him_', 'being_', 'never_', 'way_', 'that', 'many_', 'then_', 'where_', 'two_', 'In_', 'after_', 'too_', 'little_', 'you', '), ', 'well_', 'ng_', 'your_', 'If_', 'l_', '). ', 'does_', 'ever_', 'them_', 'did_', 'watch_', 'know_', 'seen_', 'time', 'er', 'character_', 'over_', 'characters_', 'movies_', 'man_', 'There_', 'love_', 'best_', 'still_', 'off_', 'such_', 'in', 'should_', 'the', 're_', 'He_', 'plot_', 'films_', 'go_', 'these_', 'acting_', 'doesn', 'es', 'show_', 'through_', 'better_', 'al_', 'something_', 'didn', 'back_', 'those_', 'us_', 'less_', '...', 'say_', 'is', 'one', 'makes_', 'can', 'and', 'all', 'ion_', 'find_', 'scene_', 'old_', 'real_', 'few_', 'going_', 'well', 'actually_', 'watching_', 'life_', 'me', '. <', 'o_', 'man', 'there', 'scenes_', 'same_', 'he', 'end_', 'this', '... ', 'k_', 'while_', 'thing_', 'of', 'look_', 'quite_', 'out', 'lot_', 'want_', 'why_', 'seems_', 'every_', 'll_', 'pretty_', 'got_', 'able_', 'nothing_', 'good', 'As_', 'story', ' & ', 'another_', 'take_', 'to', 'years_', 'between_', 'give_', 'am_', 'work_', 'isn', 'part_', 'before_', 'actors_', 'may_', 'gets_', 'young_', 'down_', 'around_', 'ng', 'thought_', 'though_', 'end', 'without_', 'What_', 'They_', 'things_', 'life', 'always_', 'must_', 'cast_', 'almost_', 'h_', '10', 'saw_', 'own_', 'here', 'bit_', 'come_', 'both_', 'might_', 'g_', 'whole_', 'new_', 'director_', 'them', 'horror_', 'ce', 'You_', 'least_', 'bad', 'big_', 'enough_', 'him', 'feel_', 'probably_', 'up', 'here_', 'making_', 'long_', 'her', 'st_', 'kind_', '--', 'original_', 'fact_', 'rather_', 'or', 'far_', 'nt_', 'played_', 'found_', 'last_', 'movies', 'When_', 'so', '\", ', 'comes_', 'action_', 'She_', 've', 'our_', 'anything_', 'funny_', 'ion', 'right_', 'way', 'trying_', 'now_', 'ous_', 'each_', 'done_', 'since_', 'ic_', 'point_', '\". ', 'wasn', 'interesting_', 'c_', 'worst_', 'te_', 'le_', 'ble_', 'ty_', 'looks_', 'show', 'put_', 'looking_', 'especially_', 'believe_', 'en_', 'goes_', 'over', 'ce_', 'p_', 'films', 'hard_', 'main_', 'be', 'having_', 'ry', 'TV_', 'worth_', 'One_', 'do', 'al', 're', 'again', 'series_', 'takes_', 'guy_', 'family_', 'seem_', 'plays_', 'role_', 'away_', 'world_', 'My_', 'character', ', \"', 'performance_', '2_', 'So_', 'watched_', 'John_', 'th_', 'plot', 'script_', 'For_', 'sure_', 'characters', 'set_', 'different_', 'minutes_', 'All_', 'American_', 'anyone_', 'Not_', 'music_', 'ry_', 'shows_', 'too', 'son_', 'en', 'day_', 'use_', 'someone_', 'for', 'woman_', 'yet_', '.\" ', 'during_', 'she', 'ro', '- ', 'times_', 'left_', 'used_', 'le', 'three_', 'play_', 'work', 'ness_', 'We_', 'girl_', 'comedy_', 'ment_', 'an', 'simply_', 'off', 'ies_', 'funny', 'ne', 'acting', 'That_', 'fun_', 'completely_', 'st', 'seeing_', 'us', 'te', 'special_', 'ation_', 'as', 'ive_', 'ful_', 'read_', 'reason_', 'co', 'need_', 'sa', 'true_', 'ted_', 'like', 'ck', 'place_', 'they', '10_', 'However', 'until_', 'rest_', 'sense_', 'ity_', 'everything_', 'people', 'nt', 'ending_', 'again_', 'ers_', 'given_', 'idea_', 'let_', 'nice_', 'help_', 'no', 'truly_', 'beautiful_', 'ter', 'ck_', 'version_', 'try_', 'came_', 'Even_', 'DVD_', 'se', 'mis', 'scene', 'job_', 'ting_', 'Me', 'At_', 'who', 'money_', 'ment', 'ch', 'recommend_', 'was', 'once_', 'getting_', 'tell_', 'de_', 'gives_', 'not', 'Lo', 'we', 'son', 'shot_', 'second_', 'After_', 'To_', 'high_', 'screen_', ' -- ', 'keep_', 'felt_', 'with', 'great', 'everyone_', 'although_', 'poor_', 'el', 'half_', 'playing_', 'couple_', 'now', 'ble', 'excellent_', 'enjoy_', 'couldn', 'x_', 'ne_', ',\" ', 'ie_', 'go', 'become_', 'less', 'himself_', 'supposed_', 'won', 'understand_', 'seen', 'ally_', 'THE_', 'se_', 'actor_', 'ts_', 'small_', 'line_', 'na', 'audience_', 'fan_', 'et', 'world', 'entire_', 'said_', 'at', '3_', 'scenes', 'rs_', 'full_', 'year_', 'men_', 'ke', 'doing_', 'went_', 'director', 'back', 'early_', 'Hollywood_', 'start_', 'liked_', 'against_', 'remember_', 'love', 'He', 'along_', 'ic', 'His_', 'wife_', 'effects_', 'together_', 'ch_', 'Ra', 'ty', 'maybe_', 'age', 'S_', 'While_', 'often_', 'sort_', 'definitely_', 'No', 'script', 'times', 'absolutely_', 'book_', 'day', 'human_', 'There', 'top_', 'ta', 'becomes_', 'piece_', 'waste_', 'seemed_', 'down', '5_', 'later_', 'rs', 'ja', 'certainly_', 'budget_', 'th', 'nce_', '200', '. (', 'age_', 'next_', 'ar', 'several_', 'ling_', 'short_', 'sh', 'fe', 'Of_', 'instead_', 'Man', 'T_', 'right', 'father_', 'actors', 'wanted_', 'cast', 'black_', 'Don', '1_', 'more', 'comedy', 'better', 'camera_', 'wonderful_', 'production_', 'inter', 'course', 'low_', 'else_', 'w_', 'ness', 'course_', 'based_', 'ti', 'Some_', 'know', 'house_', 'say', 'de', 'watch', 'ous', 'pro', 'tries_', 'ra', 'kids_', 'etc', ' \\x96 ', 'loved_', 'est_', 'fun', 'made', 'video_', 'un', 'totally_', 'Michael_', 'ho', 'mind_', 'No_', 'Be', 'ive', 'La', 'Fi', 'du', 'ers', 'Well', 'wants_', 'How_', 'series', 'performances_', 'written_', 'live_', 'New_', 'So', 'Ne', 'Na', 'night_', 'ge', 'gave_', 'home_', 'heart', 'women_', 'nu', 'ss_', 'hope_', 'ci', 'friends_', 'Se', 'years', 'sub', 'head_', 'Y_', 'Du', '. \"', 'turn_', 'red_', 'perfect_', 'already_', 'classic_', 'tri', 'ss', 'person_', 'star_', 'screen', 'style_', 'ur', 'starts_', 'under_', 'Then_', 'ke_', 'ine', 'ies', 'um', 'ie', 'face_', 'ir', 'enjoyed_', 'point', 'lines_', 'Mr', 'turns_', 'what', 'side_', 'sex_', 'Ha', 'final_', ').<', 'With_', 'care_', 'tion_', 'She', 'ation', 'Ar', 'problem_', 'ma', 'lost_', 'are', 'li', '4_', 'fully_', 'oo', 'sha', 'Just_', 'name_', 'ina', 'boy_', 'finally_', 'ol', '!<', 'Bo', 'though', 'about', 'hand', 'ton', 'lead_', 'school_', 'ns', 'ha', 'favorite_', 'stupid_', 'gi', 'original', 'mean_', 'To', 'took_', 'either_', 'ni', 'book', 'episode_', 'om', 'Su', 'D_', 'Mc', 'house', 'cannot_', 'stars_', 'behind_', 'see', 'other', 'Che', 'role', 'art', 'ever', 'Why_', 'father', 'case_', 'tic_', 'moments_', 'Co', 'works_', 'sound_', 'Ta', 'guess_', 'perhaps_', 'Vi', 'thing', 'fine_', 'fact', 'music', 'non', 'ful', 'action', 'ity', 'ct', 'ate_', 'type_', 'lack_', 'death_', 'art_', 'able', 'Ja', 'ge_', 'wouldn', 'am', 'tor', 'extremely_', 'pre', 'self', 'Mor', 'particularly_', 'bo', 'est', 'Ba', 'ya', 'play', 'Pa', 'ther', 'heard_', 'however', 'ver', 'dy_', 'Sa', 'ding_', 'led_', 'late_', 'feeling_', 'per', 'low', 'ably_', 'Un', 'On_', 'known_', 'kill_', 'fight_', 'beginning_', 'cat', 'bit', 'title_', 'vo', 'short', 'old', 'including_', 'Da', 'coming_', 'That', 'place', 'looked_', 'best', 'Lu', 'ent_', 'bla', 'quality_', 'except_', '...<', 'ff', 'decent_', 'much', 'De', 'Bu', 'ter_', 'attempt_', 'Bi', 'taking_', 'ig', 'Ti', 'whose_', 'dialogue_', 'zz', 'war_', 'ill', 'Te', 'war', 'Hu', 'James_', '..', 'under', 'ring_', 'pa', 'ot', 'expect_', 'Ga', 'itself_', 'line', 'lives_', 'let', 'Dr', 'mp', 'che', 'mean', 'called_', 'complete_', 'terrible_', 'boring_', 'others_', '\" (', 'aren', 'star', 'long', 'Li', 'mother_', 'si', 'highly_', 'ab', 'ex', 'os', 'nd', 'ten_', 'ten', 'run_', 'directed_', 'town_', 'friend_', 'David_', 'taken_', 'finds_', 'fans_', 'Mar', 'writing_', 'white_', 'u_', 'obviously_', 'mar', 'Ho', 'year', 'stop_', 'f_', 'leave_', 'king_', 'act_', 'mind', 'entertaining_', 'ish_', 'Ka', 'throughout_', 'viewer_', 'despite_', 'Robert_', 'somewhat_', 'hour_', 'car_', 'evil_', 'Although_', 'wrong_', 'Ro', 'dead_', 'body_', 'awful_', 'home', 'exactly_', 'bi', 'family', 'ts', 'usually_', 'told_', 'z_', 'oc', 'minutes', 'tra', 'some', 'actor', 'den', 'but', 'Sha', 'tu', 'strong_', 'Jo', 'real', 'la', 'gin', 'ul', 'amazing_', 'save_', 'wrong', 'dis', 'obvious_', 'close_', 'sometimes_', 'shown_', 'head', 'land', 'Go', 'mer', 'ending', 'else', 'audience', 'su', 'parts_', 'ga', 'before', 'cinema', 'opening_', 'laugh_', 'Ca', 'sh_', 'guys_', 'ds_', 'number_', 'Ma', 'soon_', 'ob', 'po', 'wonder_', 'group_', 'men', 'Mac', 'thinking_', 'fan', 'across_', 'turned_', 'ant', 'tells_', 'em', 'night', 'ton_', 'picture_', 'past_', 'Hi', 'girl', 'ght', 'woman', 'started_', 'ba', 'Ru', 'da', 'wi', 'running_', 'part', 'wish_', 'ner', 'ap', 'rn', 'ant_', 'mon', 'ast', 'awful', 'Yes', 'The', 'ard', 'nce', 'era', 'today', 'ad', 'Now_', '.) ', 'local_', 'killer_', 'huge_', 'flick', 'ends_', 'light', 'ons_', 'Al', 'knew_', 'due_', 'direction_', 'close', 'Gra', 'od', 'giving_', 'Le', 'op', 'Pe', 'ey_', 'wa', 'sta', 'worse_', 'single_', 'cut_', 'light_', 'ia', 'happens_', 'supporting_', 'room_', 'girls_', 'female_', 'E_', 'falls_', 'nd_', 'ish', 'mostly_', 'tan', 'major_', 'bring_', 'killed_', 'ele', 'el_', 'dark_', 'myself_', 'Pro', 'ent', 'ated_', 'British_', 'va', '....', 'talking_', 'con', 'tion', 'children_', 'by', 'voice_', 'sense', 'Car', '.. ', 'ain', 'For', 'Con', '8_', 'performance', 'au', 'stories_', 'ine_', 'Or', 'order_', 'first', 'ac', 'involved_', 'interesting', 'drama_', 'Dan', 'away', 'From_', 'ping_', 'boy', 'air', 'sing_', 'lle', 'You', 'lo', 'ian', 'ingly_', 'ia_', 'haven', 'using_', 'fo', 'dy', 'modern_', 'ST', 'wife', 'unt', 'game_', 'together', 'pp', 'clearly_', 'First_', 'sad', 'ris', 'ven', 'col', 'Maybe_', 'val', 'sexual_', 'serious_', 'relationship_', 'musical_', 'boring', 'But', 'hit_', 'brilliant_', 'easily_', 'living_', 'ca', 'police_', 'ip', ' , ', 'feels_', 'effects', 'sex', 'ist_', 'die', 'para', 'ort', 'humor_', 'Cor', 'ist', 'et_', 'Richard_', 'call_', 'example', 'appears_', 'actress_', 'rit', 'matter_', 'ar_', 'ns_', 'needs_', 'important_', 'fli', 'ec', 'stupid', 'ee', 'change_', 'bur', ' . ', 'comic_', 'DVD', 'We', '?<', 'Paul_', 'child_', 'ag', 'enjoy', 'cha', 'actual_', 'says_', 'nearly_', 'heart_', 'did', 'similar_', 'side', 'ru', 'ped_', 'und', 'super', 'name', 'clear_', \"', \", 'cu', 'child', 'moment_', 'ions_', 'fall_', 'done', 'chance_', 'then', 'ian_', 'George_', 'exc', 'enough', 'Jack_', 'win', 'Di', 'ying_', 'said', '80', 'ze', 'example_', 'themselves_', 'named_', 'ger', 'near_', 'guy', 'car', 'horrible_', 'bri', '!! ', 'ori', 'his', 'ded_', 'An_', 'released_', 'laugh', 'kept_', 'beyond_', 'b_', 'Sch', 'An', 'Lan', 'In', 'gar', 'genre', 'cho', 'Har', 'title', 'romantic_', 'mother', 'English_', 'mention_', 'interest_', 'Its_', 'money', 'face', 'brought_', 'ut', 'after', 'Win', 'working_', 'ny', 'knows_', 'happened_', 'certain_', '6_', 'within_', 'usual_', 'upon_', 'il', 'Her_', 'from', 'drama', 'Si', 'Mo', 'God', 'five_', 'whether_', 'tried_', 'ial_', 'history_', 'far', 'Re', 'novel', 'chi', 'inc', 'ure_', 'ied_', 'anti', 'Mad', 'lly_', 'Is_', '7_', 'ess', 'bunch_', 'vin', 'slow_', 'style', 'hi', 'eyes_', 'cinema_', 'showing_', 'gen', 'ra_', 'among_', 'unc', 'Po', 'Peter_', 'kid_', 'ght_', 'ny_', 'gh', 'tro', 'four_', 'ue', 'ley_', 'stuff_', 'strange_', 'sit_', 'sch', 'anyway', '199', 'hours_', 'These_', 'Most_', 'own', 'ned_', 'ban', 'Fa', 'decided_', 'xi', 'top', 'll', 'get', 'events_', 'Also_', 'typical_', 'shots_', 'look', 'happy_', 'um_', 'simple_', 'either', 'comment', 'ssi', 'ps', 'Bar', 'Per', 'saying_', 'none_', 'surprised_', 'sse', 'ka', 'ily_', 'horror', 'dig', 'tt', 'ric', 'post', 'TV', '198', '* ', 'half', 'gn', 'ste', 'ls', 'hero_', 'Pi', 'Like_', 'sad_', 'hear_', 'begins_', 'rent_', 'ure', 'rie', 'greatest_', 'Je', 'van', 'sci', 'kid', 'himself', 'Also', 'view_', 'score_', 'dge', 'became_', 'Cra', '197', 'ones_', 'cal', '9_', 'hor', 'hand_', 'days_', 'yourself_', 'tle', 'gan', 'ea', 'ago', 'WA', 'pen', 'ls_', 'learn_', 'Sta', 'By_', 'middle_', 'job', 'uc', 'ko', 'bar', 'lots_', 'cheap_', 'fi', 'stay_', 'stand_', 'pri', 'za', 'im', 'ight', 'happen_', 'Ab', 'Gar', 'ore', 'lan', 'classic', 'writer_', 'ster', 'picture', 'hate_', 'der', 'grand', 'disc', 'Mi', 'ud', 'é', 'murder_', 'basically_', 'jokes_', 'famous_', 'eg', 'easy_', 'rm', 'der_', 'R_', 'Mat', 'two', 'daughter', 'Spi', 'camera', 'AN', 'glo', 'talk_', 'daughter_', 'Fre', 'ri', 'perfect', 'experience_', 'buy_', 'zo', 'bu', 'Pu', 'Col', 'uni', 'later', 'children', 'sets_', 'annoying_', 'Tom_', 'uses_', 'jo', 'dead', 'psycho', 'mid', 'room', 'ki', 'hope', 'dialogue', 'attention_', 'cc', 'above_', 'possibly_', 'mo', 'difficult_', 'Mon', 'Japanese_', '!\" ', 'death', 'class_', ': \"', 'tic', 'ler', 'bus', 'genre_', 'stre', 'keeps_', 'cre', 'una', 'tly_', 'leaves_', 'RE', 'yes', 'realize_', 'nor_', 'figure_', 'Chan', 'rec', 'minute_', 'leading_', 'high', 'gui', 'ug', 'sequence_', 'na_', 'help', 'ani', 'Who_', 'exist', 'documentary_', 'sal', 'pe', 'key_', 'Bra', 'murder', 'leg', 'songs_', 'production', 'dle', 'cla', 'arm', 'US', \"'. \", 'reason', 'moving_', 'alone_', 'Ko', 'Bel', 'fu', 'elements_', 'Ste', 'prof', 'ning_', 'ey', 'dark', 'tur', 'les_', 'Ni', 'NOT_', 'ps_', 'bor', 'ary_', ' />\"', 'tter', 'level_', 'ys', 'apparently_', 'poorly_', 'meets_', 'killing_', 'id', 'ging_', 'ep', 'emotional_', 'brings_', 'means_', 'fla', 'episodes_', 'doubt_', 'camp', 'ME', 'Ad', 'sen', 'opinion', 'nch', 'ell', 'Ri', 'writer', 'something', 'Fe', 'flick_', 'flaw', 'ath', 'net', 'lines', 'cinematography_', 'straight_', 'slow', 'lu', 'ber', 'shi', 'husband_', 'forward_', 'form_', 'cra', 'ay', 'Fo', 'Another_', 'wo', 'whom_', 'reality_', 'hold_', 'Chi', 'Bro', 'roles_', 'move_', 'fire', 'brother_', 'Gi', 'Ben', 'review', 'que', 'cri', 'television_', 'overall_', 'French_', 'violence_', 'lla', 'enti', 'ass', 'previous_', 'forced_', 'cop', 'Oscar_', 'DE', 'possible_', 'hat', 'ear', 'budget', 'Tu', 'Ber', 'start', 'nti', 'hard', 'yn', 'school', 'deal_', 'rest', 'problems_', 'lie', 'ite', 'cool_', 'add_', 'towards_', 'reading_', 'LO', 'Gold', 'regard', 'itself', 'OK', 'leads_', 'id_', 'ved_', 'moments', 'dia', 'aw', '!) ', ' $', 'write_', 'theme_', 'Wo', 'filmed_', 'use', 'talent_', 'silly_', 'personal_', 'performances', 'needed_', 'mit', 'meant_', 'cli', 'Sho', 'tain', 'Pri', 'whi', 'comments_', 'city_', 'various_', 'sing', 'rate_', 'create_', 'respect', 'port', 'act', '194', 'message_', 'ted', 'dance_', 'case', 'ves_', 'song_', 'somehow_', 'incredibly_', 'points_', 'manages_', 'career_', 'begin_', 'Tra', 'RI', '20_', 'lai', 'interested_', 'terrible', 'hell_', 'har', 'Ku', 'Ger', 'video', 'ren', 'ky_', 'Ap', 'review_', 'ds', 'blood', 'worse', 'new', 'des', 'ways_', 'read', 'herself_', 'fre', ' *', 'set', 'rated_', 'friends', 'feature_', 'eventually_', 'blood_', 'Sea', 'ving_', 'enjoyable_', 'appear_', 'Stan', 'SE', 'thought', 'suit', 'qui', 'political_', 'person', 'les', 'gla', 'around', 'think', 'len', 'hit', 'direction', 'tale_', 'mess', 'dramatic_', 'ual_', 'gore_', 'Can', 'Am', 'ver_', 'others', 'ju', 'fairly_', 'dan', 'power_', 'dro', 'count', 'Her', 'une', 'third_', 'rop', 'crap', 'ai', 'ade', 'Joe_', 'town', 'ridiculous_', 'gone_', 'William_', 'particular_', 'older_', 'male_', 'humor', 'ard_', 'where', 'run', 'ld', 'bb', 'C_', 'ther_', 'sp', 'plenty_', 'ling', 'future_', 'stars', 'sin', 'pi', 'meet_', 'lt', 'da_', 'check_', 'En', '?\" ', 'ball', 'animation_', 'ta_', 'King_', 'hardly_', 'cul', '60', 'rt', 'Is', 'rai', 'land_', 'clu', 'wise', 'fast_', 'class', 'bra', 'worked_', 'question', 'per_', 'ok', 'expecting_', 'front_', 'come', 'Cu', 'scary_', 'past', 'hero', 'Mel', 'gri', 'average_', 'writers_', 'nk', 'fashion', 'dream', 'bear', 'attempts_', 'stand', 'total_', 'through', 'sm', 'ms', 'ice', 'gs_', 'eye', 'effort_', 'ale', 'warm', 'note', 'ger_', 'follow_', 'cro', 'vis', 'subject_', 'reviews_', 'mm', 'ect', 'Wa', 'Rob', 'imagine_', 'however_', 'decides_', 'brother', 'achieve', 'things', 'stage_', 'sound', 'rating_', 'ously_', 'ier', 'features_', 'ase', 'Vo', 'really', 'pay', 'pal', 'filled_', 'Disney_', 'telling_', 'join', 'coa', 'Lee_', 'team_', 'ov', 'emp', 'days', 'bin', 'ann', 'ally', 'women', 'social_', 'friend', 'vic', 'novel_', 'gle', 'ance_', 'weak_', 'viewers_', 'sy', 'fort', 'idea', 'Mu', 'MA', 'thriller', 'medi', 'forget_', 'York_', 'Au', 'stuff', 'ons', 'hilarious_', 'career', 'Ke', 'Christ', 'ors_', 'mentioned_', 'mark', 'def', 'watching', 'version', 'lor', 'flo', 'country_', 'G_', 'Bat', 'plain_', 'Sam', 'Anyway', 'lic', 'expected_', 'Tru', 'Great_', 'Ser', 'N_', 'And', '?) ', 'san', 'hr', 'Ham', 'pay_', 'lea', 'hol', 'Unfortunately', 'Luc', 'uti', 'row', 'history', 'bea', 'What', 'Or_', 'unless_', 'ica', 'episode', 'stra', 'sounds_', 'ability_', 'Cha', 'sco', 'represent', 'portrayed_', 'outs', 'dri', 'crap_', 'Oh', 'word_', 'open_', 'fantastic_', 'II', 'power', 'ical_', 'badly_', 'Well_', 'IN', 'Angel', 'waiting_', 'sees_', 'mor', 'ari', 'tom', 'sli', 'nation', 'mi', 'ma_', 'inf', 'Mil', 'viewing_', 'rt_', 'premise_', 'fit_', 'wl', 'unique_', 'talent', 'stay', 'fails_', 'breath', 'thi', 'ert', 'Sco', 'talk', 'slightly_', 'je', 'ah', 'NE', 'Fin', 'ridiculous', 'la_', 'Ki', 'vir', 'hea', 'ely_', 'beautiful', 'admit_', 'pu', 'crime_', 'comment_', '0_', 'shot', 'free_', 'entertaining', 'deserves_', 'mas', 'dialog_', 'hip', 'ff_', 'talented_', 'runs_', 'ini', 'ew', 'ded', 'Gri', 'roles', 'realistic_', 'clo', 'ana', 'Rat', 'Oh_', 'Man_', 'Den', 'spent_', 'rse', 'die_', 'Spe', 'Dra', 'ord', 'mal', 'ism', 'del', 'War', 'Cro', 'nn', 'min', 'fighting_', 'excellent', 'ct_', 'ask_', 'abo', 'parents_', 'ou', 'flash', 'Ver', 'Star', 'ym', 'score', 'nature_', 'den_', 'cou', 'body', 'aff', 'Ze', 'Pat', 'Mal', 'lab', 'wing_', 'theater_', 'sho', 'ow', 'mini', 'biggest_', 'Best_', 'wrote_', 'perfectly_', 'pack', 'ile', 'bly_', 'agree_', 'Perhaps_', '-- ', 'sign', 'di', 'cer', 'caught_', 'Good_', 'visual_', 'roll', 'my', 'memorable_', 'kids', 'ise_', 'hin', 'bre', 'beat', 'ring', 'reveal', 'res', 'pit', 'fa', '70', 'words_', 'wn', 'wait_', 'storyline_', 'make', 'ended_', 'ship_', 'ose', 'hot_', 'add', 'DO', 'ib', 'eri', 'directors_', 'amount_', 'Sure', 'ua', 'tin', 'mu', 'hilarious', 'eti', 'deep_', 'battle_', 'bas', 'Pre', 'Ali', 'tre', 'tie', 'thriller_', 'spirit', 'sister', 'ship', 'ser', 'rl', 'rich_', 'outside_', 'ato', 'ad_', 'Do', 'weren', 'sla', 'ro_', 'large_', 'craft', 'Shi', 'ye', 'true', 'spend_', 'rd', 'entirely_', 'Do_', 'wit', 'quickly_', 'powerful_', 'ary', 'Jane_', '193', 'sti', 'ph', 'mel', 'list', 'interest', 'footage_', 'comm', 'Tri', 'vers', 'spe', 'sna', 'sequences_', 'present', 'casting_', 'Star_', 'M_', ').', 'shoot', 'result_', 'gre', 'fore', 'ete', 'break', 'soundtrack_', 'sion_', 'poor', 'lay', 'eas', 'black', 'temp', 'nda', 'king', 'compared_', 'chu', 'break_', 'Ben_', 'ute', 'recent_', 'pure_', 'oi', 'lie_', 'burn', 'uns', 'rip', 'ner_', 'late', 'husband', 'former_', 'dull_', 'argu', 'Hollywood', 'nc', 'ming_', 'lin', 'atmosphere_', 'wood', 'why', 'amazing', 'ron', 'rat', 'gra', 'sed_', 'period_', 'game', 'Sto', 'win_', 'ult', 'scar', 'pun', 'hei', ' `', 'release_', 'present_', 'pin', 'ks_', 'appreciate_', '00', 'jump', 'bomb', 'HA', 'showed_', 'nan', 'kills_', 'decade', 'NO', 'Boy', 'ting', 'rating', 'editing_', 'actress', 'Wal', 'Ea', '\", \"', 'weird_', 'inside_', 'hair', 'eli', 'disappointed_', 'Wor', 'ski', 'ings_', 'fast', 'drag', 'adapt', 'TO', 'NG_', 'sequel_', 'fle', 'Sand', 'RO', 'whatever_', 'sleep', 'sca', 'ret', 'ney_', 'creepy_', 'cal_', '\") ', 'sor', 'popular_', 'nne', 'kick', 'ht', 'display', 'another', 'ves', 'please_', 'moves_', 'care', 'bet', 'bat', 'War_', 'CO', 'program', 'predictable_', 'positive_', 'hing_', 'copy_', 'bia', 'anything', 'affect', 'thrill', 'rk', 'mark_', 'ism_', 'edit', 'Bri', 'rate', 'missing_', 'ila', 'ial', 'guess', 'ft', 'entr', 'decide_', '30', 'sun', 'filmmakers_', 'box_', 'ating_', 'Cla', 'CA', '18', 'nie', 'material_', 'married_', 'hu', 'fin', 'blo', 'Wood', 'Tom', 'vi', 'oni', 'ena', 'BA', 'path', 'os_', 'human', 'mag', 'ins', 'earlier_', 'TI', 'LA', 'Far', 'portrayal_', 'orc', 'lame_', 'ks', 'form', 'call', 'acted_', 'Christmas_', 'violence', 'superb_', 'idiot', 'follow', 'blow', 'SO', 'Les', 'Bill_', '30_', 'sorry_', 'created_', 'common_', 'cheesy_', 'Lea', 'Carl', '!!! ', 'question_', 'pt', 'pick', 'med_', 'leaving_', 'box', 'Ci', 'Bla', 'AR', '\".<', 'ze_', 'makers_', 'draw', 'ala', 'Day', 'B_', 'succeed', 'pat', 'ones', 'gay_', 'cy', 'barely_', 'ara', 'air_', 'San', 'Director_', 'xt', 'screenplay_', 'pan', 'miss_', 'does', 'consider_', 'com', 'ER', 'ub', 'ple', 'mystery_', 'mine', 'involving_', 'familiar_', 'Mari', 'German_', 'nat', 'eye_', 'dly_', 'disa', 'country', 'att', 'app', 'tho', 'press', 'mat', 'llo', 'fi_', 'connect', 'called', 'ane', 'May', 'LE', 'K_', 'Italian_', 'Every_', 'sure', 'ster_', 'starring_', 'horse', 'further_', 'entertainment_', 'ense', 'dog', 'disappointed', 'cher', 'af', 'won_', 'secret', 'likes_', 'indi', 'follows_', 'ball_', 'God_', 'Cur', '196', 'wasted_', 'ideas_', 'cur', 'Bal', 'lly', 'ire', 'gu', 'general_', 'believable_', 'aus', 'Stu', 'Despite_', 'understand', 'lit', 'last', 'cy_', 'bought_', 'ago_', 'Very_', 'Only_', 'Han', 'wear', 'thu', 'themselves', 'recently_', 'ms_', 'intention', 'focus_', 'ations_', 'ali', 'yp', 'yet', 'ici', 'gy', 'exten', 'Min', 'Lin', 'Ed', 'Dar', 'tis', 'credits_', 'Now', '50', 'sister_', 'setting_', 'odd_', 'missed_', 'mea', 'lot', 'ight_', 'gg', 'fantasy_', 'ash', 'US_', 'Overall', 'young', 'suddenly_', 'nge', 'members_', 'dra', 'cover_', 'artist', 'Watch_', 'moment', 'background_', '.....', 'seriously_', 'mic', 'considered_', 'Ric', 'Pres', '! <', ' (\"', 'opinion_', 'ise', 'gun', 'different', 'Sou', 'utterly_', 'asse', 'alt', 'Though_', 'LY_', 'Big_', 'situation_', 'rio', 'il_', 'ef', 'ding', 'Still', 'Cre', 'younger_', 'special', 'raise', 'El', '90', 'walk_', 'tone_', 'tes_', 'sitting_', 'glad_', 'base', 'Let', 'Boo', 'vent', 'lead', 'considering_', 'animated_', 'witness', 'torture', 'throw', 'sea', 'load', 'lim', 'hot', 'following_', 'ess_', 'center', 'Scott_', 'NG', 'BO', '15_', 'word', 'rid', 'pop', 'ions', 'ges', 'enter', 'Sal', 'Gre', 'ties_', 'spl', 'hy', 'ery_', 'disappointment', 'avoid_', 'Jud', 'Ce', 'need', 'hel', 'hands_', 'develop', 'cause_', 'Steve_', 'zombie_', 'voice', 'successful_', 'eo', 'Mary_', 'EN', 'Because_', 'stage', 'rv', 'master', 'crazy_', 'Mer', 'rent', 'hes', 'OF_', 'yl', 'tive_', 'remake_', 'passion', 'managed_', 'fra', 'fans', 'drive', 'CH', 'Blo', 'Art', 'surprise_', 'suggest', 'list_', 'imme', 'crew_', 'continu', 'Sci', 'solid_', 'ora', 'eu', 'Men', 'Cal', 'sus', 'shar', 'omi', 'ita', 'istic_', 'Pl', 'Jack', 'Davi', 'wonder', 'slasher_', 'produced_', 'frame', 'cle', 'Em', 'subs', 'state', 'seek', 'ona', 'mention', 'laughing_', 'iti', 'hide', 'date', 'Some', 'touch', 'soft', 'shop', 'interview', 'dumb_', 'clean', 'bored_', 'bill', 'bed_', 'beauty_', 'basic_', 'Cou', 'zi', 'ultimately_', 'thinks_', 'sto', 'odd', 'masterpiece', 'kind', 'cool', 'Ac', 'tto', 'sit', 'nci', 'ized_', 'gore', 'dee', 'boo', 'Va', 'Come', 'ning', 'escape', 'eng', 'RA', 'America', 'worthy_', 'unre', 'tche', 'shame_', 'nothing', 'explo', 'Sl', 'Bus', 'BE', '13', 'pra', 'least', 'effect_', 'deliver', 'boys_', 'Wi', 'Stra', 'Fr', 'Cap', '**', '\".', 'space_', 'potential_', 'oli', 'lon', 'ind', 'gor', 'gon', 'generally_', 'ext', 'chees', 'beginning', 'Tony_', 'wait', 'meaning', 'ley', 'fire_', 'des_', 'cop_', 'ati', 'Ram', 'Ex', '195', 'were', 'survive', 'ral_', 'push', 'mut', 'killer', 'dist', 'charm', 'ang', 'Frank', 'writing', 'worth', 'wor', 'stop', 'stick_', 'ler_', 'chemistry_', 'cap', 'ae', 'Ya', 'second', 'ost', 'machine', 'lessly_', 'individual', 'experience', 'ead', 'dancing_', 'Sy', 'Del', 'Bor', '!!', 'would', 'suspense_', 'project', 'intelligent_', 'cover', 'asi', 'Brit', 'speak_', 'season_', 'oth', 'ida', 'factor', 'amo', 'World_', 'Once_', 'Hard', ' ... ', 'tol', 'live', 'changed_', 'brain', 'uri', 'seriously', 'release', 'likely_', 'gne', 'explain_', 'ance', 'added_', 'Here_', 'AL', '% ', 'wre', 'spar', 'gree', 'eyes', 'detail', 'Night', 'Mag', 'term', 'tape', 'public_', 'pleas', 'lives', 'ker', 'ile_', 'had', 'dre', 'directing_', 'dialog', 'convincing_', 'chance', 'big', 'beat_', 'appl', 'truth_', 'spa', 'rica', 'monster_', 'market', 'imm', 'have', 'fine', 'clue', 'card', 'blu', 'adult_', 'Who', 'Jim_', 'Bea', '.)', 'value', 'twist_', 'thrown_', 'phe', 'model', 'entertainment', 'Where_', 'LI', 'Ju', 'Black_', 'ura', 'nic', 'han', 'failed_', 'cinematic_', 'bizarre_', 'ben', 'Gu', 'rare_', 'mbo', 'historical_', 'everyone', 'epi', 'ate', 'ada', 'Cli', 'wind', 'sou', 'nder', 'mb', 'held_', 'formula', 'flu', 'effect', 'clever_', 'catch_', 'W_', 'pick_', 'business_', 'attempt', 'Show', 'Paul', 'segment', 'romance_', 'ram', 'nom', 'how', 'ged_', 'flow', 'equally_', 'computer_', 'commercial', 'Val', 'IMDb_', 'trans', 'sent_', 'pet', 'lk', 'ider', 'corn', 'channel', 'Ge', 'Christopher_', 'ways', 'tat', 'subject', 'shooting_', 'return_', 'neither_', 'neighbor', 'lady_', 'impossible_', 'Spa', 'BI', '***', ' -', 'yr', 'violent_', 'syn', 'suffer', 'fur', 'cru', 'Charl', 'secret_', 'rp', 'ros', 'pie', 'ious_', 'hoping_', 'ence_', 'Ye', 'Son', 'trick', 'nia', 'effective_', 'desp', 'costume', 'check', 'board_', 'ami', 'aire', 'ado', 'Whi', 'Two_', 'Rose', 'Green', 'surround', 'promise', 'mad', 'lesson', 'imagination', 'hum', 'excuse_', 'escape_', 'aspect_', 'ak', 'Thu', 'Pal', 'Kr', 'Bur', 'vil', 'travel', 'reso', 'protagonist', 'object', 'nes', 'longer_', 'lia', 'key', 'incredible_', 'hoo', 'fool', 'expression', 'bot', 'bel', 'Ree', 'Oscar', 'Fu', 'safe', 'remains_', 'note_', 'natural_', 'just', 'hm', 'grace', 'credit_', 'constantly_', 'Sam_', 'Ren', 'OK_', 'view', 'unlike_', 'surprise', 'success_', 'ssion', 'song', 'player', 'match_', 'ela', 'din', 'critic', 'accident', '20', 'otherwise_', 'material', 'knowing_', 'ings', 'ffe', 'depth_', 'cula', 'Whe', 'Ph', 'Ai', 'respect_', 'puts_', 'pher', 'kin', 'concept_', 'zed_', 'unfortunate', 'que_', 'predictable', 'order', 'onto_', 'meta', 'ev', 'dress', 'dog_', 'cell', 'Thi', 'Frank_', 'spin', 'rot', 'military_', 'hall', 'cut', 'choice_', 'chick', 'bs', 'Za', 'Many_', 'witch', 'weak', 'swa', 'rti', 'producers_', 'inn', 'gold', 'fault', 'ez', 'cute_', 'cult_', 'WO', 'SH', 'drink', ', (', 'wall', 'theme', 'taste', 'sion', 'iz', 'gun_', 'ek', 'drawn_', 'anyone', 'antic', 'tension_', 'team', 'sweet_', 'ree', 'perform', 'partner', 'horrible', 'contains_', 'Es', 'De_', 'Chris_', 'AT', 'vote', 'tch_', 'singing_', 'shine', 'hasn', 'happen', 'gal', 'demon', 'dar', 'Jer', 'GE', 'ske', 'indeed_', 'guys', 'emotion', 'apart_', 'See', 'Roger', 'Pol', 'trouble_', 'seat', 'planet', 'exciting_', 'err', 'dream_', 'cus', 'arrive', 'HO', '!!!!', 'trip_', 'today_', 'sle', 'setting', 'rr', 'plus_', 'og', 'faci', 'disp', 'crack', 'cen', 'Gun', 'words', 'will', 'prefer', 'pect', 'noi', 'leader', 'dit', 'deal', 'creep', 'Zo', 'Sid', 'East', 'record', 'poo', 'normal_', 'message', 'ffi', 'fer', 'correct', 'colle', 'ator', 'Ros', 'Other_', 'zen', 'usi', 'pil', 'mental_', 'ji', 'immediately_', 'ible_', 'capt', 'bab', 'Chu', 'tar', 'stands_', 'progress', 'making', 'lc', 'fic', 'exp', 'encounter', 'circ', 'change', 'annoying', 'Mur', 'Lor', 'Little_', 'tl', 'rain', 'fail', 'died_', 'Time', 'Blood', 'tell', 'reflect', 'ked_', 'judge', 'ide', 'development_', 'control_', 'clima', 'bed', 'alr', 'Tre', 'trouble', 'thr', 'spot', 'ress', 'red', 'pol', 'hill', 'eb', 'TH', 'Ken', '\\x85 ', 'surprisingly_', 'rep', 'freak', 'dep', 'college_', 'brilliant', 'blin', 'bath', 'People_', 'Nat', 'Charles_', 'walking_', 'ref', 'reco', 'pace_', 'nde', 'mil', 'mainly_', 'literally_', 'fia', 'dull', 'Sn', 'Ever', 'Dam', 'Bre', 'Brad', 'Both_', 'ward', 'trash', 'tough_', 'serve', 'reasons_', 'ngs', 'llen', 'ines', 'honest', 'focus', 'carrie', 'aim', 'Us', 'Prince', 'Nothing_', 'truth', 'supp', 'sma', 'musical', 'inco', 'fight', 'enc', 'bother', 'arch', 'Jon', 'Japan', 'Er', 'Des', '!!!', 'unw', 'unfortunately_', 'til', 'rese', 'marri', 'ior', 'ene', 'ain_', 'Aust', 'ular', 'tru', 'tch', 'tale', 'prop', 'phan', 'orat', 'nit', 'matter', 'host', 'hood', '\\\\&undsc', 'Not', 'Film_', 'Ama', 'yle', 'var', 'standards', 'pers', 'nice', 'meaning_', 'laughs_', 'joke_', 'iss', 'happi', 'era_', 'WH', 'Lil', 'Girl', 'ES', ' />-', 'watche', 'tant', 'qua', 'presented_', 'minor_', 'gro', 'fie', 'door', 'corp', 'catch', 'cally_', 'bert', 'Indian_', 'Gen', 'questions_', 'lacks_', 'forever', 'establish', 'esc', 'cheap', 'Sol', 'while', 'twist', 'society_', 'pass_', 'overa', 'merely_', 'highlight', 'flat_', 'fill', 'color', 'cartoon_', 'Will_', 'NT', 'IT', 'Harry_', 'Fan', 'youth', 'possible', 'orm', 'free', 'eight', 'destroy', 'creati', 'cing_', 'ces_', 'Carr', 'unl', 'suggest_', 'slo', 'owner', 'kh', 'instead', 'influence', 'experiment', 'convey', 'appeal_', 'Ol', 'Night_', '---', 'vy', 'terms_', 'sick_', 'par', 'once', 'law', 'ize_', 'infe', 'Spo', 'House_', '\\x85', 'studio_', 'simple', 'rre', 'guard', 'girlfriend_', 'fear', 'dam', 'concern', 'amusing_', 'adaptation_', 'Ms', 'King', 'water', 'ory_', 'officer', 'litera', 'knock', 'grat', 'falling_', 'ered_', 'cow', 'cond', 'alo', 'Kar', 'Der', 'Cri', 'text', 'skin', 'sequel', 'level', 'impression_', 'ice_', 'force_', 'fake_', 'deri', 'contain', 'band_', 'appa', 'South_', 'HE', 'Conn', 'wise_', 'ur_', 'ual', 'sy_', 'luck', 'lack', 'impressi', 'disaster', 'business', 'being', 'beg', 'Burt', ' <', 'villain_', 'type', 'shoot_', 'shame', 'sb', 'pt_', 'proves_', 'manner', 'lame', 'impressive_', 'ern', 'disappear', 'alone', 'LL', 'Having_', 'Brook', 'Arm', '!\"', 'works', 'state_', 'shock', 'rev', 'mus', 'int', 'ino', 'images_', 'brid', 'berg', 'alis', 'Clo', 'singer', 'shr', 'rock_', 'provides_', 'page', 'instance', 'drug_', 'crime', 'beautifully_', 'acts_', 'UN', 'Tal', 'Bruce_', 'self_', 'reality', 'mans', 'lived_', 'innocent_', 'ically_', 'fall', 'dict', 'Henry_', 'Fox', 'Bac', 'sold', 'says', 'period', 'ome', 'melodrama', 'include_', 'evil', 'Ins', 'stati', 'silent_', 'ria', 'mom', 'met_', 'guns', 'ground', 'gate', 'fell_', 'cle_', 'cari', 'birth', 'Look', 'Hill', '1950', 'water_', 'reminded_', 'express', 'delight', 'als_', 'Wes', 'Mis', 'Louis', 'Grant', 'xe', 'written', 'touch_', 'ters_', 'squa', 'moral', 'ffer', 'aut', 'appearance_', 'Sim', 'Nor', 'Mont', 'IS_', 'Cath', 'take', 'shel', 'protect', 'gut', 'ans', 'Too_', 'Scar', 'Death', 'American', 'AND_', 'throw_', 'suck', 'standard_', 'sil', 'should', 'share_', 'scary', 'loves_', 'indu', 'foot', 'ew_', 'answer', 'Wit', 'Van_', 'Terr', 'Str', 'subtle_', 'stories', 'store_', 'must', 'ments_', 'mbi', 'gs', 'ft_', 'fellow_', 'erat', 'eni', 'crash', 'ches', 'becoming_', 'appeared_', 'TE', 'Fal', '., ', 'visit', 'viewer', 'tag', 'surely_', 'sur', 'stri', 'putting_', 'pull_', 'process', 'pointless_', 'nta', 'mass', 'hur', 'hell', 'gue', 'girls', 'Rev', 'Pan', 'Billy_', 'villain', 'suppose_', 'sick', 'prom', 'narrat', 'mer_', 'followed_', 'decision', 'auto', 'adult', 'Movie_', 'Ban', 'tone', 'thoroughly_', 'sympath', 'sts_', 'sk', 'pot', 'piece', 'offers_', 'nte', 'most', 'helps_', 'det', 'cti', 'brief_', 'block', 'adds_', 'Street', 'Red_', 'Qui', 'Love', 'BL', 'support_', 'ses_', 'rta', 'recognize', 'mission', 'ignore', 'hon', 'broad', 'bid', 'ano', 'Swe', 'Shakespeare', 'Ron', 'Mart', 'Charlie_', 'thanks_', 'tage_', 'serial_', 'revenge_', 'ors', 'office_', 'nst', 'feature', 'drugs', 'disturb', 'anymore', 'Bl', \", '\", 'univers', 'touching_', 'strange', 'improve', 'iff', 'heavy_', 'fare', 'central_', 'buff', 'Inter', 'EA', 'worr', 'turning_', 'tired_', 'than', 'seemingly_', 'motion_', 'ku', 'has', 'goe', 'evi', 'duc', 'dem', 'cinematography', 'aspects_', 'any', 'High', 'Cho', 'tick', 'surviv', 'suicide', 'return', 'remember', 'ppy_', 'noti', 'mess_', 'mes', 'inve', 'grow', 'enge', 'dom', 'Tar', 'Since_', 'Roy', '19', ' ( ', 'track_', 'racis', 'narrative_', 'nal', 'mysterious_', 'moral_', 'imp', 'desert', 'compl', 'along', 'Sw', 'Super', 'HI', 'Dor', 'America_', 'vert', 'superb', 'stu', 'shouldn', 'science_', 'rough', 'ray', 'ova', 'dumb', 'deb', 'court', 'control', 'complex_', 'butt', 'Joe', 'Ir', 'Direct', 'throughout', 'tende', 'stic_', 'somewhere_', 'sel', 'pti', 'picked_', 'parts', 'mob', 'fear_', 'developed_', 'couple', 'cas', 'attitude', 'apo', 'Sun', 'MO', 'L_', 'Ei', 'teen_', 'pull', 'ough', 'hunt', 'favor', 'dos', 'delivers_', 'chill', 'ately', 'Van', 'vat', 'tz', 'trip', 'stuck_', 'rela', 'mood_', 'finish', 'essen', 'ering_', 'disappoint', 'could', 'commit', 'TA', 'Lam', 'Harris', 'whole', 'value_', 'ural', 'sim', 'season', 'redeeming_', 'poli', 'please', 'happened', 'geo', 'force', 'ero', 'core_', 'cand', 'blue', 'bell', 'assi', 'asp', 'adventure_', 'Sin', 'McC', 'whatsoever', 'sky', 'shows', 'pse', 'language_', 'insight', 'ier_', 'finding_', 'everything', 'cker', 'challenge', 'books_', 'Out', 'Ji', 'Glo', 'tune', 'terri', 'prem', 'oe', 'nish', 'movement', 'ities_', 'effort', 'absolute_', 'Brian_', 'Alan_', 'unin', 'unde', 'ude', 'tear', 'oh_', 'ize', 'ilia', 'hint', 'credib', 'craz', 'choice', 'charming_', 'audiences_', 'apart', 'York', 'Marc', 'wonderful', 'willing_', 'wild', 'repeated', 'refer', 'ready_', 'radi', 'punch', 'prison', 'painful_', 'pain', 'paid_', 'pace', 'nni', 'mate_', 'hole', 'future', 'disturbing_', 'cia', 'buck', 'ache', 'Taylor', 'Lind', 'Hol', 'vel', 'tor_', 'terrific_', 'suspense', 'sf', 'research', 'remark', 'problem', 'plu', 'pathetic_', 'negative_', 'lovely_', 'lift', 'hype', 'gl', 'earn', 'ave', 'Their_', 'SS', 'Cass', 'slowly_', 'rented_', 'opportunity_', 'fat', 'every', 'este', 'dub', 'cons', 'bull', 'Sav', 'P_', 'My', 'wondering_', 'unbe', 'twe', 'statu', 'shin', 'rock', 'party_', 'inform', 'heroine', 'hate', 'girlfriend', 'fate', 'ette', 'dies_', 'comparison', 'alb', 'ak_', 'Lis', 'Christian_', 'Act', 'yon', 'storyline', 'soul', 'rece', 'rea', 'product', 'nut', 'lets_', 'funniest_', 'field_', 'city', 'Stephen_', 'GH', 'Ann', 'wee', 'weapon', 'viewing', 'tte', 'sty', 'spi', 'quality', 'price', 'possess', 'ntly', 'dd', 'compa', 'buy', 'agree', 'Hal', 'Comp', 'twists_', 'shak', 'nudity_', 'mati', 'giant_', 'company_', 'baby_', 'admit', 'Finally', 'wn_', 'whe', 'romance', 'presence_', 'myself', 'jokes', 'ident', 'friendship', 'fift', 'explore', 'episodes', 'element_', 'edi', 'eat', 'conve', 'Ira', 'However_', 'DI', 'winning_', 'sexy_', 'rescue', 'physical_', 'pe_', 'oid', 'nobody_', 'nis', 'mad_', 'lin_', 'ket', 'hom', 'generation', 'dance', 'attack', 'appropriate', 'allowed_', 'Ve', 'RS', 'Mr_', 'Kid', 'Instead_', 'Hell', 'Everything_', 'Before_', 'Arthur_', 'waste', 'themes_', 'stunt', 'rap', 'million_', 'hi_', 'games', 'fair_', 'distract', 'cross', 'boat', 'available_', 'abilit', 'Hitler', 'Fl', 'Cas', 'wearing_', 'spirit_', 'rede', 'rb', 'perspective', 'ocr', 'mac', 'kle', 'gang_', 'floor', 'fab', 'Pen', 'ON', 'Kur', 'Jerry_', 'Here', 'Andrew', '??', 'window', 'uss', 'mp_', 'intens', 'expert', 'ei', 'changes_', 'carry_', 'born_', 'bee', 'award', 'Sor', 'Jos', 'Home', 'Cat', '1980', 'zing_', 'victim', 'tight', 'space', 'slu', 'pli', 'neat', 'mistake', 'ky', 'joke', 'includes_', 'hear', 'emb', 'dev', 'damn_', 'confusi', 'church', 'NI', 'Clark', 'theatre', 'sso', 'lock', 'laughed_', 'fran', 'drive_', 'danger', 'alle', 'Which_', 'Western', 'Roman', 'Rit', 'Pie', 'Law', 'France', 'Did_', '14', 'vor', 'usual', 'turn', 'supposedly_', 'sm_', 'satisf', 'realistic', 'pieces_', 'nse', 'near', 'image_', 'flat', 'development', 'design', 'contrast', 'colla', 'board', 'arti', 'anywhere', 'Unfortunately_', 'Rock', 'Ford', 'Doc', 'white', 'small', 'replace', 'prison_', 'owe', 'minat', 'may', 'inspired_', 'helped_', 'expect', 'doll', 'dish', 'chase', 'awa', 'Those_', 'Second', 'OR', 'Nazi', 'Ell', 'watchable', 'via', 'test', 'stick', 'step_', 'speech', 'relationship', 'pass', 'ote', 'nel', 'mild', 'gue_', 'embarrass', 'describe_', 'bound', 'bother_', 'aging', 'Julie', '70s', 'via_', 'street_', 'squ', 'scream', 'pos', 'overs', 'mix_', 'martial_', 'magic_', 'jud', 'gener', 'eh', 'concept', 'alien', 'FO', 'which', 'values_', 'success', 'soldiers_', 'pla', 'lous', 'lose_', 'io', 'ike', 'fish', 'eth', 'ddy', 'crowd', 'creative_', 'conc', 'beh', 'bbi', 'Matth', 'Europe', '1970', 'ulat', 'track', 'target', 'swea', 'stal', 'refuse', 'phon', 'pho', 'hang', 'gea', 'doubt', 'compr', 'cloth', 'cliché', 'bland', 'behavior', 'aci', 'Simp', 'Leon', 'England', 'Edi', 'Cons', ')<', ' .', 'wy', 'worker', 'volu', 'vehicle', 'tour', 'random_', 'phone_', 'ong', 'moved_', 'grave', 'folk', 'filming_', 'feelings_', 'build_', 'basi', 'Tor', 'TR', 'Sk', 'New', 'Miss_', 'Kl', 'Kat', 'Boll', 'zil', 'ust', 'robot', 'result', 'reac', 'ped', 'pea', 'ow_', 'mmi', 'laughs', 'issues_', 'intended_', 'impressed_', 'favorite', 'dw', 'documentary', 'doctor_', 'debut', 'account', 'North', 'Im', 'GO', 'weird', 'transform', 'train', 'swi', 'sum', 'soci', 'same', 'reh', 'ld_', 'ffic', 'conversation', 'comedic_', 'artistic_', 'adi', 'accept', 'Stone', 'Jew', 'CR', 'threaten', 'stea', 'scra', 'sake', 'potential', 'listen', 'het', 'cted_', 'cod', 'chase_', 'berg_', 'appear', 'Ton', 'Queen', 'Mark_', 'Hall', 'FI', 'wer', 'thes', 'sons', 'provide_', 'nger', 'ney', 'mot', 'mask', 'flesh', 'exe', 'dozen', 'disgu', 'conclusion', 'accent', 'Victoria', 'SP', 'Jr', 'Char', 'Albert', 'try', 'tal_', 'round_', 'mix', 'ison', 'hundred', 'holds_', 'gger', 'approach_', 'Space', 'Okay', 'MI', 'Love_', 'Elvi', 'Doo', 'tragic_', 'sweet', 'stud', 'sible', 'remain', 'pur', 'nts_', 'ken', 'got', 'fam', 'edge_', 'Hea', 'Film', 'Cast', 'teenage_', 'technical_', 'skip', 'rend', 'our', 'illus', 'ham', 'favourite_', 'ensi', 'consist', 'cold_', 'cent', 'cate', 'MAN', 'F_', 'Die', 'Cub', 'Chinese_', 'yourself', 'ugh', 'stretch', 'society', 'rth', 'root', 'reminds_', 'reg', 'rd_', 'put', 'purpose', 'ition_', 'humanity', 'gotten_', 'fest', 'feel', 'fascinat', 'failure', 'culture_', 'cont', 'allow_', 'pursu', 'preci', 'if', 'belong', 'VE', 'Sar', 'O_', 'Nic', 'Dead', 'AC', ' ****', 'western_', 'uct', 'thro', 'tes', 'struggle_', 'straight', 'stic', 'similar', 'repe', 'pid', 'nes_', 'mou', 'irre', 'hic', 'explained', 'deeply_', 'cs_', 'confront', 'clichés', 'attack_', 'asks_', 'Yet_', 'Was_', 'Tro', 'Stre', 'Rei', 'Kelly_', 'Julia', 'Bas', '? <', 'ties', 'technique', 'stunning_', 'slight', 'skill', 'sat_', 'outstanding_', 'lies_', 'journey_', 'hap', 'expla', 'definit', 'critics_', 'continue_', 'compelling_', 'charge', 'Thing', 'PE', 'Marie', 'Lynch', 'Jason_', 'Hen', 'Av', '.... ', '\\x97', 'wanting_', 'wanna', 'transp', 'thats_', 'smok', 'respons', 'professional_', 'print', 'physic', 'names_', 'inge', 'infa', 'grip', 'green', 'ggi', 'buster', 'bum', 'belief', 'accept_', 'abuse', 'Rain', 'Pos', 'Lee', 'Hoo', 'All', 'threa', 'soundtrack', 'realized_', 'ration', 'purpose_', 'notice_', 'member_', 'lovers', 'log', 'kni', 'inse', 'inde', 'impl', 'government_', 'door_', 'community', 'also', 'Zombie', 'WI', 'Sur', 'Stewart_', 'Roo', 'NA', 'Comm', 'Anna', 'wonderfully_', 'vac', 'tit', 'thus_', 'shadow', 'rg', 'resol', 'religious_', 'problems', 'nonsense', 'naked_', 'marvel', 'fantastic', 'em_', 'earth_', 'demand', 'cost', 'bes', 'band', 'background', 'Mas', 'Bon', 'African', ':<', 'thousand', 'realism', 'race_', 'ption', 'pred', 'neg', 'met', 'little', 'kn', 'flying_', 'ement', 'editing', 'abandon', 'Take', 'On', 'Mich', 'Gin', 'Fer', 'wide', 'victim_', 'spell', 'search_', 'rush', 'road_', 'rank', 'pping_', 'mpl', 'kil', 'incomp', 'humour_', 'group', 'ghost', 'ens', 'electr', 'edg', 'dru', 'culture', 'cars', 'Wil', 'UR', 'Haw', 'Give', 'Fat', 'Dou', 'Ant', 'AD', 'vs', 'tia', 'rei', 'regret', 'necessar', 'master_', 'mani', 'honestly_', 'hey', 'hadn', 'gant', 'fresh_', 'exce', 'document', 'direct_', 'dated_', 'afraid_', 'OU', 'Mid', 'Len', 'Good', 'Beat', 'yer', 'walk', 'ture_', 'train_', 'theor', 'stink', 'spit', 'rarely_', 'proper', 'intelligen', 'hed_', 'hair_', 'forgot', 'fascinating_', 'ere', 'deliver_', 'believable', 'awesome_', 'attend', 'actresses_', 'Up', 'Par', 'Bad_', 'zombie', 'ys_', 'wards', 'trash_', 'strip', 'spectacular', 'six_', 'silly', 'shed_', 'praise', 'loud_', 'inspir', 'insi', 'god', 'four', 'devi', 'Sir', 'Plan', 'PL', 'Everyone_', 'Dol', 'thinking', 'store', 'spo', 'rou', 'pou', 'opposite', 'dud', 'difference_', 'deli', 'compare_', 'cable', 'VER', 'Tim_', 'Ob', 'Jane', 'Jam', 'Don_', 'CI', 'yo', 'want', 'villains', 'toward_', 'taste_', 'support', 'stone', 'sted_', 'spect', 'satire', 'row_', 'rag', 'observ', 'nel_', 'motiv', 'moro', 'lust', 'lect', 'ively_', 'gli', 'gie', 'fet', 'eld', 'div', 'creating_', 'brain_', 'bird', 'attention', 'ates_', 'ald', 'Sher', 'Russ', 'Rea', 'Joan_', 'Gab', 'Coo', 'Bond', '40', 'trade', 'sive_', 'routine', 'plane_', 'photograph', 'ound', 'om_', 'nk_', 'mountain', 'mate', 'listen_', 'isa', 'imagina', 'gia', 'embarrassing', 'convince', 'building_', 'avoid', 'Wow', 'SA', 'Al_', 'vy_', 'unsu', 'tty_', 'situations_', 'sensi', 'results', 'recogni', 'quick', 'plan_', 'mod', 'masterpiece_', 'limit', 'lar', 'gorgeous_', 'fil', 'ensu', 'edly_', 'cor', 'context', 'bul', 'bottom_', 'began_', 'animation', 'anc', 'acc', 'Ty', 'Sc', 'London_', 'Lewis', '.\"<', 'weight', 'rubbish', 'rab', 'project_', 'powers', 'personalit', 'offer_', 'noir_', 'killed', 'justif', 'jun', 'information_', 'gem', 'ative_', 'PO', 'Jeff_', 'Gui', 'voca', 'tab', 'spot_', 'remind', 'proceed', 'kick_', 'ious', 'grab', 'enem', 'educat', 'claim', 'cks', 'charisma', 'bal', 'Scott', 'Over', 'Mus', 'Laure', 'Kan', 'Hunt', 'Dead_', 'Acti', '90_', '50_', ' ! ! ! ! ! ! ! ! ! !', 'ws_', 'vul', 'village', 'speed', 'skills', 'public', 'outl', 'naive', 'mos', 'latter_', 'ki_', 'iat', 'honest_', 'ga_', 'emotions_', 'detective_', 'citi', 'bits_', 'answer_', 'accomplish', 'Washington', 'Sm', 'Dal', 'CE', 'Bett', 'Af', '40_', 'sell', 'pret', 'pper', 'opera', 'notabl', 'involved', 'important', 'humorous', 'finale', 'dise', 'date_', 'contribut', 'complain', 'comedies_', 'battle', 'balance', 'Go_', 'Fla', 'Alon', '); ', 'wis', 'ups', 'spoke', 'pulled_', 'points', 'mediocre_', 'ker_', 'introduced_', 'independent_', 'hil', 'fits_', 'eating_', 'confused_', 'concerned', 'cing', 'ca_', 'bran', 'borat', 'bing_', 'ay_', 'abr', 'Russian_', 'Kevin_', 'H_', 'Fred_', 'Exce', 'English', 'Danny_', 'Dani', 'Coll', 'Alt', '100_', 'used', 'translat', 'shape', 'odi', 'manage_', 'loy', 'lik', 'ibi', 'eat_', 'behav', 'apparent_', 'admi', 'acr', 'ach', 'Young_', 'Run', 'Martin_', 'Mak', 'Hart', 'Asi', '25', '& ', 'trag', 'terror', 'tea', 'shallow', 'rob', 'rape', 'pond', 'ole', 'neck', 'nature', 'loving_', 'jerk', 'hours', 'hidden_', 'gar_', 'field', 'fel', 'existence', 'erotic', 'constant_', 'cau', 'bar_', 'VI', 'Univers', 'Sen', 'CK', '100', 'wealth', 'wave', 'understanding_', 'sole', 'ral', 'none', 'nasty_', 'mari', 'likable_', 'ith', 'intense_', 'hou', 'gh_', 'ely', 'dic', 'dea', 'clip', 'bow', 'UL', 'Nu', 'Moon', 'Ital', 'Ed_', 'Cle', '.......', 'yeah', 'tree', 'successful', 'ril', 'ract', 'philosoph', 'parents', 'marriage_', 'lte', 'ject', 'ite_', 'hun', 'fantas', 'fame', 'extra_', 'dreadful', 'details_', 'dad_', 'capture_', 'annoy', 'Other', '?!', 'tions', 'stalk', 'speak', 'revolution', 'redu', 'pretend', 'politic', 'places_', 'parody', 'park', 'onic', 'nowhere_', 'mono', 'mile', 'manipulat', 'loses_', 'lli', 'into', 'hid', 'ghost_', 'gha', 'engage', 'assum', 'ador', 'admire', 'X_', 'See_', 'Full', 'Eye', 'zy', 'ware', 'ven_', 'uncle', 'treated_', 'television', 'surreal', 'student_', 'rival', 'ride_', 'recall', 'nudity', 'locations', 'ility', 'hamm', 'gags', 'fill_', 'dealing_', 'co_', 'climax_', 'bon', 'atmosphere', 'aged_', 'Rock_', 'Kim', 'Had', 'Brid', 'Anton', 'zombies_', 'unfunny', 'techn', 'source', 'section', 'pris', 'priest', 'police', 'olo', 'nine', 'maker', 'limited_', 'ik', 'genius_', 'enjoyable', 'distan', 'desperate_', 'believe', 'asked_', 'appearance', 'Ring', 'Pete', 'Master', 'Kin', 'Harr', 'Earth', 'Dog', 'Brown', 'Bren', 'Add', 'web', 'tee', 'sucks', 'structure', 'regi', 'porn_', 'osi', 'llian', 'lett', 'length_', 'ior_', 'hal', 'faith', 'enta', 'deserve_', 'cartoon', 'bs_', 'ahead_', 'Got', 'Eu', 'Americans_', 'Alex', 'speaking_', 'smil', 'photographe', 'ope', 'mpe', 'minim', 'million', 'mental', 'magnificent', 'lur', 'lov', 'keeping_', 'iting', 'homo', 'haunt', 'fiction_', 'fee', 'exploit', 'entertain', 'dding', 'attracti', 'advice', 'Park', 'Fur', 'Cage', 'suc', 'songs', 'smart_', 'shock_', 'rif', 'repl', 'ranc', 'ran', 'photography_', 'patient', 'ladies', 'hated_', 'growing_', 'cheer', 'attractive_', 'ass_', 'approach', 'ants_', 'Mrs', 'Hay', 'Hank', 'Eli', 'EVER', 'Batman_', 'week', 'sword', 'rac', 'promot', 'portray', 'pictures_', 'lt_', 'ito', 'interna', 'forgive', 'device', 'corrupt', 'choreograph', 'chop', 'blame_', 'atch', 'VE_', 'KE', 'Johnny_', 'vity', 'ville', 'vas', 'uit', 'tional_', 'quote', 'quick_', 'producer_', 'personally_', 'parti', 'oa', 'nity', 'loo', 'ives', 'increas', 'ical', 'heads_', 'graphic', 'going', 'featuring_', 'defin', 'cute', 'criminal', 'cheat', 'cash', 'cann', 'bol', 'bec', 'Welles', 'SPOILERS', 'Power', 'Kell', 'Georg', 'Gene_', 'Blai', 'Again', '11', 'yell', 'vious', 'unusual_', 'tradition', 'summar', 'stunn', 'revealed', 'remo', 'psychi', 'provi', 'prepare', 'offer', 'insane', 'happens', 'efforts', 'delic', 'current_', 'construct', 'bil', 'aries', 'animals_', 'advance', 'Kong', 'Jan', 'Howard', 'Daw', 'Cru', ' !', 'terribly_', 'teache', 'tas', 'sudden', 'sleaz', 'sharp', 'ress_', 'rape_', 'ppi', 'numbers_', 'mouth', 'lower', 'ime', 'ifie', 'ideal', 'exception_', 'ema', 'charm_', 'breaking_', 'addition_', 'Walke', 'Lat', 'Jean_', 'Eddie_', 'City_', '.\"', 'warning', 'versions', 'tack', 'reli', 'ration_', 'prove_', 'plo', 'pile', 'performer', 'monk', 'intellectual', 'handle', 'ets', 'essor', 'ature', 'atri', 'ans_', 'Int', 'Fel', 'European_', 'Cus', 'As', 'wr', 'worst', 'witty', 'wild_', 'wedding', 'students_', 'sadly_', 'princip', 'paint', 'mmy', 'mixed_', 'kinda_', 'frequent', 'discover_', 'dal', 'command', 'colour', 'bou', 'bored', 'Wild', 'Ul', 'Really', 'Mitch', 'Cinema', 'Andy_', '16', 'visuals', 'varie', 'ut_', 'unfold', 'suspect', 'semi', 'responsible_', 'religion', 'rapi', 'py_', 'otic', 'numerous_', 'news', 'nces', 'kl', 'junk', 'joy', 'insult', 'festival', 'drop_', 'costumes_', 'been', 'bag', 'aware_', 'aver', 'Mir', 'Last_', 'Hon', 'Frie', 'Cent', 'wishe', 'vie', 'toy', 'repeat', 'pter', 'oppo', 'open', 'noticed_', 'murders_', 'ka_', 'harm', 'finish_', 'extreme_', 'eno', 'dying_', 'doo', 'ddle', 'clear', 'cat_', 'bru', 'addict', 'Smith', 'Rod', 'Rem', 'zzle', 'tory', 'starting_', 'specific', 'screaming', 'scenery_', 'psychological_', 'occur', 'obli', 'mn', 'lica', 'laughter', 'inso', 'grad', 'goof', 'gas', 'element', 'dom_', 'dism', 'deals_', 'ctor', 'camp_', 'audi', 'ator_', 'ack', 'Smith_', 'Sh', 'Kenne', 'Holl', 'Dean', 'xious', 'uncom', 'situation', 'shots', 'seem', 'rin', 'pain_', 'originally_', 'number', 'nightmare', 'mystery', 'ml', 'kiss', 'imag', 'iful', 'grew_', 'grade_', 'gge', 'event', 'eate', 'dramati', 'dad', 'condition', 'conce', 'comfort', 'chair', 'aur', 'YOU', 'Red', 'REAL', 'Norma', 'Kir', 'wash', 'upt', 'titi', 'returns_', 'retr', 'restr', 'require', 'relief', 'realise', 'rch', 'rang', 'ple_', 'lus', 'lip', 'intrigue', 'incident', 'iler', 'ha_', 'ground_', 'fores', 'exh', 'dancer', 'anger', 'Wr', 'They', 'Sinatra', 'SI', 'Op', 'Long', 'GI', 'Dem', 'yd', 'week_', 'treatment', 'treat', 'stan', 'slic', 'separate', 'screenplay', 'remarkable_', 'pped_', 'persona', 'mble', 'invi', 'innocen', 'hack', 'gru', 'gma', 'glass', 'forgotten_', 'fem', 'confi', 'clever', 'bone', 'amateur', 'Richard', 'Ray_', 'Please_', 'Kris', 'IM', 'Gordon', 'ED', 'Black', 'wen', 'very', 'ured', 'theater', 'stab', 'redi', 'perce', 'peace', 'passe', 'ops', 'oon', 'morning', 'llow', 'legend', 'irritating', 'hopes_', 'gross', 'genuinely_', 'ech', 'crus', 'bitter', 'acti', 'accura', 'Yu', 'Rome', 'Parker', 'Dia', 'studio', 'still', 'stereotypes', 'serv', 'sequences', 'sequence', 'pres', 'portray_', 'poet', 'opti', 'only', 'ins_', 'impact_', 'emotion_', 'ek_', 'earth', 'dou', 'dislike', 'Sti', 'Reg', 'Philip', 'Bil', 'Att', 'Ash', 'Adam_', 'viol', 'v_', 'uma', 'ultimate_', 'ught', 'trailer_', 'superior_', 'sucked', 'sno', 'service', 'ride', 'por', 'plan', 'mum', 'mme', 'merc', 'lonel', 'guide', 'fici', 'facts', 'evidence', 'doctor', 'discover', 'depend', 'degree', 'cruel', 'counter', 'color_', 'cess', 'cause', 'bro', 'ambitio', 'amaze', 'alternat', 'Wom', 'White_', 'John', 'Bud', 'wound', 'wander', 'typi', 'technology', 'swe', 'standing_', 'reuni', 'organi', 'ngly_', 'minu', 'leas', 'gift', 'executed', 'environment', 'diss', 'demonstrat', 'compani', 'allows_', 'Wayne', 'Kno', 'Instead', 'DA', 'Cart', 'Anthony_', 'unable_', 'uf', 'twin', 'tely', 'sympathetic', 'spoof', 'sis', 'saying', 'rh', 'repr', 'rave', 'promising', 'nch_', 'moo', 'ming', 'liz', 'lighting_', 'lesbian', 'large', 'izing_', 'impos', 'dor', 'disco', 'corny', 'arts_', 'Wars', 'Trac', 'Seve', 'Poli', 'PA', 'Moore', 'LL_', 'Jimmy_', 'Gary_', '?\"', 'zero', 'underw', 'tou', 'spen', 'sheer_', 'scared_', 'rever', 'relationships_', 'proved_', 'predict', 'pia', 'obsc', 'lum', 'learn', 'herself', 'gras', 'finished_', 'continues_', 'brave', 'aris', 'api', 'THIS_', 'Mille', 'Leg', 'First', 'Dis', 'Allen_', 'traditional_', 'statement', 'spir', 'soon', 'rence', 'ran_', 'pros', 'opi', 'mistake_', 'lawyer', 'discovers_', 'deepe', 'ction_', 'cares', 'brutal_', 'brutal', 'breaks_', 'antly', 'accent_', 'Killer', 'Can_', 'Broadway', 'unintentional', 'unbelievable_', 'tte_', 'suspect_', 'strike', 'sens', 'screw', 'rtu', 'pant', 'opens_', 'obsessi', 'mates', 'los', 'logic', 'kit', 'joy_', 'inte', 'iness_', 'han_', 'exact', 'entertained', 'ego', 'dreams_', 'convention', 'collecti', 'chest', 'bling_', 'authentic', 'Then', 'Much_', 'Mot', 'Bette', 'viewers', 'vampire_', 'teach', 'stylis', 'someone', 'sne', 'saved_', 'rule', 'regular_', 'practic', 'ppe', 'pion', 'notice', 'native', 'monsters', 'lo_', 'learned_', 'incon', 'hour', 'hood_', 'feeling', 'embe', 'driving_', 'convincing', 'cav', 'ber_', 'angle', 'absurd', 'Trek', 'Sat', 'Paris_', 'Mol', 'Max', 'Kh', 'Emma', 'Edward', 'Anyone_', '?? ', '17', ' \" ', 'wrap', 'unrealistic', 'tam', 'subtitle', 'spoilers', 'since', 'sexual', 'render', 'remake', 'rely', 'pop_', 'oge', 'oft', 'nett', 'monst', 'law_', 'ional', 'inclu', 'ich', 'ians_', 'hotel_', 'graphic_', 'gonna_', 'gent', 'flashbacks', 'families', 'erin', 'dropp', 'dir', 'bond', 'affair_', 'Scre', 'Dun', 'wide_', 'ttl', 'topic', 'symboli', 'switch', 'solve', 'send', 'rud', 'rem', 'reasons', 'reasonabl', 'pee', 'nar', 'location_', 'ining_', 'gam', 'disappointing_', 'desire_', 'criminal_', 'considera', 'century_', 'celebrat', 'brow', 'area', 'Thin', 'Rec', \"' (\", 'ward_', 'vision_', 'treme', 'surprising_', 'super_', 'risk', 'receive', 'qual', 'pic', 'mee', 'levels', 'kins', 'jack', 'ire_', 'introduc', 'hits_', 'happening_', 'handsome', 'gradua', 'giv', 'garbage', 'forces_', 'finest_', 'easi', 'depressing', 'credits', 'asto', 'Sadly', 'Ple', 'Inc', 'Dick_', 'Alexand', 'wooden_', 'wood_', 'stro', 'steal_', 'soul_', 'reference', 'race', 'quis', 'pir', 'perv', 'obvious', 'majority_', 'lean', 'kes_', 'insti', 'identity', 'everybody_', 'double_', 'dies', 'credit', 'const', 'confe', 'compar', 'centur', 'bloody_', 'Under', 'Twi', 'Sean_', 'Lio', 'Halloween', 'Gal', 'Clu', 'Came', 'Barbara_', '?)', '11_', 'ws', 'ulous', 'subtle', 'substance', 'string', 'shocking_', 'scientist_', 'rian', 'nou', 'multi', 'lf', 'inal', 'harsh', 'handed', 'fir', 'expectations_', 'excited', 'exceptional', 'eva', 'complete', 'comic', 'childhood_', 'ched_', 'adults_', 'Timo', 'Soo', 'Mos', 'Kath', 'Karl', 'Cinderella', 'Christian', 'Age', 'Adam', '!). ', 'zar', 'zan', 'trap', 'trai', 'thin_', 'site_', 'site', 'rich', 'resi', 'reach_', 'quirk', 'patr', 'ony', 'nerv', 'matche', 'inept', 'imagine', 'horri', 'front', 'ford_', 'epic_', 'dat', 'cynic', 'ckin', 'cie', 'caused_', 'brothers_', 'belo', 'appealing', 'West_', 'UK', 'TC', 'Suc', 'Rand', 'Grad', 'Domin', 'Disney', '12_', 'warr', 'vision', 'spoo', 'seeing', 'scenario', 'scale', 'rad', 'ola', 'next', 'necessary_', 'indicat', 'exploitation', 'ened_', 'directing', 'depict', 'curio', 'ciati', 'bullet', 'appre', 'amateurish', 'Yo', 'Watching_', 'Sky', 'Shar', 'Part_', 'Nichol', 'Mars', 'Are_', 'wel', 'visit_', 'unne', 'underrated', 'tedious', 'seconds_', 'rig', 'report', 'reme', 'rar', 'mond_', 'media_', 'lying_', 'las', 'language', 'ised_', 'instant', 'inspiration', 'creates_', 'conflict', 'compose', 'chan', 'cab', 'ava', 'always', 'Water', 'Steven_', 'Pas', 'Nick_', 'Let_', 'Down', 'yth', 'victims_', 'theaters', 'seasons', 'sai', 'rising', 'recr', 'plann', 'pent', 'painfully_', 'ot_', 'occu', 'nob', 'moti', 'lem', 'lati', 'gua', 'fights_', 'event_', 'elev', 'discovered_', 'cs', 'cliché_', 'cance', 'bik', 'bigger_', 'backs', 'atic', 'Shan', 'Sab', 'Poi', 'Hitchcock', 'GR', 'Francis', 'Det', 'Care', 'Anderson', 'veteran', 'ution_', 'theless', 'sports', 'slave', 'ses', 'revi', 'refreshing', 'quar', 'provok', 'premise', 'paper', 'nty', 'norm', 'mood', 'menac', 'loud', 'loose', 'letter', 'investigati', 'introduce', 'holes_', 'gan_', 'fund', 'ents_', 'drunk', 'disgusting', 'dio', 'confusing_', 'cky', 'baby', 'THE', 'Nancy', 'Kate_', 'Gia', 'Carol', 'Cand', \"'.\", 'western', 'unf', 'struc', 'strong', 'search', 'sav', 'ries_', 'resemble', 'rental', 'raci', 'producer', 'nic_', 'news_', 'memor', 'many', 'magical', 'format', 'equal', 'decl', 'curs', 'ction', 'convict', 'contrived', 'capable_', 'bringing_', 'boyfriend_', 'bli', 'anybody_', 'animal_', 'advertis', 'Music', 'Jun', 'Jones', 'Greg', 'Fra', 'Donald_', 'Dark', '1930', 'é_', 'yc', 'urne', 'tire', 'step', 'scr', 'reporter', 'position', 'okay', 'nted_', 'misse', 'logical', 'ient', 'identif', 'feet', 'fail_', 'creat', 'content_', 'contemp', 'concei', 'border', 'ask', 'actual', 'Way', 'Plus', 'Mill', 'Foo', 'Dy', 'Bec', ' ,', 'utter_', 'urban', 'struggle', 'sign_', 'sher', 'seduc', 'scientist', 'saw', 'released', 'received_', 'lity_', 'jump_', 'island_', 'ignor', 'ick', 'horrifi', 'hange', 'handled', 'endea', 'dil', 'ative', 'angry_', 'ages_', 'accus', 'Writ', 'Without_', 'Wall', 'Thank', 'Sla', 'Qua', 'Page', 'ND', 'Lost', 'Fish', 'Eric_', 'Does', 'Clau', 'Cel', 'Camp', 'Australian', 'Arn', 'Ann_', 'Ala', 'Actually', \".' \", \",' \", 'wall_', 'thoughts', 'somebody_', 'round', 'proud', 'oy', 'overly_', 'opera_', 'offensive', 'myth', 'murderer', 'mpt', 'ivi', 'ir_', 'iga', 'iar', 'holi', 'hearted_', 'gath', 'fictional', 'expectation', 'etta', 'enco', 'ence', 'deserved_', 'depiction', 'dece', 'comedian', 'bles', 'aside_', 'ambi', 'ake', 'Wonder', 'Why', 'Through', 'Overall_', 'Off', 'OI', 'More_', 'Jennifer_', 'Gill', 'Germany', 'Douglas_', 'Cy', 'CGI_', '\").', 'walks_', 'ury', 'three', 'thank_', 'surp', 'soph', 'sed', 'satisfying', 'rebel', 'pure', 'practically_', 'minds', 'manage', 'lp', 'learns_', 'isl', 'involves_', 'impro', 'impa', 'icon', 'hyp', 'fortune', 'erm', 'cuts_', 'copi', 'conclusion_', 'ced_', 'captured_', 'bble', 'arro', 'Wei', 'Sis', 'Pin', 'Marg', 'Life', 'Laur', 'Later', 'Hop', 'Eva', 'Blue', 'Barry', 'Baby', 'whilst_', 'unfa', 'twi', 'test_', 'ters', 'stric', 'streets', 'stom', 'spoil', 'relative', 'relate_', 'recommend', 'ology', 'middle', 'laughable', 'jea', 'genuine_', 'gat', 'frustrati', 'forth', 'excitement', 'costs', 'cord', 'compo', 'bright_', 'bank', 'aka', 'WE', 'Ten', 'THAT', 'Pur', 'Pitt', 'Mike_', 'Hum', 'Being_', 'veri', 'turi', 'tun', 'tel', 'task', 'sting', 'six', 'sentimental', 'quit', 'pleasure_', 'pity', 'personality_', 'motivation', 'moder', 'miserabl', 'mirror', 'manner_', 'logi', 'ein', 'eful', 'dubbed', 'discussi', 'ders', 'defeat', 'dangerous_', 'cry_', 'clos', 'cial_', 'chor', 'Wat', 'Wan', 'Spanish_', 'Have', 'Guy', 'Game', '. . ', 'winner', 'welcome', 'unexp', 'ture', 'tall', 'tal', 'stoo', 'smo', 'serious', 'rc', 'phi', 'outrage', 'oh', 'national_', 'mber_', 'mba', 'loser', 'lee', 'largely_', 'involve', 'ico', 'garbage_', 'found', 'even', 'distinct', 'design_', 'cure', 'consu', 'circumstances', 'calls_', 'blown_', 'attract', 'anime', 'Zi', 'Vietnam', 'Ryan', 'ON_', 'NY', 'Lady_', 'La_', 'Flor', 'Bern', 'AI', ' )', 'unk', 'unh', 'ugly_', 'tine', 'spre', 'simpli', 'significant', 'sequels', 'remembered_', 'reache', 'plat', 'obsessed_', 'ncy_', 'mysteri', 'mous', 'mbs', 'lover_', 'lights', 'lad', 'industr', 'ible', 'grown_', 'general', 'fru', 'explosion', 'exception', 'ese', 'endur', 'domina', 'dera', 'cies', 'built_', 'barr', 'Tod', 'Ran', 'Maria', 'Grand', 'Dee', 'Aw', ' />**', 'xo', 'voices', 'visually', 'ui', 'twice_', 'tend_', 'spor', 'solut', 'slap', 'scien', 'robbe', 'redibl', 'prot', 'prevent', 'ood', 'kee', 'issue_', 'ironic', 'iron', 'investigat', 'intr', 'hl', 'gus', 'food_', 'enl', 'dl', 'described_', 'complaint', 'careful', 'apartment_', 'alcohol', 'aid', 'acy', 'Year', 'Vis', 'Vir', 'Tow', 'Fly', 'Dream', 'Award', '*****', 'vague', 'strat', 'reviewers_', 'offend', 'locat', 'iu', 'ital', 'iev', 'hospital_', 'fou', 'financ', 'filmmaker_', 'farm', 'evening', 'essentially_', 'energy_', 'ef_', 'complex', 'competi', 'ching', 'bal_', 'ax', 'ances', 'acted', 'ace_', 'Story', 'LD', 'Inde', 'Hope', 'Duk', 'Dian', 'Bob', 'Back', 'Any_', 'About_', ' ...', 'yard', 'whenever_', 'wake', 'ures_', 'unse', 'trust_', 'treat_', 'teenager', 'stock_', 'rri', 'rise_', 'rant', 'pupp', 'pte', 'pes', 'overd', 'operati', 'occasional', 'nicely_', 'nical', 'liners', 'impo', 'holding_', 'engaging_', 'diver', 'distribut', 'dim', 'delightful_', 'crappy_', 'cook', 'connection_', 'cohe', 'bore', 'Vincen', 'Susan', 'Rep', 'Powell', 'Oliver', 'Neil', 'Murphy', 'Mic', 'Indi', 'Ele', 'Bru', 'Beaut', '. *', ' />*', 'zation', 'urge', 'urag', 'teenagers', 'seven_', 'river', 'prep', 'nail', 'mble_', 'matters', 'loose_', 'iva', 'issue', 'intriguing_', 'ili', 'god_', 'glimpse', 'ently', 'els_', 'een_', 'develop_', 'desire', 'cops_', 'contra', 'buil', 'broke', 'ater', 'asleep', 'adventur', 'Williams_', 'Wend', 'None_', 'Mod', 'House', 'Horror_', 'Anim', '192', 'ughter', 'trial', 'soap_', 'severe', 'road', 'poster', 'portraying_', 'phr', 'pathetic', 'overlook', 'moving', 'month', 'lau', 'lacking_', 'knowledge_', 'kidnapp', 'interpretation', 'industry_', 'hurt', 'heavi', 'genius', 'false', 'existent', 'execution', 'drop', 'difference', 'determine', 'detail_', 'dent', 'cutting', 'combin', 'comb', 'cket', 'chron', 'capital', 'bodies', 'bic', 'believes_', 'area_', 'angles', 'Ted', 'Sop', 'End', 'Dre', 'Dick', 'Ak', 'Africa', ' ? ', 'vol', 'system', 'steps', 'situations', 'sexuality', 'sets', 'ripp', 'revel', 'rel', 'realiz', 'private', 'paper_', 'notch', 'nge_', 'mistr', 'merit', 'mbl', 'match', 'losing_', 'lme', 'interacti', 'indeed', 'ifica', 'henc', 'heaven', 'fro', 'fon', 'femin', 'faces_', 'enh', 'driven_', 'dressed_', 'dne', 'decen', 'ctic', 'coming', 'club_', 'castle', 'captures_', 'building', 'atic_', 'athe', 'assassin', 'army_', 'alien_', 'abso', 'Tho', 'Scr', 'Prob', 'Para', 'Gor', 'Eg', 'Com', 'City', 'At', 'Apparently', ' / ', 'ule', 'ue_', 'tograph', 'thirt', 'thank', 'suit_', 'suffering_', 'sight_', 'sey', 'screenwriter', 'rell', 'ppet', 'passed_', 'pacing_', 'normally_', 'mill', 'lyn', 'ition', 'gers', 'football', 'faithful', 'expose', 'expos', 'emerge', 'ell_', 'depicted', 'crude', 'criticism', 'combination_', 'claim_', 'carr', 'bt', 'brilliantly_', 'boss', 'analy', 'ame', 'Ray', 'Pic', 'Lord_', 'Kill', 'Fea', 'Evil', 'Bos', 'BS', 'AB', '\" - ', ' :', 'tta', 'trailer', 'soli', 'rum', 'revolve', 'ressi', 'quiet_', 'portrays_', 'populat', 'plant', 'oin', 'occasionally_', 'nost', 'nau', 'mun', 'lb', 'ipat', 'hysteri', 'grow_', 'gag', 'fus', 'foot_', 'finger', 'figur', 'esp', 'equi', 'ener', 'dec', 'chain', 'broken_', 'agent', 'actions_', 'aa', 'Russell', 'Indian', 'Heav', 'Daniel_', 'Ast', ' /> ', 'zard', 'unlikely', 'ump', 'tele', 'teacher_', 'subplot', 'rub', 'rte', 'rly_', 'radio_', 'quir', 'pair_', 'ordinary_', 'oppos', 'nsi', 'mouth_', 'maintain', 'lve', 'loc', 'inventi', 'inexp', 'imitat', 'generate', 'gal_', 'frightening', 'frig', 'foreign_', 'filmmaker', 'excess', 'elle', 'creator', 'count_', 'controvers', 'cliche', 'casti', 'bet_', 'aking_', 'acqu', 'Three', 'Texas', 'Tarzan_', 'Earth_', 'Dan_', 'Besides', 'yw', 'woods_', 'wan', 'vest', 'uous', 'unit', 'therefore_', 'tears_', 'surface', 'steals_', 'sni', 'shut', 'roman', 'roll_', 'rele', 'reaction', 'qualities', 'proper_', 'profession', 'photo', 'months_', 'mem', 'makeup', 'longe', 'lam', 'ix', 'insist', 'inher', 'fying_', 'forgettable', 'faced', 'expens', 'enthusias', 'describ', 'cry', 'commentary_', 'collection_', 'civili', 'category', 'cam', 'believed', 'ancient_', 'Walter_', 'Sum', 'Sometimes', 'Sel', 'Lou', 'Kn', 'Joseph_', 'Gro', 'Fon', 'Columbo', 'system_', 'student', 'shocked', 'sell_', 'ridi', 'prior', 'primar', 'mon_', 'mmer', 'lish', 'higher_', 'fatal', 'employe', 'dirty', 'cris', 'conf', 'ckle', 'blend', 'bility_', 'baseball', 'awake', 'arr', 'ape', 'alive_', 'Wid', 'Santa_', 'Kei', 'Dep', 'Burn', 'Bob_', '´', 'warn', 'unknown_', 'twenty_', 'touches', 'supernatural', 'sitcom', 'saving_', 'rupt', 'relatively_', 'possibilit', 'nose', 'mes_', 'massive', 'male', 'ied', 'honor', 'heroes_', 'gig', 'gangs', 'divi', 'diat', 'consequen', 'classics', 'cases', 'bug', 'brief', 'bott', 'assume_', 'associate', 'assistan', 'arra', 'aria', 'absen', 'VHS_', 'Steve', 'Port', 'Paris', 'Old_', 'Morgan_', 'Horr', 'High_', 'General', 'Din', 'Dark_', 'Colo', 'Avoid_', 'zel', 'unnecessary_', 'unexpected_', 'tragedy_', 'tim', 'stle', 'stereo', 'stai', 'send_', 'recommended_', 'produce', 'pregnan', 'noon', 'move', 'ludicrous', 'lude', 'length', 'ident_', 'ide_', 'grue', 'focused', 'extraordinar', 'desperate', 'depress', 'dai', 'creature_', 'covered_', 'chief', 'boss_', 'asking_', 'Yeah', 'WW', 'Rid', 'Island', 'FA', 'Denn', 'Ch', 'Basically', 'Ang', 'Ami', '?! ', '): ', 'virtually_', 'underg', 'truck', 'training', 'tif', 'surf', 'rmin', 'reject', 'rante', 'plots_', 'placed_', 'ni_', 'mature', 'lousy_', 'justice_', 'io_', 'glori', 'gentle', 'fly_', 'explanation_', 'execut', 'exaggerat', 'events', 'elie', 'destructi', 'choose_', 'characteriz', 'char', 'cent_', 'books', 'bby', 'appreciated', 'allo', 'Neve', 'Nee', 'Jackson_', 'Irish', 'IN_', 'During_', 'Devil', 'Count', 'yes_', 'user', 'unpr', 'tual', 'treasure', 'stronge', 'sorr', 'ruined_', 'reputation', 'rently', 'related', 'quel', 'produce_', 'presum', 'politics', 'plans', 'painting', 'killers', 'initial_', 'impli', 'ify', 'hooke', 'funnie', 'fad', 'empty_', 'driver', 'di_', 'detect', 'designed', 'deserve', 'believ', 'awesome', 'accents', 'Your', 'Thank_', 'RE_', 'Pacino', 'Movies', 'Jay', 'IMDb', 'Hugh', 'Festival', 'Enter', 'Donn', 'Christi', 'Alm', 'Academy_', '000_', 'ycl', 'vivi', 'upset', 'ups_', 'unp', 'tiny', 'surprises', 'study_', 'strongly_', 'speaks', 'size', 'riv', 'relation', 'quee', 'py', 'never', 'mainstream', 'libera', 'latest', 'ising', 'insu', 'icia', 'hurt_', 'freedom', 'estl', 'emotionally_', 'dust', 'desc', 'convinced_', 'compell', 'cock', 'clothes_', 'cameo_', 'blind_', 'besides', 'attacke', 'Victor_', 'Return', 'Poo', 'Never_', 'Nel', 'Hey', 'Caine', 'Brando', 'ually_', 'tive', 'silen', 'rew', 'quate', 'preach', 'ological', 'nude', 'multiple', 'link', 'lge', 'ledge', 'laz', 'integr', 'hn', 'hie', 'folks_', 'experiences', 'emphasi', 'earlier', 'delivered_', 'deco', 'deaths', 'continuity', 'complicate', 'burne', 'boyfriend', 'awkward_', 'atrocious', 'amuse', 'ack_', 'Wilson', 'Turn', 'Robin_', 'Pr', 'Om', 'Mun', 'Meanwhile', 'Jessi', 'Jess', 'Jenn', 'Gand', 'Et', 'Canadian_', 'Brothers', 'Bake', 'Ah', '1990', 'wreck', 'unif', 'toi', 'teens', 'smart', 'shir', 'serves_', 'sati', 'rix', 'remain_', 'pub', 'propaganda', 'players_', 'plas', 'ping', 'overcom', 'orious', 'minde', 'meeting_', 'lph', 'loyal', 'lm', 'llin', 'lake', 'kar', 'istic', 'instru', 'included_', 'hire', 'graph', 'gory_', 'favour', 'elde', 'dum', 'destroy_', 'destin', 'denti', 'consistent', 'cameo', 'betr', 'arrest', 'appea', 'animal', 'amen', 'accidentally', 'acce', 'Silv', 'Saturday_', 'ST_', 'Res', 'MGM', 'Korea', 'Fam', 'Asian_', 'Alle', 'zu', 'weeks', 'ticke', 'terrifi', 'table_', 'storytell', 'stopped_', 'steal', 'slash', 'shoe', 'select', 'rocke', 'roa', 'record_', 'previously', 'participa', 'okay_', 'ogr', 'official', 'nke', 'mistakes', 'misca', 'memorabl', 'logue', 'itat', 'ists_', 'intelligence_', 'ien', 'greate', 'ggy', 'gangster_', 'critical', 'closer', 'cartoons', 'boot', 'accepta', 'abu', 'TER', 'States', 'Roberts', 'LER', 'Jones_', 'Hat', 'Eri', 'Eliza', 'Coop', 'wes', 'uninteresting', 'tense', 'teet', 'suffers_', 'stranger', 'station_', 'scu', 'resid', 'rand', 'popula', 'ours', 'opene', 'occurr', 'non_', 'nominated_', 'mol', 'missi', 'memory_', 'memories_', 'maid', 'intri', 'inju', 'inevitabl', 'humans_', 'hanging_', 'gratuitous_', 'gas_', 'forme', 'direct', 'difficult', 'department', 'damag', 'creatures', 'cif', 'Warner', 'Titan', 'Matt_', 'Larr', 'KI', 'Hor', 'Holm', 'Fair', 'Drew', 'Andr', '1960', 'wri', 'vely', 'uls', 'travel_', 'trat', 'transf', 'timi', 'suspen', 'struggling', 'spoil_', 'slaps', 'sink', 'reti', 'reaction_', 'quest_', 'pilot_', 'narration', 'invite', 'hearing_', 'gm', 'gai', 'full', 'frankly', 'fairy', 'expe', 'dimension', 'dent_', 'deme', 'contest', 'conscious', 'cked', 'below_', 'ations', 'angel', 'alive', 'absurd_', 'Wer', 'Tha', 'Stewar', 'Play', 'Picture', 'Part', 'Martin', 'Franc', 'Fir', 'Fas', 'Ev', 'Cos', 'Carre', 'Bog', 'BU', 'Anne_', 'yan', 'writ', 'vit', 'vai', 'summ', 'ston', 'stin', 'stif', 'sensitive', 'rules', 'provided_', 'prostitut', 'pretentious_', 'poignan', 'pai', 'paced_', 'offi', 'nds_', 'mig', 'laughable_', 'instal', 'inati', 'forget', 'eit', 'defend', 'conse', 'beaut', 'Spr', 'Rol', 'Our_', 'NOT', 'Lugosi', 'Luci', 'Las', 'Imp', 'Ic', 'Earl', 'Davis_', 'Cod', '!)', 'twiste', 'sincer', 'sacrifice', 'references_', 'range_', 'purchase', 'orn', 'noise', 'neo', 'mecha', 'lun', 'insult_', 'fully', 'flicks_', 'fair', 'endless_', 'eeri', 'devot', 'curious_', 'comical', 'beth_', 'begin', 'aura', 'ase_', 'ach_', 'Sullivan', 'St', 'Sarah', 'London', 'Liv', 'Kee', 'Jackie_', 'Hong', 'Emil', 'Clair', 'China', 'California', 'Atlant', 'Alice', '\"?', '!!!!!!', 'xico', 'wick', 'visi', 'viewed_', 'uish', 'tribu', 'theatrical_', 'talks_', 'smile_', 'seven', 'reminisce', 'relie', 'rci', 'rah', 'pleasant_', 'plague', 'picio', 'ounce', 'murdered_', 'mul', 'mous_', 'mock', 'mira', 'mete', 'loss_', 'initia', 'iest_', 'health', 'harde', 'gran', 'goal', 'ghe', 'fy', 'fix', 'experienced', 'edy', 'deci', 'conflict_', 'compe', 'committed', 'cele', 'brick', 'bour', 'bers', 'berate', 'artist_', 'anth', 'Woody_', 'WWI', 'V_', 'TT', 'Sunday', 'Story_', 'Rob_', 'Rachel', 'Nin', 'Gree', 'Friday', 'Dev', 'Bros', 'Brana', ' : ', 'wha', 'vig', 'views', 'unconvincing', 'smi', 'sibl', 'quen', 'pointless', 'perp', 'particular', 'overwhelm', 'offered', 'nominat', 'naturally', 'locke', 'left', 'lady', 'ilt', 'iel', 'ication', 'historic', 'haunting', 'gem_', 'figures', 'figured_', 'evol', 'ery', 'eco', 'dynami', 'duct', 'doi', 'description', 'cultural', 'contrac', 'confide', 'combined', 'coin', 'cke', 'chosen_', 'amed', 'agon', 'Thomas_', 'THI', 'Nation', 'MOVIE', 'Lev', 'Jeff', 'Hoffman', 'Glen', 'Even', '1st_', ' ! ', 'yu', 'trappe', 'thir', 'tension', 'tail', 'table', 'split', 'sides', 'settle', 'schem', 'save', 'ruc', 'prime', 'posit', 'painte', 'ndi', 'marry_', 'kun', 'killing', 'isol', 'iot', 'intend', 'impres', 'horribly_', 'hing', 'heroi', 'gle_', 'fri', 'fitt', 'fighter', 'estin', 'ee_', 'drunk_', 'directly', 'dinos', 'chose_', 'changing', 'blonde_', 'benefi', 'award_', 'av', 'aki', 'ages', 'acter', 'VERY_', 'Ur', 'Tel', 'Superman_', 'Real', 'Phi', 'Palm', 'Nicol', 'Johnson', 'Jesus_', 'J_', 'Hes', 'Helen', 'Fun', 'Fle', 'Dir', 'Chap', 'vag', 'uncon', 'ues', 'types_', 'tical', 'sprin', 'sorts', 'securi', 'previ', 'porno', 'party', 'pare', 'method', 'medica', 'mber', 'landscape', 'jor', 'jail', 'imper', 'hunter', 'happening', 'gritty', 'gain_', 'flaws_', 'fak', 'extra', 'edited_', 'ecc', 'dragg', 'chie', 'cant_', 'breast', 'authorit', 'ated', 'ality', 'advise', 'advan', 'according_', 'Wors', 'Unlike', 'United_', 'Simon_', 'Riv', 'Pea', 'Michell', 'Exp', 'Child', 'Cham', 'Bourne', 'Basi', 'widow', 'walked_', 'upp', 'unforg', 'uld_', 'tting', 'till_', 'thy_', 'talents_', 'suspenseful', 'summer_', 'storm', 'screening', 'scare_', 'realizes_', 'rce', 'raw', 'qu', 'ngl', 'magic', 'lac', 'jobs', 'ister_', 'inti', 'inha', 'ill_', 'hands', 'grin', 'forward', 'examin', 'equent', 'emi', 'contact', 'concentrat', 'compu', 'competen', 'biograph', 'attach', 'amus', 'alik', 'activi', 'William', 'Myst', 'Luke_', 'Live', 'Life_', '15', 'zes', 'werewolf', 'warne', 'uring_', 'trilogy', 'swim', 'stumble', 'spite', 'spends_', 'sleep_', 'sist', 'sentence', 'rma', 'reward', 'reviewer_', 'pul', 'preten', 'performed', 'passing', 'par_', 'oph', 'livi', 'kinds_', 'journal', 'isticat', 'inva', 'idi', 'ham_', 'fte', 'few', 'featured', 'ern_', 'eag', 'dollars', 'disb', 'depth', 'cryin', 'cross_', 'content', 'contemporary_', 'colors', 'chee', 'because', 'asy', 'agent_', 'Willi', 'Warr', 'Ven', 'Vamp', 'Roch', 'ONE', 'Movie', 'Mau', 'Mass', 'MST', 'Hin', 'Hear', 'Gue', 'Gl', 'Freddy_', 'Definite', 'Captain_', 'BBC', '??? ', '80s_', '\"), ', 'wol', 'weekend', 'vampires', 'underst', 'tial_', 'terrorist', 'strength_', 'starre', 'soldier_', 'snow', 'sity', 'ruin_', 'retar', 'resu', 'required', 'recommended', 'ques', 'propo', 'presents_', 'perm', 'overt', 'olds', 'occas', 'nn_', 'nen', 'nei', 'mail', 'lost', 'lion', 'libr', 'inner_', 'headed', 'happy', 'guest', 'govern', 'friendly', 'explains', 'ens_', 'effectively', 'draw_', 'downright', 'dete', 'dde', 'dare', 'cring', 'courag', 'conspi', 'comedie', 'claims_', 'cide', 'chas', 'captivat', 'bite', 'bare', 'author_', 'addition', 'Vid', 'Rh', 'Oliv', 'Nata', 'Mexican', 'Keaton_', 'Iron', 'Barb', 'ALL_', '12', '!), ', 'worthwhile', 'weake', 'ung', 'understood_', 'unbelievable', 'superf', 'stolen', 'stereotypic', 'spoiler', 'sight', 'scares', 'rut', 'remove', 'remotely_', 'releva', 'prese', 'poke', 'ndou', 'mbla', 'lucky_', 'lling_', 'legendary', 'imagery', 'humou', 'hug', 'hired', 'heck', 'guilty', 'extras', 'expected', 'everywhere', 'dry_', 'drea', 'directed', 'dimensional_', 'ddi', 'dden', 'communica', 'cham', 'buddy', 'bank_', 'azi', 'algi', 'adventures', 'accurate_', 'accompan', 'Thom', 'Still_', 'Someone', 'Serious', 'SU', 'Phill', 'Perso', 'Patrick_', 'Lei', 'Jus', 'Gho', 'Get_', 'Freeman', 'Especially_', '?).', '...\"']\n"
     ]
    }
   ],
   "source": [
    "# Print the subwords\n",
    "print(tokenizer_subwords.subwords)"
   ]
  },
  {
   "cell_type": "markdown",
   "id": "a092a483",
   "metadata": {},
   "source": [
    "* If you use it on the previous plain text sentence, you'll see that it won't have any OOVs even if it has a smaller vocab size (only 8k compared to 10k above):"
   ]
  },
  {
   "cell_type": "code",
   "execution_count": 14,
   "id": "0661f6af",
   "metadata": {},
   "outputs": [
    {
     "name": "stdout",
     "output_type": "stream",
     "text": [
      "[62, 18, 41, 604, 927, 65, 3, 644, 7968, 21, 35, 5096, 36, 11, 43, 2948, 5240, 102, 50, 681, 7862, 1244, 3, 3266, 29, 122, 640, 2, 26, 14, 279, 438, 35, 79, 349, 384, 11, 1991, 3, 492, 79, 122, 188, 117, 33, 4047, 4531, 14, 65, 7968, 8, 1819, 3947, 3, 62, 27, 9, 41, 577, 5044, 2629, 2552, 7193, 7961, 3642, 3, 19, 107, 3903, 225, 85, 198, 72, 1, 1512, 738, 2347, 102, 6245, 8, 85, 308, 79, 6936, 7961, 23, 4981, 8044, 3, 6429, 7961, 1141, 1335, 1848, 4848, 55, 3601, 4217, 8050, 2, 5, 59, 3831, 1484, 8040, 7974, 174, 5773, 22, 5240, 102, 18, 247, 26, 4, 3903, 1612, 3902, 291, 11, 4, 27, 13, 18, 4092, 4008, 7961, 6, 119, 213, 2774, 3, 12, 258, 2306, 13, 91, 29, 171, 52, 229, 2, 1245, 5790, 995, 7968, 8, 52, 2948, 5240, 8039, 7968, 8, 74, 1249, 3, 12, 117, 2438, 1369, 192, 39, 7975]\n",
      "This was an absolutely terrible movie. Don't be lured in by Christopher Walken or Michael Ironside. Both are great actors, but this must simply be their worst role in history. Even their great acting could not redeem this movie's ridiculous storyline. This movie is an early nineties US propaganda piece. The most pathetic scenes were those when the Columbian rebels were making their cases for revolutions. Maria Conchita Alonso appeared phony, and her pseudo-love affair with Walken was nothing but a pathetic emotional plug in a movie that was devoid of any real meaning. I am disappointed that there are movies like this, ruining actor's like Christopher Walken's good name. I could barely sit through it.\n"
     ]
    }
   ],
   "source": [
    "# Encode the first plaintext sentence using the subword text encoder\n",
    "tokenized_string = tokenizer_subwords.encode(training_sentences[0])\n",
    "print(tokenized_string)\n",
    "\n",
    "# Decode the sequence\n",
    "original_string = tokenizer_subwords.decode(tokenized_string)\n",
    "\n",
    "# Print the result\n",
    "print (original_string)"
   ]
  },
  {
   "cell_type": "markdown",
   "id": "11b859d7",
   "metadata": {},
   "source": [
    "* Subword encoding can even perform well on words that are not commonly found on movie reviews. See first the result when using the plain text tokenizer. As expected, it will show many OOVs:"
   ]
  },
  {
   "cell_type": "code",
   "execution_count": 15,
   "id": "992aaab8",
   "metadata": {},
   "outputs": [
    {
     "name": "stdout",
     "output_type": "stream",
     "text": [
      "Tokenized string is [[1, 37, 1, 6, 1]]\n",
      "The original string: ['<OOV> from <OOV> to <OOV>']\n"
     ]
    }
   ],
   "source": [
    "# Define sample sentence\n",
    "sample_string = 'TensorFlow, from basics to mastery'\n",
    "\n",
    "# Encode using the plain text tokenizer\n",
    "tokenized_string = tokenizer_plaintext.texts_to_sequences([sample_string])\n",
    "print ('Tokenized string is {}'.format(tokenized_string))\n",
    "\n",
    "# Decode and print the result\n",
    "original_string = tokenizer_plaintext.sequences_to_texts(tokenized_string)\n",
    "print ('The original string: {}'.format(original_string))"
   ]
  },
  {
   "cell_type": "markdown",
   "id": "a8133587",
   "metadata": {},
   "source": [
    "* Then compare to the subword text encoder:"
   ]
  },
  {
   "cell_type": "code",
   "execution_count": 16,
   "id": "4516bd1e",
   "metadata": {},
   "outputs": [
    {
     "name": "stdout",
     "output_type": "stream",
     "text": [
      "Tokenized string is [6307, 2327, 4043, 2120, 2, 48, 4249, 4429, 7, 2652, 8050]\n",
      "The original string: TensorFlow, from basics to mastery\n"
     ]
    }
   ],
   "source": [
    "# Encode using the subword text encoder\n",
    "tokenized_string = tokenizer_subwords.encode(sample_string)\n",
    "print ('Tokenized string is {}'.format(tokenized_string))\n",
    "\n",
    "# Decode and print the results\n",
    "original_string = tokenizer_subwords.decode(tokenized_string)\n",
    "print ('The original string: {}'.format(original_string))"
   ]
  },
  {
   "cell_type": "markdown",
   "id": "9a84f67a",
   "metadata": {},
   "source": [
    "* As you may notice, the sentence is correctly decoded. The downside is the token sequence is much longer. Instead of only 5 when using word-encoding, you ended up with 11 tokens instead. The mapping for this sentence is shown below:"
   ]
  },
  {
   "cell_type": "code",
   "execution_count": 17,
   "id": "43447f4e",
   "metadata": {},
   "outputs": [
    {
     "name": "stdout",
     "output_type": "stream",
     "text": [
      "6307 ----> Ten\n",
      "2327 ----> sor\n",
      "4043 ----> Fl\n",
      "2120 ----> ow\n",
      "2 ----> , \n",
      "48 ----> from \n",
      "4249 ----> basi\n",
      "4429 ----> cs \n",
      "7 ----> to \n",
      "2652 ----> master\n",
      "8050 ----> y\n"
     ]
    }
   ],
   "source": [
    "# Show token to subword mapping:\n",
    "for ts in tokenized_string:\n",
    "  print ('{} ----> {}'.format(ts, tokenizer_subwords.decode([ts])))"
   ]
  },
  {
   "cell_type": "markdown",
   "id": "31787a91",
   "metadata": {},
   "source": [
    "## Training the model\n",
    "\n",
    "You will now train your model using this pre-tokenized dataset. Since these are already saved as sequences, you can jump straight to making uniform sized arrays for the train and test sets. These are also saved as `tf.data.Dataset` type so you can use the [`padded_batch()`](https://www.tensorflow.org/api_docs/python/tf/data/Dataset#padded_batch) method to create batches and pad the arrays into a uniform size for training."
   ]
  },
  {
   "cell_type": "code",
   "execution_count": 18,
   "id": "77908d85",
   "metadata": {},
   "outputs": [],
   "source": [
    "BUFFER_SIZE = 10000\n",
    "BATCH_SIZE = 64\n",
    "\n",
    "# Get the train and test splits\n",
    "train_data, test_data = imdb_subwords['train'], imdb_subwords['test'], \n",
    "\n",
    "# Shuffle the training data\n",
    "train_dataset = train_data.shuffle(BUFFER_SIZE)\n",
    "\n",
    "# Batch and pad the datasets to the maximum length of the sequences\n",
    "train_dataset = train_dataset.padded_batch(BATCH_SIZE)\n",
    "test_dataset = test_data.padded_batch(BATCH_SIZE)"
   ]
  },
  {
   "cell_type": "code",
   "execution_count": 19,
   "id": "8254c573",
   "metadata": {},
   "outputs": [
    {
     "name": "stdout",
     "output_type": "stream",
     "text": [
      "Model: \"sequential\"\n",
      "_________________________________________________________________\n",
      " Layer (type)                Output Shape              Param #   \n",
      "=================================================================\n",
      " embedding (Embedding)       (None, None, 64)          523840    \n",
      "                                                                 \n",
      " global_average_pooling1d (G  (None, 64)               0         \n",
      " lobalAveragePooling1D)                                          \n",
      "                                                                 \n",
      " dense (Dense)               (None, 6)                 390       \n",
      "                                                                 \n",
      " dense_1 (Dense)             (None, 1)                 7         \n",
      "                                                                 \n",
      "=================================================================\n",
      "Total params: 524,237\n",
      "Trainable params: 524,237\n",
      "Non-trainable params: 0\n",
      "_________________________________________________________________\n"
     ]
    }
   ],
   "source": [
    "import tensorflow as tf\n",
    "\n",
    "# Define dimensionality of the embedding\n",
    "embedding_dim = 64\n",
    "\n",
    "# Build the model\n",
    "model = tf.keras.Sequential([\n",
    "    tf.keras.layers.Embedding(tokenizer_subwords.vocab_size, embedding_dim),\n",
    "    tf.keras.layers.GlobalAveragePooling1D(),\n",
    "    tf.keras.layers.Dense(6, activation='relu'),\n",
    "    tf.keras.layers.Dense(1, activation='sigmoid')\n",
    "])\n",
    "\n",
    "# Print the model summary\n",
    "model.summary()"
   ]
  },
  {
   "cell_type": "markdown",
   "id": "59436e4e",
   "metadata": {},
   "source": [
    "Similarly, you can use the same parameters for training. In Colab, it will take around 20 seconds per epoch (without an accelerator) and you will reach around 94% training accuracy and 88% validation accuracy."
   ]
  },
  {
   "cell_type": "code",
   "execution_count": 20,
   "id": "c9bdd5e9",
   "metadata": {},
   "outputs": [
    {
     "name": "stdout",
     "output_type": "stream",
     "text": [
      "Epoch 1/10\n",
      "391/391 [==============================] - 14s 34ms/step - loss: 0.6827 - accuracy: 0.5940 - val_loss: 0.6422 - val_accuracy: 0.7088\n",
      "Epoch 2/10\n",
      "391/391 [==============================] - 13s 33ms/step - loss: 0.5147 - accuracy: 0.8026 - val_loss: 0.4294 - val_accuracy: 0.8416\n",
      "Epoch 3/10\n",
      "391/391 [==============================] - 12s 31ms/step - loss: 0.3521 - accuracy: 0.8733 - val_loss: 0.3677 - val_accuracy: 0.8418\n",
      "Epoch 4/10\n",
      "391/391 [==============================] - 12s 30ms/step - loss: 0.2876 - accuracy: 0.8978 - val_loss: 0.3218 - val_accuracy: 0.8753\n",
      "Epoch 5/10\n",
      "391/391 [==============================] - 12s 30ms/step - loss: 0.2522 - accuracy: 0.9073 - val_loss: 0.3103 - val_accuracy: 0.8793\n",
      "Epoch 6/10\n",
      "391/391 [==============================] - 12s 30ms/step - loss: 0.2252 - accuracy: 0.9182 - val_loss: 0.3068 - val_accuracy: 0.8793\n",
      "Epoch 7/10\n",
      "391/391 [==============================] - 12s 30ms/step - loss: 0.2071 - accuracy: 0.9253 - val_loss: 0.3082 - val_accuracy: 0.8814\n",
      "Epoch 8/10\n",
      "391/391 [==============================] - 12s 31ms/step - loss: 0.1917 - accuracy: 0.9318 - val_loss: 0.3082 - val_accuracy: 0.8818\n",
      "Epoch 9/10\n",
      "391/391 [==============================] - 12s 30ms/step - loss: 0.1783 - accuracy: 0.9364 - val_loss: 0.3142 - val_accuracy: 0.8808\n",
      "Epoch 10/10\n",
      "391/391 [==============================] - 12s 30ms/step - loss: 0.1685 - accuracy: 0.9398 - val_loss: 0.3214 - val_accuracy: 0.8776\n"
     ]
    }
   ],
   "source": [
    "num_epochs = 10\n",
    "\n",
    "# Set the training parameters\n",
    "model.compile(loss='binary_crossentropy',optimizer='adam',metrics=['accuracy'])\n",
    "\n",
    "# Start training\n",
    "history = model.fit(train_dataset, epochs=num_epochs, validation_data=test_dataset)"
   ]
  },
  {
   "cell_type": "markdown",
   "id": "0763e2e1",
   "metadata": {},
   "source": [
    "## Visualize the results\n",
    "\n",
    "You can use the cell below to plot the training results. See if you can improve it by tweaking the parameters such as the size of the embedding and number of epochs."
   ]
  },
  {
   "cell_type": "code",
   "execution_count": 21,
   "id": "bd8cf72c",
   "metadata": {},
   "outputs": [
    {
     "data": {
      "image/png": "[encoded data removed]",
      "text/plain": [
       "<Figure size 640x480 with 1 Axes>"
      ]
     },
     "metadata": {},
     "output_type": "display_data"
    },
    {
     "data": {
      "image/png": "[encoded data removed]",
      "text/plain": [
       "<Figure size 640x480 with 1 Axes>"
      ]
     },
     "metadata": {},
     "output_type": "display_data"
    }
   ],
   "source": [
    "import matplotlib.pyplot as plt\n",
    "\n",
    "# Plot utility\n",
    "def plot_graphs(history, string):\n",
    "    plt.plot(history.history[string])\n",
    "    plt.plot(history.history['val_'+string])\n",
    "    plt.xlabel(\"Epochs\")\n",
    "    plt.ylabel(string)\n",
    "    plt.legend([string, 'val_'+string])\n",
    "    plt.show()\n",
    "\n",
    "# Plot the accuracy and results \n",
    "plot_graphs(history, \"accuracy\")\n",
    "plot_graphs(history, \"loss\")"
   ]
  },
  {
   "cell_type": "code",
   "execution_count": null,
   "id": "f62a438f",
   "metadata": {},
   "outputs": [],
   "source": []
  },
  {
   "cell_type": "code",
   "execution_count": null,
   "id": "3b040e4c",
   "metadata": {},
   "outputs": [],
   "source": []
  }
 ],
 "metadata": {
  "kernelspec": {
   "display_name": "Python 3 (ipykernel)",
   "language": "python",
   "name": "python3"
  },
  "language_info": {
   "codemirror_mode": {
    "name": "ipython",
    "version": 3
   },
   "file_extension": ".py",
   "mimetype": "text/x-python",
   "name": "python",
   "nbconvert_exporter": "python",
   "pygments_lexer": "ipython3",
   "version": "3.7.16"
  }
 },
 "nbformat": 4,
 "nbformat_minor": 5
}
